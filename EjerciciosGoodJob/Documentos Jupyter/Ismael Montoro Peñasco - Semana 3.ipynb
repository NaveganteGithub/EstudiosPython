{
  "metadata": {
    "kernelspec": {
      "name": "python",
      "display_name": "Python (Pyodide)",
      "language": "python"
    },
    "language_info": {
      "codemirror_mode": {
        "name": "python",
        "version": 3
      },
      "file_extension": ".py",
      "mimetype": "text/x-python",
      "name": "python",
      "nbconvert_exporter": "python",
      "pygments_lexer": "ipython3",
      "version": "3.8"
    }
  },
  "nbformat_minor": 4,
  "nbformat": 4,
  "cells": [
    {
      "cell_type": "markdown",
      "source": "## Funcion map",
      "metadata": {}
    },
    {
      "cell_type": "raw",
      "source": "1º Elevar al cuadrado: Dada una lista de números, crea una nueva lista que contenga cada número elevado al cuadrado. Por ejemplo:\n    Entrada: [2, 4, 6, 8]\n    Salida esperada: [4, 16, 36, 64]",
      "metadata": {}
    },
    {
      "cell_type": "code",
      "source": "lista = [2, 4, 6, 8]\n\ndef potencia(iterable):\n    return iterable ** 2\n\nresultado = list(map(potencia, lista))\nprint(resultado)",
      "metadata": {
        "trusted": true
      },
      "outputs": [
        {
          "name": "stdout",
          "text": "[4, 16, 36, 64]\n",
          "output_type": "stream"
        }
      ],
      "execution_count": 4
    },
    {
      "cell_type": "raw",
      "source": "2º Convertir a mayúsculas: Dada una lista de palabras, crea una nueva lista que contenga las mismas palabras en mayúsculas. Por ejemplo:\n    Entrada: ['hola', 'mundo', 'python']\n    Salida esperada: ['HOLA', 'MUNDO', 'PYTHON']",
      "metadata": {}
    },
    {
      "cell_type": "code",
      "source": "diccionario = ['hola', 'mundo', 'python']\n\ndef mayusculas(i):\n    return i.upper()\n\nresultado = list(map(mayusculas, diccionario))\nprint(resultado)",
      "metadata": {
        "trusted": true
      },
      "outputs": [
        {
          "name": "stdout",
          "text": "['HOLA', 'MUNDO', 'PYTHON']\n",
          "output_type": "stream"
        }
      ],
      "execution_count": 6
    },
    {
      "cell_type": "raw",
      "source": "3º Calcular longitudes de cadenas: Dada una lista de cadenas, crea una nueva lista que contenga la longitud de cada cadena. Por ejemplo:\n    Entrada: ['manzana', 'banana', 'kiwi']\n    Salida esperada: [7, 6, 4]",
      "metadata": {}
    },
    {
      "cell_type": "code",
      "source": "frutas = ['manzana', 'banana', 'kiwi']\n\nresultado = list(map(len, frutas))\nprint(resultado)",
      "metadata": {
        "trusted": true
      },
      "outputs": [
        {
          "name": "stdout",
          "text": "[7, 6, 4]\n",
          "output_type": "stream"
        }
      ],
      "execution_count": 8
    },
    {
      "cell_type": "raw",
      "source": "4º Duplicar elementos: Dada una lista de números, crea una nueva lista que contenga cada número duplicado. Por ejemplo:\n    Entrada: [1, 2, 3]\n    Salida esperada: [[1, 1], [2, 2], [3, 3]]",
      "metadata": {}
    },
    {
      "cell_type": "code",
      "source": "lista = [1, 2, 3]\n\ndef duplicar(i):\n    return [i, i]\n\nresultado = list(map(duplicar, lista))\nprint(resultado)",
      "metadata": {
        "trusted": true
      },
      "outputs": [
        {
          "name": "stdout",
          "text": "[[1, 1], [2, 2], [3, 3]]\n",
          "output_type": "stream"
        }
      ],
      "execution_count": 36
    },
    {
      "cell_type": "markdown",
      "source": "# Estructuras de datos y algoritmos",
      "metadata": {}
    },
    {
      "cell_type": "raw",
      "source": "1º Diccionario de frecuencias (collections.defaultdict): Dada una lista de palabras, crea un diccionario que cuente la frecuencia de cada palabra. Por ejemplo:\n    Entrada: ['manzana', 'banana', 'manzana', 'kiwi', 'banana']\n    Salida esperada: {'manzana': 2, 'banana': 2, 'kiwi': 1}",
      "metadata": {}
    },
    {
      "cell_type": "code",
      "source": "# https://python-para-impacientes.blogspot.com/2015/04/defaultdict-vs-setdefault.html\nfrom collections import defaultdict\nlista = ['manzana', 'banana', 'manzana', 'kiwi', 'banana']\n\ncoleccion = defaultdict(int)\n\ndef contar(fruta):\n    coleccion[fruta] += 1\n\nlist(map(contar, lista))\nprint(dict(coleccion))",
      "metadata": {
        "trusted": true
      },
      "outputs": [
        {
          "name": "stdout",
          "text": "{'manzana': 2, 'banana': 2, 'kiwi': 1}\n",
          "output_type": "stream"
        }
      ],
      "execution_count": 1
    },
    {
      "cell_type": "raw",
      "source": "2º Implementar una cola: Crea una clase MiCola que tenga los métodos push(item) para agregar un elemento al final y pop() para eliminar el primer elemento (FIFO). Puedes usar una lista o collections.deque",
      "metadata": {}
    },
    {
      "cell_type": "code",
      "source": "# https://docs.python.org/3/library/collections.html#deque-objects\nfrom collections import deque\n\nclass MiCola:\n    def __init__(self):\n        self.cola = deque()\n        \n    def push(self, item):\n        self.cola.append(item)\n        \n    def pop(self):\n        self.cola.popleft()\n\n    def get_cola(self):\n        return self.cola\n\ncola = MiCola()\n\ncola.push(2)\ncola.push(4)\nprint(\"1º\", cola.get_cola())\n\ncola.push(7)\ncola.push('l')\nprint(\"2º\", cola.get_cola())\n\ncola.push('p')\nprint(\"3º\", cola.get_cola())\n\ncola.pop()\nprint(\"4º\", cola.get_cola())",
      "metadata": {
        "trusted": true
      },
      "outputs": [
        {
          "name": "stdout",
          "text": "1º deque([2, 4])\n2º deque([2, 4, 7, 'l'])\n3º deque([2, 4, 7, 'l', 'p'])\n4º deque([4, 7, 'l', 'p'])\n",
          "output_type": "stream"
        }
      ],
      "execution_count": 2
    },
    {
      "cell_type": "raw",
      "source": "3º Eliminar duplicados: Dada una lista, crea una nueva lista sin duplicados. Puedes usar conjuntos o la función collections.Counter.\n    Entrada: [1, 2, 3, 2, 4, 1]\n    Salida esperada: [1, 2, 3, 4]",
      "metadata": {}
    },
    {
      "cell_type": "code",
      "source": "# https://docs.python.org/3/library/collections.html#collections.Counter\nfrom collections import Counter\n\nlista = [1, 2, 3, 2, 4, 1]\n\ncontar = Counter(lista)\nv_unicos = dict(contar).keys()\nprint(list(v_unicos))",
      "metadata": {
        "trusted": true
      },
      "outputs": [
        {
          "name": "stdout",
          "text": "[1, 2, 3, 4]\n",
          "output_type": "stream"
        }
      ],
      "execution_count": 1
    },
    {
      "cell_type": "raw",
      "source": "4º Encontrar el elemento más pequeño: Dada una lista de números, encuentra el número más pequeño utilizando el módulo heapq.",
      "metadata": {}
    },
    {
      "cell_type": "code",
      "source": "# https://www.geeksforgeeks.org/heap-queue-or-heapq-in-python/\n# https://docs.python.org/3/library/heapq.html#module-heapq\nimport heapq \n\nlista = [ 0, 1, -1, -2, 2, 3, 4]\nresultado = heapq.nsmallest(1, lista)\nprint(resultado)",
      "metadata": {
        "trusted": true
      },
      "outputs": [
        {
          "name": "stdout",
          "text": "[-2]\n",
          "output_type": "stream"
        }
      ],
      "execution_count": 19
    },
    {
      "cell_type": "raw",
      "source": "5º Escribe un programa que implemente el algoritmo de Dijkstra para encontrar el camino más corto en un grafo.",
      "metadata": {}
    },
    {
      "cell_type": "markdown",
      "source": "<p>Para empezar comenzare explicando lo que es un grafo, un grafo es un tipo de diagrama cerrado, en el cual solo hay vertices a modo de nodos, y aristas que son las lineas que conectan esos vertices, como si fuera un diagrama de una red malla. Estás aristas tienen un \"peso\" que no es nada más que un número entero positivo el cual indica que tan lejos esta un vertice de otro vertice, a mayor sea el número, mayor es \"peso\", es decir, la distancia entre dos vertices.</p>\n<p>Un grafo ponderado, es un conjunto de vertices y aristas que se conectan entre si, dando lugar, a caminos distintos para llegar un vertice (nodo) concreto desde un vertice inicial.</p>\n<p>El algoritmo Dijkstra es un algoritmo diseñado para trazar el camino más corto desde un vertice inicial hasta un vertice objetivo, para ello analiza todas las rutas posibles, con el fin de buscar la ruta más factible en cuanto a distancia, para ello se analiza el número de vertices, y el número de peso de cada arista entre vertices, con el fin de dar el menor numero de saltos a distancia más corta posible.</p>\n<p>Fue presentado en 1959, por su autor Edsger Dijkstra. El algoritmo Dijkstra se puede utilizar para diferentes cosas: Logistica, Trazado de Rutas IP, Google Maps, Big Data...</p>\n<p>Fuentes:</p>\n<ul>\n    <li><a href=\"https://www.youtube.com/watch?v=afrMWv8F3r8&list=PL6kQim6ljTJu44dsVeZifHHiuDC1MEZ7q&index=26&pp=iAQB\">S3.1- Introducción a los grafos ponderados</a></li>\n    <li><a href=\"https://www.youtube.com/watch?v=AJrKEY0eRuI&list=PL6kQim6ljTJu44dsVeZifHHiuDC1MEZ7q&index=27&pp=iAQB\">S3.2- Grafos ponderados</a></li>\n    <li><a href=\"https://www.youtube.com/watch?v=ABSUm8KRias&list=PL6kQim6ljTJu44dsVeZifHHiuDC1MEZ7q&index=28&pp=iAQB\">S3.3- Problema de los caminos más cortos</a></li>\n    <li><a href=\"https://www.youtube.com/watch?v=eLFEIxDEphA&list=PL6kQim6ljTJu44dsVeZifHHiuDC1MEZ7q&index=29&pp=iAQB\">S3.4- Algoritmo de Dijkstra</a></li>\n    <li><a href=\"https://www.youtube.com/watch?v=TzW1lNxJ2zk&list=PL6kQim6ljTJu44dsVeZifHHiuDC1MEZ7q&index=30&pp=iAQB\">S3.5- Aplicación del algoritmo de Dijkstra</a></li>\n</ul>",
      "metadata": {}
    },
    {
      "cell_type": "code",
      "source": "################### Ejemplo de uso ###################\ngraph = {\n    'A': {'B': 2, 'C': 3}, # Nodo de inicio\n    'B': {'C': 1, 'D': 5},\n    'C': {'D': 2},\n    'D': {} # Nodo final\n}\n\nstart_node = list(graph.keys())[0] # Nodo de inicio\nend_node = 'C'\n\n################### Dijkstra ###################\n\ndef dijkstra(graph, start_node) -> dict():\n    \"\"\"\n    Está es la funcion que usara el algorimo de Edsger Dijkstra,\n    con el fin de realizar un analisis de las rutas de todo el\n    grafo hasta llegar al nodo final indicado en el diccionario\n    \"\"\"\n    # Primero crearemos un diccionario en el que todas la claves tengan el valor de infinito (inf)\n    distances = {node: float('inf') for node in graph}\n    # Segundo indicaremos que a la clave con el nombre del nodo inicial se le asigne 0\n    # porque no hay que pasar por ninguna arista, dado que es el nodo inicial\n    distances[start_node] = 0\n    # Crearemos un set y un diccionario para los nodos visitados.\n    visited = set()\n    previous_nodes = {}\n\n    # Este bucle while recorrera todo el grafo, llegando a todos los nodos\n    while len(visited) < len(graph):\n        # Buscaremos el nodo mas cercano al nodo que se esta analizando \n        current_node = min((node for node in graph if node not in visited), key=distances.get)\n        visited.add(current_node) # Una vez analizado el nodo se registra como visitado\n\n        # Actualizamos las distancias para los nodos vecinos al nodo mas cercano al nodo analizado\n        for neighbor, weight in graph[current_node].items(): # Del nodo actual\n            new_distance = distances[current_node] + weight\n            if new_distance < distances[neighbor]:\n                distances[neighbor] = new_distance # Guardamos el peso entre el nodo anterior y nodo actual\n                previous_nodes[neighbor] = current_node # Guardamos el nodo visitado\n\n    return distances, previous_nodes\n\ndef print_shortest_paths(distances, previous_nodes, start_node, end_node) -> str:\n    \"\"\"\n    Este es una funcion para imprimir la ruta completa desde\n    el nodo inicial hasta el último.\n    \"\"\" \n    for node in distances:\n        path = [] # Creamos una lista para ir armando todo el path\n        current_node = node # Guardaremos el nodo actual en una variable auxiliar\n        # Recorremos todos los nodos, excetuando al nodo inicial, generando la ruta\n        while current_node != start_node:\n            path.append(current_node)\n            current_node = previous_nodes[current_node]\n        # Insertamos el nodo inicial\n        path.append(start_node)\n        # Como la ruta se construye de manera inversa la revertimos\n        path.reverse()\n\n        # Construimos la ruta con los pesos\n        route_with_weights = []\n        for i in range(len(path) - 1):\n            edge_weight = graph[path[i]][path[i + 1]]\n            route_with_weights.append(f\"{path[i]} --| {edge_weight}\")\n        route_with_weights.append(path[-1])\n\n        if node is end_node: # Cuando lleguemos al nodo final retornamos el valor\n            return f\"{' |--> '.join(route_with_weights)}\"\n\n# Usaremos el algoritmo de dijkstra para analizar el grafo\n# Normalmente se usa los arrays para representar los grafos\n# pero en este caso se utilizara los diccionarios\nshortest_distances, previous_nodes = dijkstra(graph, start_node)\n\n# Guardaremos la ruta en un formato legible y en un formato de lista\nruta = print_shortest_paths(shortest_distances, previous_nodes, start_node, end_node)\nruta_en_datos = [filtro for filtro in ruta.split(\" \") if filtro not in [\"--|\", \"|-->\"]]\n\nprint(f\"Formato legible: {ruta}\")\nprint(f\"Formato lista: {ruta_en_datos}\")",
      "metadata": {
        "trusted": true
      },
      "outputs": [
        {
          "name": "stdout",
          "text": "Formato legible: A --| 3 |--> C\nFormato lista: ['A', '3', 'C']\n",
          "output_type": "stream"
        }
      ],
      "execution_count": 5
    },
    {
      "cell_type": "raw",
      "source": "6º Implementar una pila con máximos: Crea una clase MiPila que tenga los métodos push(item) para agregar un elemento y get_max() para obtener el máximo elemento en la pila.",
      "metadata": {}
    },
    {
      "cell_type": "code",
      "source": "# https://es.wikipedia.org/wiki/Pila_(inform%C3%A1tica)\nclass MiPila:\n    def __init__(self, maximo):\n        self.pila = list()\n        self.maximo = maximo\n\n    def push(self, item):\n        if len(self.pila) < self.maximo:\n            self.pila.append(item)\n        else:\n            raise IndexError\n            \n    def get_max(self):\n        return self.maximo\n\n    def pop(self): # No viene incluido en el ejercicio, pero viene bien saberlo\n        if len(self.pila) > 0:\n            self.pila.pop()\n\n    def top(self):\n        return self.pila[len(self.pila) - 1]\n\npila = MiPila(3)\npila.push(4)\npila.push(3)\npila.push(1)\n# pila.push(1) # Si intentas utilizarlo dara una excepcion \nprint(\"Último objeto\", pila.top())\nprint(\"La pila tiene como maximo\", pila.get_max(), \"objetos\")\npila.pop()\nprint(\"Último objeto\", pila.top())\npila.push(2)\nprint(\"Último objeto\", pila.top())",
      "metadata": {
        "trusted": true
      },
      "outputs": [
        {
          "name": "stdout",
          "text": "Último objeto 1\nLa pila tiene como maximo 3 objetos\nÚltimo objeto 3\nÚltimo objeto 2\n",
          "output_type": "stream"
        }
      ],
      "execution_count": 45
    }
  ]
}