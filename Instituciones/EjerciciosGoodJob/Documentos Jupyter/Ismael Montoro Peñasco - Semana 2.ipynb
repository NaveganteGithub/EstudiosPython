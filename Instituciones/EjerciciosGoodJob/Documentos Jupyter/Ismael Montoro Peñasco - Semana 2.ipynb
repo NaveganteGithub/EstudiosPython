{
  "metadata": {
    "kernelspec": {
      "name": "python",
      "display_name": "Python (Pyodide)",
      "language": "python"
    },
    "language_info": {
      "codemirror_mode": {
        "name": "python",
        "version": 3
      },
      "file_extension": ".py",
      "mimetype": "text/x-python",
      "name": "python",
      "nbconvert_exporter": "python",
      "pygments_lexer": "ipython3",
      "version": "3.8"
    }
  },
  "nbformat_minor": 4,
  "nbformat": 4,
  "cells": [
    {
      "cell_type": "markdown",
      "source": "# AsyncIO",
      "metadata": {
        "jp-MarkdownHeadingCollapsed": true
      }
    },
    {
      "cell_type": "raw",
      "source": "1. Crea una corutina que imprima \"Hola\" después de un segundo, y otra que imprima \"Mundo\" después de dos segundos. Usa `asyncio.sleep` para simular el tiempo de espera. Crea un bucle de eventos y ejecuta las dos corutinas concurrentemente usando `asyncio.gather`.",
      "metadata": {}
    },
    {
      "cell_type": "code",
      "source": "import asyncio # Se importa la libreria asyncio\n\n\"\"\"\nDefinimos las corutinas con la palabra clave async, \nlas corutinas (en Javascript se les llama Promesas) \nson funciones de Python asíncronas que pueden \nsuspenderse y reanudarse.\n\"\"\"\nasync def hola(): # Definimos la corutina hola()\n    \"\"\"\n    La corutina hola imprimira la palabra \"Hola\" \n    despues de un segundo de espera \n    \"\"\"\n    \n    \"\"\"\n    await es una palabra clave de python que permite hacer que una corutina\n    espere a que se complete una operacion asincrona antes de seguir con el \n    codigo. Y la funcion sleep() de la libreria asyncio permite pausar la corutina.\n    Basicamente estamos diciendo espera a que sleep se termine de ejecutar\n    \"\"\"\n    await asyncio.sleep(1) # Dormimos la corutina\n    print(\"Hola\") # Imprimimos\n\nasync def mundo():\n    \"\"\"\n    La corutina mundo imprimira la palabra \"Mundo\" \n    despues de dos segundos de espera \n    \"\"\"\n    await asyncio.sleep(2)\n    print(\"Mundo\")\n\nasync def main():\n    # asyncio.gather permite ejecutar varias corutinas de forma concurrente\n    await asyncio.gather(hola(), mundo())\n\ntry:\n    # Creamos un instancia de un bucle eventos\n    bucle = asyncio.get_event_loop()\n    bucle.run_until_complete(main())\n    bucle.close()\nexcept NotImplementedError:\n    pass",
      "metadata": {
        "trusted": true
      },
      "outputs": [
        {
          "name": "stdout",
          "text": "Hola\nMundo\n",
          "output_type": "stream"
        }
      ],
      "execution_count": 1
    },
    {
      "cell_type": "raw",
      "source": "2. Modifica el ejercicio anterior para que las corutinas reciban un argumento con el mensaje a imprimir, y crea una lista con varios mensajes y tiempos de espera. Itera sobre la lista y crea una corutina para cada elemento, y luego ejecútalas concurrentemente con `asyncio.gather`.",
      "metadata": {}
    },
    {
      "cell_type": "code",
      "source": "# No hace falta importar la libreria asyncio puesto que ya la hemos importado en la anterior celda de codigo\n\nmensajes = [[\"Yo soy el Camino, la Verdad y la Vida. Nadie va al Padre sino por mí.\", 2], \n            [\"Si me conocéis a mí, conoceréis también a mi Padre; desde ahora lo conocéis y lo habéis visto.\", 1], \n            [\"Porque por tus palabras serás declarado justo y por tus palabras serás condenado.\", 5], # Tenemos que tener cuidado con lo que decimos\n            [\"Todo el que mira a una mujer deseándola, ya cometió adulterio con ella en su corazón.\", 1]]\n\nasync def menj1(mensaje: str = None, tiempo_espera: int = 1):\n    await asyncio.sleep(tiempo_espera)\n    print(mensaje) \n\nasync def menj2(mensaje: str = None, tiempo_espera: int = 1):\n    await asyncio.sleep(tiempo_espera)\n    print(mensaje)\n\nasync def main():\n    for mensaje in mensajes:\n        await asyncio.gather(menj1(mensaje[0], mensaje[1]), menj2(mensaje[0], mensaje[1]))\n\ntry:\n    bucle = asyncio.get_event_loop()\n    bucle.run_until_complete(main())\n    bucle.close()\nexcept NotImplementedError:\n    pass",
      "metadata": {
        "trusted": true
      },
      "outputs": [
        {
          "name": "stdout",
          "text": "Yo soy el Camino, la Verdad y la Vida. Nadie va al Padre sino por mí.\nYo soy el Camino, la Verdad y la Vida. Nadie va al Padre sino por mí.\nSi me conocéis a mí, conoceréis también a mi Padre; desde ahora lo conocéis y lo habéis visto.\nSi me conocéis a mí, conoceréis también a mi Padre; desde ahora lo conocéis y lo habéis visto.\nPorque por tus palabras serás declarado justo y por tus palabras serás condenado.\nPorque por tus palabras serás declarado justo y por tus palabras serás condenado.\nTodo el que mira a una mujer deseándola, ya cometió adulterio con ella en su corazón.\nTodo el que mira a una mujer deseándola, ya cometió adulterio con ella en su corazón.\n",
          "output_type": "stream"
        }
      ],
      "execution_count": 2
    },
    {
      "cell_type": "raw",
      "source": "3º Crea una función asincrónica que reciba una cola asyncio.Queue y ponga en ella los números del 1 al 10 con un segundo de intervalo. Crea otra función asincrónica que reciba la misma cola y saque los números de ella imprimiéndolos. Usa asyncio.create_task para crear dos tareas que ejecuten estas funciones concurrentemente.",
      "metadata": {}
    },
    {
      "cell_type": "code",
      "source": "# https://docs.python.org/es/3/library/asyncio-queue.html#examples\n# https://docs.python.org/3/library/asyncio-task.html#coroutines\n# https://docs.python.org/3/reference/compound_stmts.html#the-async-for-statement\n\nasync def poner(cola: asyncio.Queue):\n    for i in range(1, 10 + 1):\n        await cola.put(i) # Sirve para agregar un valor a cola\n\nasync def sacar(cola: asyncio.Queue):\n    for i in range(cola.qsize() + 1): # qsize() devuelve la longitud de la cola\n        valor = await cola.get() # get() sirve para recuperar el primer valor de la cola y lo elimina\n        print(valor)\n\nasync def main():\n    mi_cola = asyncio.Queue() # Creamos una Cola\n    tarea1 = asyncio.create_task(poner(mi_cola)) # Creamos una tarea para la corutina poner y la guardamos\n    tarea2 = asyncio.create_task(sacar(mi_cola)) # Creamos una tarea para la corutina sacar y la guardamos\n    await tarea1 # Ejecutamos la tarea con la corutina poner\n    await tarea2 # Ejecutamos la tarea con la corutina sacar\n\nawait main()",
      "metadata": {
        "trusted": true
      },
      "outputs": [
        {
          "name": "stdout",
          "text": "1\n2\n3\n4\n5\n6\n7\n8\n9\n10\n",
          "output_type": "stream"
        }
      ],
      "execution_count": null
    },
    {
      "cell_type": "raw",
      "source": "4º Crea una función asincrónica que reciba un iterador y lo consuma usando un bucle async for. Imprime cada elemento del iterador con un segundo de intervalo.",
      "metadata": {}
    },
    {
      "cell_type": "code",
      "source": "# https://superfastpython.com/asyncio-async-for/#Example_of_async_for_with_Asynchronous_Generator\n\nasync def iterar(iterador: iter):\n    # print(\"Hola\") # Curiosamente si realizamos instrucciones no asincronas funciona\n    for valor in iterador:\n        await asyncio.sleep(1)\n        yield valor\n\nasync def main():\n    lista = [5,2,7,8,9,2,1]\n    async for valor in iterar(lista):\n        print(valor)\n\nawait main()",
      "metadata": {
        "trusted": true
      },
      "outputs": [
        {
          "name": "stdout",
          "text": "5\n2\n7\n8\n9\n2\n1\n",
          "output_type": "stream"
        }
      ],
      "execution_count": 7
    },
    {
      "cell_type": "raw",
      "source": "5º Crea una clase asincrónica que represente un contador. La clase debe tener un método __init__ que reciba el valor inicial del contador, un método __aiter__ que devuelva un objeto asincrónico iterable, y un método __anext__ que incremente el contador en uno y lo devuelva. Si el contador supera el valor 10, el método __anext__ debe lanzar un StopAsyncIteration.",
      "metadata": {}
    },
    {
      "cell_type": "code",
      "source": "import asyncio\n\nclass contador:\n    def __init__(self, valor) -> None:\n        self.final = valor\n        self.inicial = 0\n\n    def __aiter__(self):\n        return self\n\n    async def __anext__(self):\n\n        valor_inicial = self.inicial\n        \n        if valor_inicial == self.final:\n            # print(\"Hola\") # La condicion se ejecuta justo antes de terminar la ejecucion de la clase\n            raise StopAsyncIteration\n            \n        self.inicial += 1\n            \n        return self.inicial\n\nasync def main():\n    async for i in contador(10):\n        print(i)\n\nif __name__ == \"__main__\":\n    await main()",
      "metadata": {
        "trusted": true
      },
      "outputs": [
        {
          "name": "stdout",
          "text": "1\n2\n3\n4\n5\n6\n7\n8\n9\n10\n",
          "output_type": "stream"
        }
      ],
      "execution_count": 32
    },
    {
      "cell_type": "markdown",
      "source": "# Multithreading",
      "metadata": {}
    },
    {
      "cell_type": "raw",
      "source": "6º Escribe un programa en Python que utilice dos hilos para contar desde 1 hasta un número pasado por parametro. Cada hilo debe imprimir los números en orden ascendente.",
      "metadata": {}
    },
    {
      "cell_type": "code",
      "source": "from threading import Thread\n\ndef contar(n):\n    for num in range(1, n + 1):\n        print(num)\n\nhilo_1 = Thread(target=contar, args=(7,))\nhilo_2 = Thread(target=contar, args=(5,))\n\nhilo_1.run()\nhilo_2.run()",
      "metadata": {
        "trusted": true
      },
      "outputs": [
        {
          "name": "stdout",
          "text": "1\n2\n3\n4\n5\n6\n7\n1\n2\n3\n4\n5\n",
          "output_type": "stream"
        }
      ],
      "execution_count": 16
    },
    {
      "cell_type": "raw",
      "source": "7º Crea una función que reciba una cadena de texto y devuelva el número de vocales que contiene. Usa el módulo threading para crear un hilo por cada vocal y contar el número de ocurrencias de esa vocal en la cadena. Usa un diccionario compartido para almacenar los resultados por cada vocal.",
      "metadata": {}
    },
    {
      "cell_type": "code",
      "source": "import threading\n\ncadena = \"Porque tres son los que dan testimonio en el cielo: el Padre, el Verbo y el Espíritu Santo; y estos tres son uno.\"\nvocales = ['a', 'e', 'i', 'o', 'u', 'á', 'é', 'í', 'ó', 'ú']\nvocales_encontradas = dict()\n\ndef procesar(cadena: str):\n    num_vocales = 0\n    cadena = cadena.lower()\n    \n    for caracter in cadena:\n        if caracter in vocales:\n            num_vocales += 1\n            vocales_encontradas[caracter] = 0\n            vocales.remove(caracter)\n\n    return num_vocales\n\ndef ocurrencias(cadena: str, caracter: str):\n    vocales_encontradas[caracter] = cadena.count(caracter)\n\nnum_hilos = procesar(cadena)\n\nfor num_hilo in range(num_hilos):\n    # https://es.stackoverflow.com/questions/549738/como-accedo-al-valor-de-una-key-de-un-diccionario-python\n    hilo = threading.Thread(target=ocurrencias, args=(cadena, list(vocales_encontradas.keys())[num_hilo]))\n    if 'get_ipython' in globals(): # Esta condicional sirve para saber si estamos en un entorno de Jupyter Notebook\n        hilo.run()\n    else: # Si estamos en otro entorno que no sea Jupyter Notebook, ejecutaremos el hilo de esta otra forma\n        temp.start()\n        \nprint(vocales_encontradas)",
      "metadata": {
        "trusted": true
      },
      "outputs": [
        {
          "name": "stdout",
          "text": "{'o': 11, 'u': 4, 'e': 14, 'a': 3, 'i': 4, 'í': 1}\n",
          "output_type": "stream"
        }
      ],
      "execution_count": 8
    },
    {
      "cell_type": "raw",
      "source": "8º Crea una clase que herede de threading.Thread y que represente un temporizador. La clase debe recibir en el constructor el tiempo en segundos que debe durar el temporizador y un nombre. El método run debe imprimir el nombre del temporizador y el tiempo restante cada segundo. Cuando el tiempo se agote, el método run debe imprimir un mensaje indicando que el temporizador ha terminado.",
      "metadata": {}
    },
    {
      "cell_type": "code",
      "source": "import time\nfrom threading import Thread\n\nclass temporizador(Thread): # Hereramos de la clase Thread\n    \n    def __init__(self, segundos: int, nombre: str) -> None:\n        super().__init__() # Llamamos al construtor de la clase Thread\n        self.tiempo = segundos\n        self.nombre = nombre\n        \n    def run(self): # Sobreescribimos el metodo run\n        for _ in range(self.tiempo):\n            time.sleep(1)\n            print(f\"El nombre del temporizador es {self.nombre}, el tiempo asignado es de {self.tiempo} segundos.\")\n\n        print(\"Se ha finalizado la ejecucion correctamente.\")\n\nif __name__ == \"__main__\":\n    temp = temporizador(7, \"Vida\")\n\n    if 'get_ipython' in globals():\n        temp.run()\n    else:\n        temp.start()",
      "metadata": {
        "trusted": true
      },
      "outputs": [
        {
          "name": "stdout",
          "text": "El nombre del temporizador es Vida, el tiempo asignado es de 7 segundos.\nEl nombre del temporizador es Vida, el tiempo asignado es de 7 segundos.\nEl nombre del temporizador es Vida, el tiempo asignado es de 7 segundos.\nEl nombre del temporizador es Vida, el tiempo asignado es de 7 segundos.\nEl nombre del temporizador es Vida, el tiempo asignado es de 7 segundos.\nEl nombre del temporizador es Vida, el tiempo asignado es de 7 segundos.\nEl nombre del temporizador es Vida, el tiempo asignado es de 7 segundos.\nSe ha finalizado la ejecucion correctamente.\n",
          "output_type": "stream"
        }
      ],
      "execution_count": 9
    },
    {
      "cell_type": "raw",
      "source": "9º Crea un programa que utilice un objeto Lock. Define una variable global (por ejemplo, contador) e inicialízala a cero. Luego, crea una función que incremente el contador en uno y lo imprima. Utiliza un bloqueo (Lock) para asegurarte de que solo un hilo pueda modificar el contador a la vez.",
      "metadata": {}
    },
    {
      "cell_type": "code",
      "source": "import threading\n\nmi_bloqueo = threading.Lock()\nglobal contador # global es una palabra clave de Python que nos permite declarar una variable global\ncontador = 0\n\ndef incrementar(bloqueo: threading.Lock):\n    global contador # Aqui llamamos a la variable global declarada anteriormente\n    bloqueo.acquire() # Con acquire bloqueamos el hilo bloqueamos, es decir, las posteriores ejecuciones del hilo\n    contador += 1\n    print(contador)\n    # bloqueo.release() # Con release desbloqueamos el hilo, es decir, permitimos que el hilo vuelva a ejecutarse\n\ntry:\n    hilo = Thread(target=incrementar, args=(mi_bloqueo,))\n    for _ in range(5):\n        hilo.run()\nexcept AttributeError: # Manejamos las excepcion que surge al intentar ejecutar 2 veces el hilo\n    pass",
      "metadata": {
        "trusted": true
      },
      "outputs": [
        {
          "name": "stdout",
          "text": "1\n",
          "output_type": "stream"
        }
      ],
      "execution_count": 15
    },
    {
      "cell_type": "raw",
      "source": "10º Importa el módulo queue de Python. Crea una cola (por ejemplo, cola_mensajes) utilizando queue.Queue(). Luego, crea dos funciones: una que encole mensajes en la cola y otra que desencole mensajes y los imprima. Ejecuta varios hilos que utilicen estas funciones para encolar y desencolar mensajes de la cola.",
      "metadata": {}
    },
    {
      "cell_type": "code",
      "source": "import queue\nimport threading\n\nmensajes = queue.Queue()\n\ndef encolar(mensaje: str, cola: queue.Queue):\n    cola.put(mensaje)\n\ndef desencolar(cola: queue.Queue):\n    mensaje = cola.get()\n    print(mensaje)\n\nhilos = list()\nhilo_1 = threading.Thread(target=encolar, args=(str(7),mensajes))\nhilo_1.run()\nhilo_2 = threading.Thread(target=desencolar, args=(mensajes,))\nhilo_2.run()\nhilo_3 = threading.Thread(target=encolar, args=(str(5),mensajes))\nhilo_3.run()\nhilo_4 = threading.Thread(target=encolar, args=(str(4),mensajes))\nhilo_4.run()\nhilo_5 = threading.Thread(target=desencolar, args=(mensajes,))\nhilo_5.run()",
      "metadata": {
        "trusted": true
      },
      "outputs": [
        {
          "name": "stdout",
          "text": "7\n5\n",
          "output_type": "stream"
        }
      ],
      "execution_count": 7
    }
  ]
}