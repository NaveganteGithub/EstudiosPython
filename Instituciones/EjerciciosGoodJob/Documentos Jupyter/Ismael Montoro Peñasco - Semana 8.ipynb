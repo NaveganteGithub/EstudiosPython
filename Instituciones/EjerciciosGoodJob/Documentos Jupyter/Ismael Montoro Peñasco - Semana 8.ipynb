{
 "cells": [
  {
   "cell_type": "raw",
   "id": "23a99474-20cb-40cc-b874-b15ae39e7940",
   "metadata": {},
   "source": [
    "1º Usa el objeto ABC, para crear una Clase Abstracta, y usa esa Clase Abstracta para realizar una interfaz con la que definir todas clases."
   ]
  },
  {
   "cell_type": "code",
   "execution_count": 9,
   "id": "e9bbd740-16db-44e6-ba5d-016406e99676",
   "metadata": {},
   "outputs": [
    {
     "name": "stdout",
     "output_type": "stream",
     "text": [
      "Red 255 0 0\n",
      "Azul (255, 0, 0)\n",
      "Green 0 255 0\n",
      "La clase 'rojo_infractor' incumple con la clase abstracta.\n"
     ]
    }
   ],
   "source": [
    "from abc import ABC, abstractmethod\n",
    "\n",
    "class color(ABC):\n",
    "    @abstractmethod\n",
    "    def rgb(self):\n",
    "        pass\n",
    "\n",
    "    @abstractmethod\n",
    "    def nombre(self):\n",
    "        pass\n",
    "    \n",
    "class rojo(color):\n",
    "    def __init__(self) -> None:\n",
    "        super().__init__()\n",
    "        self.name = \"Red\"\n",
    "        self.red = 255\n",
    "        self.green = 0\n",
    "        self.blue = 0\n",
    "\n",
    "    def rgb(self):\n",
    "        return self.red, self.green, self.blue\n",
    "\n",
    "    def nombre(self):\n",
    "        return self.name\n",
    "    \n",
    "class azul(color):\n",
    "    def __init__(self) -> None:\n",
    "        super().__init__()\n",
    "        self.name = \"Azul\"\n",
    "        self.blue = 255\n",
    "\n",
    "    def rgb(self):\n",
    "        return self.blue\n",
    "\n",
    "    def nombre(self):\n",
    "        return self.name\n",
    "    \n",
    "    def nivel_confianza(self, ajuste: int):\n",
    "        return 3 ** (self.blue // ajuste) * 2\n",
    "\n",
    "class personalizado(color):\n",
    "    def __init__(self, nomb: str, rgb: list) -> None:\n",
    "        super().__init__()\n",
    "        self.nombre_color = nomb\n",
    "        self.colores = rgb\n",
    "\n",
    "    def rgb(self):\n",
    "        return self.colores[0], self.colores[1], self.colores[2]\n",
    "\n",
    "    def nombre(self):\n",
    "        return self.nombre_color\n",
    "    \n",
    "red = rojo()\n",
    "blue = azul()\n",
    "custom = personalizado(\"Green\", [0, 255, 0])\n",
    "\n",
    "rgb_red, rgb_green, rgb_blue = red.rgb()\n",
    "print(red.nombre(), rgb_red, rgb_green, rgb_blue)\n",
    "\n",
    "print(blue.nombre(), red.rgb())\n",
    "\n",
    "print(custom.nombre(), custom.rgb()[0], custom.rgb()[1], custom.rgb()[2])\n",
    "\n",
    "class rojo_infractor(color):\n",
    "    def __init__(self) -> None:\n",
    "        super().__init__()\n",
    "        self.name = \"Red\"\n",
    "        self.red = 255\n",
    "        self.green = 0\n",
    "        self.blue = 0\n",
    "\n",
    "    def rgb(self):\n",
    "        return self.red, self.green, self.blue\n",
    "    \n",
    "try:\n",
    "    red_infractor = rojo_infractor()\n",
    "    print(rgb_red, rgb_green, rgb_blue)\n",
    "except TypeError:\n",
    "    print(\"La clase 'rojo_infractor' incumple con la clase abstracta.\")"
   ]
  },
  {
   "cell_type": "raw",
   "id": "8bf85d13-f369-4eca-a1ec-07b9f1064f5a",
   "metadata": {},
   "source": [
    "2º Copia un archivo .exe con Python."
   ]
  },
  {
   "cell_type": "code",
   "execution_count": 8,
   "id": "14528567-c96a-4065-99fd-46c820e36bc6",
   "metadata": {},
   "outputs": [
    {
     "name": "stdout",
     "output_type": "stream",
     "text": [
      "Archivo miktex.exe leido, el contenido es este:\n",
      "b'MZ\\x90\\x00\\x03\\x00\\x00\\x00\\x04\\x00\\x00\\x00\\xff\\xff\\x00\\x00\\xb8\\x00\\x00\\x00\\x00\\x00\\x00\\x00@'\n",
      "Archivo miktex.exe copiado.\n"
     ]
    }
   ],
   "source": [
    "array_bytes = None\n",
    "with open(\"miktex.exe\", \"rb\") as lectura:\n",
    "    array_bytes = lectura.read()\n",
    "    print(\"Archivo miktex.exe leido, el contenido es este:\", array_bytes[0:25], sep=\"\\n\")\n",
    "\n",
    "with open(\"miktex_2.exe\", \"wb\") as escritura:\n",
    "    escritura.write(array_bytes)\n",
    "    print(\"Archivo miktex.exe copiado.\")"
   ]
  },
  {
   "cell_type": "raw",
   "id": "4afd52c7-ac68-4787-b0a2-9c0b118fa0a8",
   "metadata": {},
   "source": [
    "3º Crea una base de datos con la libreria SQLite."
   ]
  },
  {
   "cell_type": "code",
   "execution_count": 1,
   "id": "8fa9ef8a-fd9d-448a-a310-8d9bece15c48",
   "metadata": {},
   "outputs": [
    {
     "name": "stdout",
     "output_type": "stream",
     "text": [
      "Base de datos creada.\n"
     ]
    }
   ],
   "source": [
    "import sqlite3\n",
    "\n",
    "try:\n",
    "    \n",
    "    conexion = sqlite3.connect(\"Informacion_Pokemon.sqlite\")\n",
    "    \n",
    "    conexion.execute(\"\"\"\n",
    "        Create table Movimiento (\n",
    "                     Nombre text primary key,\n",
    "                     Descripcion text,\n",
    "                     Puntos_Poder integer,\n",
    "                     Poder_Ataque integer,\n",
    "                     Precision integer,\n",
    "                     tipo text CHECK (tipo IN (\"normal\", \"fire\", \"water\", \"electric\", \n",
    "                                                 \"grass\", \"ice\", \"fighting\", \"poison\", \n",
    "                                                 \"ground\", \"flying\", \"psychic\", \"bug\", \n",
    "                                                 \"rock\", \"ghost\", \"dragon\", \"dark\", \"steel\", \n",
    "                                                 \"fairy\", \"???\")),\n",
    "                     Objetivo text\n",
    "        )\n",
    "    \"\"\")\n",
    "\n",
    "    conexion.close()\n",
    "\n",
    "    print(\"Base de datos creada.\")\n",
    "\n",
    "except sqlite3.OperationalError:\n",
    "    print(\"Error al crear la tablas.\")"
   ]
  },
  {
   "cell_type": "raw",
   "id": "52839af9-55e2-48cd-a9fa-858bdecd1aec",
   "metadata": {},
   "source": [
    "4º Intenta realizar una conexion a una API de internet con la libreria requests."
   ]
  },
  {
   "cell_type": "code",
   "execution_count": 6,
   "id": "6b8eb88a-1c94-42ca-8782-44e4ad5944e5",
   "metadata": {},
   "outputs": [
    {
     "name": "stdout",
     "output_type": "stream",
     "text": [
      "Poder Reserva | Acumula poder para golpear. Cuanto más suban  las características del usuario, mayor será el daño.  | psychic | 10 | 20 | 100 | selected-pokemon\n",
      "Anticipo | Protege a todo el equipo de los movimientos que  se adelantan y atacan primero. | fighting | 15 | None | None | users-field\n",
      "Cambio de Banda | Extraño poder que intercambia la posición del  usuario con la de un aliado sobre el terreno de  combate. | psychic | 15 | None | None | user\n",
      "Escaldar | Ataca arrojando agua hirviendo al objetivo. Puede causar quemaduras. | water | 15 | 80 | 100 | selected-pokemon\n",
      "Rompecoraza | El usuario rompe su coraza y baja su Defensa y Defensa Especial, pero aumenta mucho su Ataque,  Ataque Especial y Velocidad. | normal | 15 | None | None | user\n",
      "Pulso Cura | Una onda curativa restaura los PS del objetivo a la  mitad de su máximo. | psychic | 10 | None | None | selected-pokemon\n"
     ]
    }
   ],
   "source": [
    "import requests\n",
    "\n",
    "for id in range(500, 505 + 1):\n",
    "    movimiento = f\"https://pokeapi.co/api/v2/move/{id}\"\n",
    "    info_movimiento = requests.get(movimiento).json()\n",
    "    \n",
    "    name = info_movimiento['names'][5]['name']\n",
    "    descripcion_español = info_movimiento['flavor_text_entries'][15]['flavor_text']\n",
    "    tipo = info_movimiento['type']['name']\n",
    "    pp = info_movimiento['pp']\n",
    "    poder_ataque = info_movimiento['power']\n",
    "    precision = info_movimiento['accuracy']\n",
    "    objetivo = info_movimiento['target']['name']\n",
    "    \n",
    "    print(name, descripcion_español.replace(\"\\n\", \" \"), tipo, pp, poder_ataque, precision, objetivo, sep=\" | \")"
   ]
  },
  {
   "cell_type": "raw",
   "id": "2bf44157-0676-42b9-a520-d277310f0560",
   "metadata": {},
   "source": [
    "5º Intenta hacer un inserccion SQL a la base de datos de SQLite con los datos que hayas obtenido del anterior ejercicio."
   ]
  },
  {
   "cell_type": "code",
   "execution_count": 2,
   "id": "cd6c69dc-8432-4174-a0ca-55b2e8c89a22",
   "metadata": {},
   "outputs": [
    {
     "name": "stdout",
     "output_type": "stream",
     "text": [
      "Nombre: Poder Reserva\n",
      "\tDescripcion: Acumula poder para golpear. Cuanto más suban  las características del usuario, mayor será el daño.\n",
      "\tPuntos_Poder: 10\n",
      "\tPoder_Ataque: 20\n",
      "\tPrecision: 100\n",
      "\tTipo: psychic\n",
      "\tObjetivo: selected-pokemon\n",
      "Nombre: Anticipo\n",
      "\tDescripcion: Protege a todo el equipo de los movimientos que  se adelantan y atacan primero.\n",
      "\tPuntos_Poder: 15\n",
      "\tPoder_Ataque: None\n",
      "\tPrecision: None\n",
      "\tTipo: fighting\n",
      "\tObjetivo: users-field\n",
      "Nombre: Cambio de Banda\n",
      "\tDescripcion: Extraño poder que intercambia la posición del  usuario con la de un aliado sobre el terreno de  combate.\n",
      "\tPuntos_Poder: 15\n",
      "\tPoder_Ataque: None\n",
      "\tPrecision: None\n",
      "\tTipo: psychic\n",
      "\tObjetivo: user\n",
      "Nombre: Escaldar\n",
      "\tDescripcion: Ataca arrojando agua hirviendo al objetivo. Puede causar quemaduras.\n",
      "\tPuntos_Poder: 15\n",
      "\tPoder_Ataque: 80\n",
      "\tPrecision: 100\n",
      "\tTipo: water\n",
      "\tObjetivo: selected-pokemon\n",
      "Nombre: Rompecoraza\n",
      "\tDescripcion: El usuario rompe su coraza y baja su Defensa y Defensa Especial, pero aumenta mucho su Ataque,  Ataque Especial y Velocidad.\n",
      "\tPuntos_Poder: 15\n",
      "\tPoder_Ataque: None\n",
      "\tPrecision: None\n",
      "\tTipo: normal\n",
      "\tObjetivo: user\n",
      "Nombre: Pulso Cura\n",
      "\tDescripcion: Una onda curativa restaura los PS del objetivo a la  mitad de su máximo.\n",
      "\tPuntos_Poder: 10\n",
      "\tPoder_Ataque: None\n",
      "\tPrecision: None\n",
      "\tTipo: psychic\n",
      "\tObjetivo: selected-pokemon\n",
      "Filas insertadas.\n"
     ]
    }
   ],
   "source": [
    "diccionario_pokemon = {\n",
    "    \"Poder Reserva\": (\"Acumula poder para golpear. Cuanto más suban  las características del usuario, mayor será el daño.\", \"psychic\", 10, 20, 100, \"selected-pokemon\"),\n",
    "    \"Anticipo\": (\"Protege a todo el equipo de los movimientos que  se adelantan y atacan primero.\", \"fighting\", 15, None, None, \"users-field\"),\n",
    "    \"Cambio de Banda\": (\"Extraño poder que intercambia la posición del  usuario con la de un aliado sobre el terreno de  combate.\", \"psychic\", 15, None, None, \"user\"),\n",
    "    \"Escaldar\": (\"Ataca arrojando agua hirviendo al objetivo. Puede causar quemaduras.\", \"water\", 15, 80, 100, \"selected-pokemon\"),\n",
    "    \"Rompecoraza\": (\"El usuario rompe su coraza y baja su Defensa y Defensa Especial, pero aumenta mucho su Ataque,  Ataque Especial y Velocidad.\", \"normal\", 15, None, None, \"user\"),\n",
    "    \"Pulso Cura\": (\"Una onda curativa restaura los PS del objetivo a la  mitad de su máximo.\", \"psychic\", 10, None, None, \"selected-pokemon\")\n",
    "}\n",
    "\n",
    "try:\n",
    "    conexion = sqlite3.connect(\"Informacion_Pokemon.sqlite\")\n",
    "    \n",
    "    for movimiento, datos in diccionario_pokemon.items():\n",
    "        conexion.execute(\"insert into Movimiento (Nombre, Descripcion, Puntos_Poder, Poder_Ataque, Precision, tipo, Objetivo) values (?,?,?,?,?,?,?)\" , \n",
    "                         (movimiento, datos[0], datos[2], datos[3], datos[4], datos[1], datos[5]))\n",
    "    \n",
    "    conexion.commit()\n",
    "    conexion.close()\n",
    "    \n",
    "    conexion = sqlite3.connect(\"Informacion_Pokemon.sqlite\")\n",
    "    cursor_conexion = conexion.cursor()\n",
    "    cursor_conexion.execute(\"Select Nombre, Descripcion, Puntos_Poder, Poder_Ataque, Precision, tipo, Objetivo from Movimiento\")\n",
    "    filas = cursor_conexion.fetchall()\n",
    "\n",
    "    for fila in filas:\n",
    "        print(\"Nombre:\", fila[0])\n",
    "        print(\"\\tDescripcion:\", fila[1])\n",
    "        print(\"\\tPuntos_Poder:\", fila[2])\n",
    "        print(\"\\tPoder_Ataque:\", fila[3])\n",
    "        print(\"\\tPrecision:\", fila[4])\n",
    "        print(\"\\tTipo:\", fila[5])\n",
    "        print(\"\\tObjetivo:\", fila[6])\n",
    "        \n",
    "    conexion.close()\n",
    "    print(\"Filas insertadas.\")\n",
    "except sqlite3.OperationalError as error:\n",
    "    print(\"Fallos al insertar filas.\", error, sep=\"\\n\")"
   ]
  },
  {
   "cell_type": "raw",
   "id": "c9a2dfda-8915-4096-acaf-87766c1460d3",
   "metadata": {},
   "source": [
    "6º Usa la libreria typing para practicar el tipado estatico en Python."
   ]
  },
  {
   "cell_type": "code",
   "execution_count": 3,
   "id": "9db6b3d9-fa3c-4f9e-9707-edc968eb8077",
   "metadata": {},
   "outputs": [
    {
     "name": "stdout",
     "output_type": "stream",
     "text": [
      "<class 'set'> {3121232, 5234234, 5435635, 7674565}\n",
      "<class 'list'> ['Lucia', 'Daniel', 'Samuel', 'Adrian']\n",
      "<class 'dict'> {3121232: 'Lucia', 5234234: 'Daniel', 5435635: 'Samuel', 7674565: 'Adrian'}\n",
      "<class 'dict'> {3121232: 'Lucia', 5234234: 'Daniel', 5435635: 'Samuel', 7674565: 'Adrian'}\n",
      "<class 'list'> [{3121232: 'Lucia', 5234234: 'Daniel', 5435635: 'Samuel', 7674565: 'Adrian'}, {5164495: 'Andres', 5324452: 'Alejandro', 4848566: 'Carla', 8390128: 'Rafa'}, {4532644: 'Alex', 5326432: 'Jose', 6556115: 'Alfredo', 5198819: 'Diego'}]\n"
     ]
    }
   ],
   "source": [
    "# https://dev.to/geoannycode/conceptos-avanzados-de-python-para-ser-un-profesional-en-el-lenguaje-1l7o\n",
    "from typing import Dict, List, Set, Tuple\n",
    "\n",
    "ids: Tuple[int] = (3121232, 5234234, 5435635, 7674565)\n",
    "ids: Set[int] = {3121232, 5234234, 5435635, 7674565}\n",
    "nombres: List[int] = [\"Lucia\", \"Daniel\", \"Samuel\", \"Adrian\"]\n",
    "\n",
    "empleados: Dict[int, str] = {\n",
    "    3121232: \"Lucia\",\n",
    "    5234234: \"Daniel\", \n",
    "    5435635: \"Samuel\", \n",
    "    7674565: \"Adrian\"\n",
    "}\n",
    "\n",
    "empresa: List[Dict[int, str]] = [\n",
    "    {\n",
    "    3121232: \"Lucia\",\n",
    "    5234234: \"Daniel\", \n",
    "    5435635: \"Samuel\", \n",
    "    7674565: \"Adrian\"\n",
    "    },\n",
    "    {\n",
    "    5164495: \"Andres\",\n",
    "    5324452: \"Alejandro\", \n",
    "    4848566: \"Carla\", \n",
    "    8390128: \"Rafa\"\n",
    "    },\n",
    "    {\n",
    "    4532644: \"Alex\",\n",
    "    5326432: \"Jose\", \n",
    "    6556115: \"Alfredo\", \n",
    "    5198819: \"Diego\"\n",
    "    }\n",
    "]\n",
    "\n",
    "print(type(ids), ids)\n",
    "print(type(nombres), nombres)\n",
    "print(type(empleados), empleados)\n",
    "print(type(empresa[0]), empresa[0])\n",
    "print(type(empresa), empresa)"
   ]
  },
  {
   "cell_type": "raw",
   "id": "fe0a8d48-dfc0-4f67-8892-1744484e4b39",
   "metadata": {},
   "source": [
    "7º Practica el concepto de Scope en Python."
   ]
  },
  {
   "cell_type": "code",
   "execution_count": 8,
   "id": "31e1c253-d65a-491d-9656-46233a8bee7c",
   "metadata": {},
   "outputs": [
    {
     "name": "stdout",
     "output_type": "stream",
     "text": [
      "Variable 2\n",
      "Funcion 2\n",
      "Funcion 20000\n",
      "Variable 20000\n",
      "5\n",
      "La variable de la funcion es inaccesible.\n",
      "La variable del bloque es inaccesible.\n"
     ]
    }
   ],
   "source": [
    "\"\"\"\n",
    "El Scope es el alcance que tiene cada variable en Python,\n",
    "es decir, dependiendo de donde declares una variable, esta\n",
    "sera accesible desde todos los puntos de tu codigo o desde\n",
    "ciertos puntos muy concretos, dentro del Scope de Python tenemos\n",
    "varios niveles, y tu variable tendra un cierto nivel de acceso\n",
    "dependiendo de donde la declares.\n",
    "\n",
    "    0º Global: es cuando declaras una variable fuera de funciones o \n",
    "    bloques de código como while o if, este tipo de variables son\n",
    "    accesibles desde cualquier parte del fichero de Python.\n",
    "    1º Function: es cuando declaras una variable dentro de una funcion,\n",
    "    este tipo de variables son accesibles desde cualquier parte de la funcion \n",
    "    donde se declara.\n",
    "    2º Bloque: es cuando declaras una variable dentro de un bloque de código \n",
    "    como while o if, este tipo de variables solo son accesibles desde cualquier \n",
    "    parte del bloque de código.\n",
    "\n",
    "https://dev.to/geoannycode/conceptos-avanzados-de-python-para-ser-un-profesional-en-el-lenguaje-1l7o\n",
    "\"\"\"\n",
    "\n",
    "# Variables globales\n",
    "variable_global = 2\n",
    "def devolver_variable_global():\n",
    "    return variable_global\n",
    "\n",
    "print(\"Variable\", variable_global)\n",
    "print(\"Funcion\", devolver_variable_global())\n",
    "\n",
    "def variable_global_funcion():\n",
    "    global id # Puedes usar la palabra clave global para declarar una variable de dentro como una variable global\n",
    "    id = 20000\n",
    "    return id\n",
    "\n",
    "print(\"Funcion\", variable_global_funcion())\n",
    "print(\"Variable\", id)\n",
    "\n",
    "# Variables dentro de funciones\n",
    "def devolver_variable():\n",
    "    v_funcion = 5\n",
    "    return v_funcion\n",
    "\n",
    "print(devolver_variable())\n",
    "try:\n",
    "    print(v_funcion)\n",
    "except NameError:\n",
    "    print(\"La variable de la funcion es inaccesible.\")\n",
    "\n",
    "# Variables dentro de bloques\n",
    "condicion = False\n",
    "if condicion:\n",
    "    v_bloque = 4\n",
    "    print(v_bloque)\n",
    "\n",
    "try:\n",
    "    print(v_bloque)\n",
    "except NameError:\n",
    "    print(\"La variable del bloque es inaccesible.\")"
   ]
  },
  {
   "cell_type": "raw",
   "id": "30fdd516-820e-4591-b989-da78b78d52a4",
   "metadata": {},
   "source": [
    "8º Crea una funcion anidada (Nested Functions)."
   ]
  },
  {
   "cell_type": "code",
   "execution_count": 9,
   "id": "3a623a25-a0bd-45d2-8c39-8f0aad979f15",
   "metadata": {},
   "outputs": [
    {
     "name": "stdout",
     "output_type": "stream",
     "text": [
      "823543\n"
     ]
    }
   ],
   "source": [
    "# https://dev.to/geoannycode/conceptos-avanzados-de-python-para-ser-un-profesional-en-el-lenguaje-1l7o\n",
    "def mi_funcion(num: int):\n",
    "    resultado = num + 5\n",
    "    def mi_funcion_anidada(result: int):\n",
    "        resultado_anidado = result ** 7\n",
    "        return resultado_anidado\n",
    "\n",
    "    return mi_funcion_anidada(resultado)\n",
    "\n",
    "print(mi_funcion(2))"
   ]
  },
  {
   "cell_type": "raw",
   "id": "0cffec27-b972-4be0-af37-42213bac9e46",
   "metadata": {},
   "source": [
    "9º Trabaja con iteradores en Python con la funcion iter() y la funcion next()."
   ]
  },
  {
   "cell_type": "code",
   "execution_count": 1,
   "id": "d752c985-a594-40f1-9041-a7726ae87cce",
   "metadata": {},
   "outputs": [
    {
     "name": "stdout",
     "output_type": "stream",
     "text": [
      "<class 'list_iterator'>\n",
      "3121232\n",
      "5234234\n",
      "5435635\n",
      "7674565\n",
      "No hay más elementos\n"
     ]
    }
   ],
   "source": [
    "# https://dev.to/geoannycode/conceptos-avanzados-de-python-para-ser-un-profesional-en-el-lenguaje-1l7o\n",
    "lista = [3121232, 5234234, 5435635, 7674565]\n",
    "iterador = iter(lista)\n",
    "\n",
    "print(type(iterador))\n",
    "\n",
    "try:\n",
    "    for _ in range(5):\n",
    "        elemento_actual = next(iterador)\n",
    "        print(elemento_actual)\n",
    "except StopIteration:\n",
    "    print(\"No hay más elementos\")"
   ]
  },
  {
   "cell_type": "raw",
   "id": "d7a3cfea-0fa8-42f7-a336-e6bccd27ce42",
   "metadata": {},
   "source": [
    "10º Utiliza la palabra yield para generar una funcion que devuelva cinco valores consecutivos."
   ]
  },
  {
   "cell_type": "code",
   "execution_count": 2,
   "id": "026296c4-7ef0-4f87-9fc8-d56f8b9643b6",
   "metadata": {},
   "outputs": [
    {
     "name": "stdout",
     "output_type": "stream",
     "text": [
      "6\n",
      "7\n",
      "8\n",
      "9\n",
      "10\n",
      "La funcion no devulve mas valores\n"
     ]
    }
   ],
   "source": [
    "# https://dev.to/geoannycode/conceptos-avanzados-de-python-para-ser-un-profesional-en-el-lenguaje-1l7o\n",
    "def contar(inicio: int):\n",
    "    inicio += 1\n",
    "    yield inicio # yield es como return, pero con la diferencia de que si se vuelve a utilizar la funcion, esta continuara al siguiente yield \n",
    "    inicio += 1\n",
    "    yield inicio\n",
    "    inicio += 1\n",
    "    yield inicio\n",
    "    inicio += 1\n",
    "    yield inicio\n",
    "    inicio += 1\n",
    "    yield inicio\n",
    "\n",
    "valor = 5\n",
    "iterador = contar(valor)\n",
    "\n",
    "try:\n",
    "    for _ in range(valor + 1):\n",
    "        valor_actual = next(iterador)\n",
    "        print(valor_actual)\n",
    "except StopIteration:\n",
    "    print(\"La funcion no devulve mas valores\")"
   ]
  }
 ],
 "metadata": {
  "kernelspec": {
   "display_name": "Python 3 (ipykernel)",
   "language": "python",
   "name": "python3"
  },
  "language_info": {
   "codemirror_mode": {
    "name": "ipython",
    "version": 3
   },
   "file_extension": ".py",
   "mimetype": "text/x-python",
   "name": "python",
   "nbconvert_exporter": "python",
   "pygments_lexer": "ipython3",
   "version": "3.11.5"
  }
 },
 "nbformat": 4,
 "nbformat_minor": 5
}
