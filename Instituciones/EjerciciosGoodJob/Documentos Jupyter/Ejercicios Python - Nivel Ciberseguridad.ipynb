{
  "metadata": {
    "kernelspec": {
      "name": "python",
      "display_name": "Python (Pyodide)",
      "language": "python"
    },
    "language_info": {
      "codemirror_mode": {
        "name": "python",
        "version": 3
      },
      "file_extension": ".py",
      "mimetype": "text/x-python",
      "name": "python",
      "nbconvert_exporter": "python",
      "pygments_lexer": "ipython3",
      "version": "3.8"
    }
  },
  "nbformat_minor": 4,
  "nbformat": 4,
  "cells": [
    {
      "cell_type": "markdown",
      "source": "# Hashes y cifrados",
      "metadata": {
        "tags": [],
        "editable": true,
        "slideshow": {
          "slide_type": ""
        }
      }
    },
    {
      "cell_type": "markdown",
      "source": "## HASHES",
      "metadata": {}
    },
    {
      "cell_type": "raw",
      "source": "1º Crea tres funciones que generen un hash SHA256, la primera a partir de un archivo, la segunda a partir de una cadena texto, y la tercera a partir de un objeto o una clase de Python.",
      "metadata": {},
      "attachments": {}
    },
    {
      "cell_type": "code",
      "source": "",
      "metadata": {
        "trusted": true
      },
      "outputs": [],
      "execution_count": null
    },
    {
      "cell_type": "raw",
      "source": "2º Crea tres funciones que generen un hash SHA512, la primera a partir de un archivo, la segunda a partir de una cadena texto, y la tercera a partir de un objeto o una clase de Python.",
      "metadata": {},
      "attachments": {}
    },
    {
      "cell_type": "code",
      "source": "",
      "metadata": {
        "trusted": true
      },
      "outputs": [],
      "execution_count": null
    },
    {
      "cell_type": "raw",
      "source": "3º Crea tres funciones que generen un hash Whirlpool, la primera a partir de un archivo, la segunda a partir de una cadena texto, y la tercera a partir de un objeto o una clase de Python.",
      "metadata": {},
      "attachments": {}
    },
    {
      "cell_type": "code",
      "source": "",
      "metadata": {
        "trusted": true
      },
      "outputs": [],
      "execution_count": null
    },
    {
      "cell_type": "raw",
      "source": "4º Crea una funcion que genere un cifrado ROT13. Puedes buscar algunas referencias aqui:\n    https://es.wikipedia.org/wiki/ROT13",
      "metadata": {}
    },
    {
      "cell_type": "code",
      "source": "",
      "metadata": {
        "trusted": true
      },
      "outputs": [],
      "execution_count": null
    },
    {
      "cell_type": "raw",
      "source": "5º Crea una funcion recursiva, al que se le pasara una cadena, para realizar un hash recursivo, para ello, primero haz un hash de una cadena de texto, segundo mediante recursividad realiza otro hash a partir de hash generado a partir de la cadena, tercero realiza otro hash a partir del hash que has generado en el segundo paso, cuarto realiza otro hash sobre el ultimo hash generado y asi sucesivamente hasta alcanzar una recursividad de 7 de profundidad.",
      "metadata": {}
    },
    {
      "cell_type": "code",
      "source": "",
      "metadata": {
        "trusted": true
      },
      "outputs": [],
      "execution_count": null
    },
    {
      "cell_type": "markdown",
      "source": "# Codificaciones",
      "metadata": {}
    },
    {
      "cell_type": "raw",
      "source": "1º Crea tres funciones que generen una codificación BASE64, la primera a partir de un archivo, la segunda a partir de una cadena texto, y la tercera a partir de un objeto o una clase de Python.",
      "metadata": {}
    },
    {
      "cell_type": "code",
      "source": "",
      "metadata": {
        "trusted": true
      },
      "outputs": [],
      "execution_count": null
    },
    {
      "cell_type": "markdown",
      "source": "# Manejo de protocolos en internet",
      "metadata": {}
    },
    {
      "cell_type": "markdown",
      "source": "## HTTP y HTTPS",
      "metadata": {}
    },
    {
      "cell_type": "markdown",
      "source": "<p>Aqui tienes algunas referencias y ejemplos de codigo de la documentacion oficial de Python que puedes utilizar si quieres:</p>\n<ul>\n    <li>https://docs.python.org/es/3/library/http.client.html#examples</li>\n    <li>https://docs.python.org/3/library/http.html#http-status-codes</li>\n</ul>",
      "metadata": {}
    },
    {
      "cell_type": "raw",
      "source": "1º Realiza una peticion GET básica con Python.",
      "metadata": {}
    },
    {
      "cell_type": "code",
      "source": "",
      "metadata": {
        "trusted": true
      },
      "outputs": [],
      "execution_count": null
    },
    {
      "cell_type": "raw",
      "source": "2º Realiza una peticion POST básica con Python.",
      "metadata": {}
    },
    {
      "cell_type": "code",
      "source": "",
      "metadata": {
        "trusted": true
      },
      "outputs": [],
      "execution_count": null
    },
    {
      "cell_type": "raw",
      "source": "3º Realiza una peticion PUT básica con Python.",
      "metadata": {}
    },
    {
      "cell_type": "code",
      "source": "",
      "metadata": {
        "trusted": true
      },
      "outputs": [],
      "execution_count": null
    },
    {
      "cell_type": "raw",
      "source": "4º Realiza una peticion HEAD básica con Python.",
      "metadata": {}
    },
    {
      "cell_type": "code",
      "source": "",
      "metadata": {
        "trusted": true
      },
      "outputs": [],
      "execution_count": null
    },
    {
      "cell_type": "raw",
      "source": "5º Crea una funcion que reciba una URL, y realiza una peticion GET por protocolo HTTP si la direccion URL empieza con http, si la direccion URL empieza con https utiliza el protocolo HTTPS para hacer la petición GET.",
      "metadata": {}
    },
    {
      "cell_type": "code",
      "source": "",
      "metadata": {
        "trusted": true
      },
      "outputs": [],
      "execution_count": null
    },
    {
      "cell_type": "markdown",
      "source": "## DNS",
      "metadata": {}
    },
    {
      "cell_type": "raw",
      "source": "1º Realiza una peticion DNS con la libreria socket de python",
      "metadata": {}
    },
    {
      "cell_type": "markdown",
      "source": "## FTP",
      "metadata": {}
    },
    {
      "cell_type": "raw",
      "source": "1º Inicia sesión con Python en un servidor FTP público con un usuario accesible como Anonymous, lista el contenido de dentro, y cierra la sesión. Puedes encontrar referencias aquí: https://docs.python.org/es/3/library/ftplib.html",
      "metadata": {}
    },
    {
      "cell_type": "code",
      "source": "",
      "metadata": {
        "trusted": true
      },
      "outputs": [],
      "execution_count": null
    },
    {
      "cell_type": "raw",
      "source": "2º Lista el contenido de un servidor FTP, lista el directorio, elige por pantalla el archivo que vas a descargar, descargalo y una vez descargado finaliza la conexion con el servidor FTP.",
      "metadata": {}
    },
    {
      "cell_type": "code",
      "source": "",
      "metadata": {
        "trusted": true
      },
      "outputs": [],
      "execution_count": null
    },
    {
      "cell_type": "raw",
      "source": "3º Modifica el ejercicio anterior, para que solo puedas descargar archivos del servidor FTP y que tengan un hash SHA256 (puede ser que el hash este metido en un fichero de texto o un archivo .sha256), genera un hash SHA256 a partir del archivo descargado y comparalo con el hash del servidor, si ambos hashes son iguales, la descarga finaliza y finaliza la conexión, si los hashes NO son iguales, entonces se borra el archivo y finaliza la conexión.",
      "metadata": {}
    },
    {
      "cell_type": "code",
      "source": "",
      "metadata": {
        "trusted": true
      },
      "outputs": [],
      "execution_count": null
    },
    {
      "cell_type": "markdown",
      "source": "<h2>Correo electronico</h2>",
      "metadata": {}
    },
    {
      "cell_type": "markdown",
      "source": "<p>En esta sección aprenderemos a como utilizar los protocolo web de correo electronico. Adjunto a esta sección dejare algunas referencias.</p>\n<ul>\n    <li>Servidor:</li> \n    <ol><li>https://docs.python.org/es/3/library/smtplib.html#smtp-example</li></ol>\n    <li>Clientes:</li>\n    <ul>\n        <li>https://docs.python.org/es/3/library/imaplib.html</li>\n        <li>https://docs.python.org/es/3/library/poplib.html</li>\n    </ul>\n</ul>",
      "metadata": {}
    },
    {
      "cell_type": "raw",
      "source": "",
      "metadata": {}
    },
    {
      "cell_type": "code",
      "source": "",
      "metadata": {
        "trusted": true
      },
      "outputs": [],
      "execution_count": null
    },
    {
      "cell_type": "markdown",
      "source": "# Pentesting",
      "metadata": {}
    },
    {
      "cell_type": "markdown",
      "source": "<ul>\n    <li>https://tryhackme.com/room/pythonforcybersecurity</li>\n    <li>https://medium.com/@kumarishefu.4507/try-hack-me-python-for-pentesters-write-up-8d62d27072bd</li>\n</ul>",
      "metadata": {}
    },
    {
      "cell_type": "markdown",
      "source": "<b>Primero que nada, antes de empezar necesitamos instalar algunas librerias. Ejecuta la siguiente celda de codigo que contiene el comando pip install que sirve para instalar las librerias del repositorio de Python https://pypi.org/</b>",
      "metadata": {}
    },
    {
      "cell_type": "code",
      "source": "%pip install -q pyfiglet",
      "metadata": {
        "trusted": true
      },
      "outputs": [],
      "execution_count": 6
    },
    {
      "cell_type": "markdown",
      "source": "## Buenas practicas y adquisición de estilos",
      "metadata": {}
    },
    {
      "cell_type": "markdown",
      "source": "<p>No es obligatorio, pero facilitar el uso de nuestros scritps y su mantenmiento a los demás usuarios el tener buenas practicas y principios de estetica y orden, todo ello para hacer nuestros scripts más faciles de leer, ordenados, estructurados y simplificados. Para ello siempre hay que cuidar detalles como:</p>\n<ol>\n    <li>Seguir las convenciones tradicionales de todo codigo.</li>\n    <li>Respectar los estandares PEP8</li>\n    <li>Realizar banners de texto para indicar el titulo de nuestro programa.</li>\n</ol>",
      "metadata": {}
    },
    {
      "cell_type": "raw",
      "source": "1º Realiza un banner para que sea el titulo inicial de un script.",
      "metadata": {}
    },
    {
      "cell_type": "code",
      "source": "try:\n    import pyfiglet\nexcept ModuleNotFoundError:\n    pass",
      "metadata": {
        "trusted": true
      },
      "outputs": [],
      "execution_count": 5
    },
    {
      "cell_type": "markdown",
      "source": "## Enumeración y reconocimiento",
      "metadata": {}
    },
    {
      "cell_type": "markdown",
      "source": "<p>Enumerar no es nada mas ni nada menos que averiguar todo lo que podamos sobre el objetivo que queremos atacar.</p>\n<p>Realizar una buena labor de reconocimiento es crucial en el hacking, cuanto más sepamos de nuestro objetivo mayor será la probabilidad de hackeo.</p>\n<p>Como diria Sun Tzu \"Si conoces a los demás y te conoces a ti mismo, ni en cien batallas correrás peligro; si no conoces a los demás, pero te conoces a ti mismo, perderás un batalla y ganarás otra; si no conoces a los demás ni te conoces a ti mismo \ncorrerás peligro en cada batalla\"</p>",
      "metadata": {}
    },
    {
      "cell_type": "raw",
      "source": "1º Averigua la IP a traves de una dirección DNS.",
      "metadata": {}
    },
    {
      "cell_type": "code",
      "source": "",
      "metadata": {
        "trusted": true
      },
      "outputs": [],
      "execution_count": null
    },
    {
      "cell_type": "raw",
      "source": "2º Utiliza las librerias socket y sys para intentar conectarte a todos los puertos abiertos de una IP utilizando un bucle. Es una buena alternativa a la enumeración de puertos con Nmap.",
      "metadata": {}
    },
    {
      "cell_type": "code",
      "source": "import socket, sys",
      "metadata": {
        "trusted": true
      },
      "outputs": [],
      "execution_count": null
    },
    {
      "cell_type": "raw",
      "source": "3º Averigua el nombre de dominio de una máquina a traves de una dirección IP.",
      "metadata": {}
    },
    {
      "cell_type": "code",
      "source": "",
      "metadata": {
        "trusted": true
      },
      "outputs": [],
      "execution_count": null
    },
    {
      "cell_type": "raw",
      "source": "4º Utiliza lo aprendido en la subsección de HTTP y HTTPS, para crear un pequeño script que haga una peticion a varios subdominios de una direccion de dominio pasada por parametro. ",
      "metadata": {}
    },
    {
      "cell_type": "code",
      "source": "",
      "metadata": {
        "trusted": true
      },
      "outputs": [],
      "execution_count": null
    },
    {
      "cell_type": "markdown",
      "source": "## Reconocimiento de CVE´s",
      "metadata": {}
    },
    {
      "cell_type": "markdown",
      "source": "<p>Una vez realizada la enumeración, procederemos al reconocimiento de vulnerabilidades, ya sea por medio de CVE´s ya públicadas o por otros tipos de vulnerabilidades</p>",
      "metadata": {}
    },
    {
      "cell_type": "code",
      "source": "",
      "metadata": {
        "trusted": true
      },
      "outputs": [],
      "execution_count": null
    },
    {
      "cell_type": "markdown",
      "source": "## Creación de Reverse Shell y Bind Shell",
      "metadata": {}
    },
    {
      "cell_type": "markdown",
      "source": "<p>Para realizar una conexion con shell, se necesita que una maquina escuche y otra que reciba una instruccion que permita realizar una conexión con Shell</p>",
      "metadata": {}
    },
    {
      "cell_type": "markdown",
      "source": "# Creación de Exploits",
      "metadata": {}
    },
    {
      "cell_type": "markdown",
      "source": "<p>Para realizar cualquier Exploit se necesita un conocimiento profundo de las herramientas enumeradas anteriormente en la seccion de Enumeración y reconocimiento.</p>",
      "metadata": {}
    }
  ]
}