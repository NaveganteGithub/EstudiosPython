{
 "cells": [
  {
   "attachments": {},
   "cell_type": "markdown",
   "metadata": {},
   "source": [
    "# Tarea 1\n",
    "\n",
    "En esta primera tarea se resolverán ejercicios básicos de la teoría vista en el tema 3. Es recomendable utilizar el entorno web de JupyterLab aunque es posible también abrir el archivo en Visual Studio Code si se han instalado las extensiones de Python y Jupyter.\n",
    "En las celdas vacías se ha de escribir el código en Python correspondiente al enunciado con un breve comentario que explique lo que realiza el código (en las celdas de código es con un símbolo # al inicio de la línea). El ejercicio 0 es un ejemplo.\n",
    "Se pueden utilizar el atajo de teclado Shift + Enter para ejecutar una celda.\n",
    "\n",
    "La dificultad de los ejercicios está acorde con el alcance del curso, se pueden encontrar ejercicios más avanzados con solución si se quiere profundizar en alguno de los temas en https://w3resource.com/python-exercises/"
   ]
  },
  {
   "cell_type": "markdown",
   "metadata": {},
   "source": [
    "#### Ejercicio 0\n",
    "Escribir por pantalla \"Ejemplo de la tarea 1\"."
   ]
  },
  {
   "cell_type": "code",
   "execution_count": 1,
   "metadata": {},
   "outputs": [
    {
     "name": "stdout",
     "output_type": "stream",
     "text": [
      "Ejemplo de la tarea 1\n"
     ]
    }
   ],
   "source": [
    "# Imprime por pantalla la frase\n",
    "print(\"Ejemplo de la tarea 1\")"
   ]
  },
  {
   "attachments": {},
   "cell_type": "markdown",
   "metadata": {},
   "source": [
    "#### Ejercicio 1\n",
    "Escribir un programa que pregunte el nombre del usuario en la consola y después de que el usuario lo introduzca muestre por pantalla la cadena ¡Hola *nombre*!, donde *nombre* es el nombre que el usuario haya introducido."
   ]
  },
  {
   "cell_type": "code",
   "execution_count": 5,
   "metadata": {},
   "outputs": [
    {
     "name": "stdout",
     "output_type": "stream",
     "text": [
      "¡Hola Ismael!\n"
     ]
    }
   ],
   "source": [
    "# Pediremos los datos por la entrada de datos con input y se guardara en una variable\n",
    "username = input('¿Cual es tu nombre?')\n",
    "# Imprimirimos el contenido de la variable con el texto concatenado\n",
    "print(\"¡Hola \" + username + \"!\")"
   ]
  },
  {
   "cell_type": "markdown",
   "metadata": {},
   "source": [
    "#### Ejercicio 2\n",
    "Escribir un programa que lea un entero positivo *n*, introducido por el usuario y después muestre en pantalla la suma de todos los enteros desde 1 hast *n*. . La suma de los\n",
    " primeros enteros positivos puede ser calculacon la fórmula: suma = n*(n+1)/2rma"
   ]
  },
  {
   "cell_type": "code",
   "execution_count": 1,
   "metadata": {},
   "outputs": [
    {
     "name": "stdout",
     "output_type": "stream",
     "text": [
      "6\n"
     ]
    }
   ],
   "source": [
    "\"\"\" \n",
    "Cuando se escriba un numero se convertira de texto a un entero, \n",
    "y se asegurara de que no introduce un valor negativo con abs()\n",
    "\"\"\"\n",
    "entero = abs(int(input('Escribe un numero: ')))\n",
    "# Se realizara el calculo que solicita el ejercicio, pero sin dejar valores flotantes : n * (n + 1) / 2\n",
    "suma = entero * (entero + 1) // 2\n",
    "print(suma)"
   ]
  },
  {
   "cell_type": "markdown",
   "metadata": {},
   "source": [
    "#### Ejercicio 3\n",
    "Escribir un programa que pregunte una cantidad a invertir, el interés anual y el número de años, y muestre por pantalla el capital obtenido en la inversión."
   ]
  },
  {
   "cell_type": "code",
   "execution_count": 10,
   "metadata": {},
   "outputs": [
    {
     "name": "stdout",
     "output_type": "stream",
     "text": [
      "Capital obtenido 874.5031249999997\n"
     ]
    }
   ],
   "source": [
    "# Se pidiran los datos al usuario y se convertiran a valores enteros\n",
    "inversion_PV = int(input('¿Cual es la cantidad que se quiere invertir?'))\n",
    "interes_anual = int(input('¿Cual es el interes anual?'))\n",
    "tiempo = int(input('¿Cual es el número de años?'))\n",
    "\n",
    "\"\"\" \n",
    "Se realizara el calculo del capital obtenido\n",
    "\n",
    "FV = PV * (1 + r/n)^(n*t)\n",
    "\n",
    "FV = Future Value - Valor a futuro -> El valor obtenido\n",
    "PV = Present Value - Valor presente\n",
    "r = Tasa de interes anual\n",
    "n = Número de veces que se capitaliza el interés por año\n",
    "t = Número de años que se capitaliza el interés\n",
    "\n",
    "Teniendo en cuenta que esto es un programa Python sencillo, sin la libreria de NumPy,\n",
    "aplicara el calculo sin los redondeos que proporciona la libreria, con el metodo para\n",
    "calcular el interes compuesto, lo calculara directamente.\n",
    "\"\"\"\n",
    "capital_total_FV = inversion_PV * (1 + (interes_anual / 100) / 1) ** (1 * tiempo)\n",
    "\n",
    "# Se imprimira con formato\n",
    "print(f\"Capital obtenido {capital_total_FV}\")"
   ]
  },
  {
   "cell_type": "markdown",
   "metadata": {},
   "source": [
    "#### Ejercicio 4\n",
    "Escribir un programa que pregunte el nombre del usuario en la consola y después de que el usuario lo introduzca muestre por pantalla *NOMBRE* tiene *n* letras, donde *NOMBRE* es el nombre de usuario en mayúsculas y *n* es el número de letras que tienen el nombre."
   ]
  },
  {
   "cell_type": "code",
   "execution_count": 12,
   "metadata": {},
   "outputs": [
    {
     "name": "stdout",
     "output_type": "stream",
     "text": [
      "ISMAEL tiene 6 letras\n"
     ]
    }
   ],
   "source": [
    "# Se pedira el nombre y se pasara toda la cadena recogida a Mayúsculas y se guardara el valor en una variable\n",
    "nombre = input('¿Cual es tu nombre?').upper()\n",
    "# Se calculara la logitud de la cadena con la funcion len() y se guardara el valor en una variable\n",
    "n = len(nombre)\n",
    "print(f\"{nombre} tiene {n} letras\")"
   ]
  },
  {
   "cell_type": "markdown",
   "metadata": {},
   "source": [
    "#### Ejercicio 5\n",
    "Escribir un programa que pregunte por consola por los productos de una cesta de la compra, separados por comas, y muestre por pantalla cada uno de los productos en una línea distinta."
   ]
  },
  {
   "cell_type": "code",
   "execution_count": 47,
   "metadata": {},
   "outputs": [
    {
     "name": "stdout",
     "output_type": "stream",
     "text": [
      "Manzana\n",
      "Platano\n",
      "Pera\n"
     ]
    }
   ],
   "source": [
    "'''\n",
    "Se pedira la lista de productos a comprar separados con comas, ejemplo: Manzana,Platano,Pera\n",
    "Luego después se utilizara la funcion split, para separar los productos por el separador ','\n",
    "y crear una lista que se almacenara en una variable \n",
    "'''\n",
    "lista_productos = input('¿Que productos vas a comprar? (Introduce los productos separados por comas) ').split(sep=',')\n",
    "# Se imprimira los datos de la lista, y cada dato sera separado con un salto de linea\n",
    "print(*lista_productos, sep=\"\\n\")"
   ]
  },
  {
   "cell_type": "markdown",
   "metadata": {},
   "source": [
    "#### Ejercicio 6\n",
    "Para tributar un determinado impuesto se debe ser mayor de 16 años y tener unos ingresos iguales o superiores a 1000 € mensuales. Escribir un programa que pregunte al usuario su edad y sus ingresos mensuales y muestre por pantalla si el usuario tiene que tributar o no."
   ]
  },
  {
   "cell_type": "code",
   "execution_count": 46,
   "metadata": {},
   "outputs": [
    {
     "name": "stdout",
     "output_type": "stream",
     "text": [
      "Tiene que tributar\n"
     ]
    }
   ],
   "source": [
    "# Se pedira salario y la edad del usuario\n",
    "edad = int(input('¿Cual es tu edad? '))\n",
    "salario = int(input('¿Cual es tu salario?'))\n",
    "\n",
    "# Se creara una condicional para comprobar si la persona cumple con los requisitos que se piden\n",
    "if edad > 16 and salario >= 1000:\n",
    "    print(\"Tiene que tributar\")\n",
    "else:\n",
    "    print(\"No tiene que tributar\")"
   ]
  },
  {
   "cell_type": "markdown",
   "metadata": {},
   "source": [
    "#### Ejercicio 7\n",
    "Escribir un programa para una empresa que tiene salas de juegos para todas las edades y quiere calcular de forma automática el precio que debe cobrar a sus clientes por entrar. El programa debe preguntar al usuario la edad del cliente y mostrar el precio de la entrada. Si el cliente es menor de 4 años puede entrar gratis, si tiene entre 4 y 18 años debe pagar 5€ y si es mayor de 18 años, 10€."
   ]
  },
  {
   "cell_type": "code",
   "execution_count": null,
   "metadata": {},
   "outputs": [],
   "source": [
    "# Se pedira la edad del cliente\n",
    "edad = int(input(\"¿Que edad tiene el cliente? \"))\n",
    "\n",
    "# Se realizara una condicional para saber cuanto tiene que pagar\n",
    "if edad < 4:\n",
    "    print(\"La entrada es gratis\")\n",
    "elif edad >= 4 and edad <= 18:\n",
    "    print(\"La entrada cuesta 5 euros\")\n",
    "else:\n",
    "    print(\"La entrada cuesta 10 euros\")"
   ]
  },
  {
   "cell_type": "markdown",
   "metadata": {},
   "source": [
    "#### Ejercicio 8\n",
    "Escribir un programa que pregunte al usuario su edad y muestre por pantalla todos los años que ha cumplido (desde 1 hasta su edad)."
   ]
  },
  {
   "cell_type": "code",
   "execution_count": 105,
   "metadata": {},
   "outputs": [
    {
     "name": "stdout",
     "output_type": "stream",
     "text": [
      "Cumplistes 1, felicidades.\n",
      "Cumplistes 2, felicidades.\n",
      "Cumplistes 3, felicidades.\n",
      "Cumplistes 4, felicidades.\n",
      "Cumplistes 5, felicidades.\n",
      "Cumplistes 6, felicidades.\n",
      "Cumplistes 7, felicidades.\n",
      "Cumplistes 8, felicidades.\n",
      "Cumplistes 9, felicidades.\n",
      "Cumplistes 10, felicidades.\n",
      "Cumplistes 11, felicidades.\n",
      "Cumplistes 12, felicidades.\n",
      "Cumplistes 13, felicidades.\n",
      "Cumplistes 14, felicidades.\n",
      "Cumplistes 15, felicidades.\n",
      "Cumplistes 16, felicidades.\n",
      "Cumplistes 17, felicidades.\n",
      "Cumplistes 18, felicidades.\n",
      "Cumplistes 19, felicidades.\n",
      "Cumplistes 20, felicidades.\n"
     ]
    }
   ],
   "source": [
    "# Se pedira el dato al usuario\n",
    "edad = int(input(\"¿Que edad tienes? \"))\n",
    "\n",
    "''' \n",
    "Se creara un bucle con un rango que empezara por 1\n",
    "y terminara de ejecutarse cuando llegue a la edad \n",
    "del usuario\n",
    "'''\n",
    "for edades in range(1, (edad + 1)):\n",
    "    print(f\"Cumplistes {edades}, felicidades.\")"
   ]
  },
  {
   "cell_type": "markdown",
   "metadata": {},
   "source": [
    "#### Ejercicio 9\n",
    "Escribir un programa que pida al usuario un número entero positivo y muestre por pantalla todos los números impares desde 1 hasta ese número separados por comas."
   ]
  },
  {
   "cell_type": "code",
   "execution_count": 70,
   "metadata": {},
   "outputs": [
    {
     "name": "stdout",
     "output_type": "stream",
     "text": [
      "1,3,5,7,9,11,13,15,17,19,21,23\n"
     ]
    }
   ],
   "source": [
    "# Se pedira el dato\n",
    "num = int(input('Introduce un numero: '))\n",
    "'''\n",
    "Con range se creara un rango de numeros del 1 al numero introducido, que \n",
    "ira saltando los valores del rango de dos en dos empezando por  uno, es \n",
    "decir, primero ira el uno, se salta el dos, luego ira el tres, etc... \n",
    "\n",
    "Se creara una lista con ese rango con list().\n",
    "\n",
    "Se mostrara el contenido de la lista con * y el nombre de la lista.\n",
    "\n",
    "Con el parametro sep se separara cada numero con una coma. \n",
    "'''\n",
    "print(*list(range(1, num + 1, 2)), sep=\",\")"
   ]
  },
  {
   "cell_type": "markdown",
   "metadata": {},
   "source": [
    "#### Ejercicio 10\n",
    "Escribir un programa que pida al usuario un número entero positivo y muestre por pantalla la cuenta atrás desde ese número hasta cero separados por comas."
   ]
  },
  {
   "cell_type": "code",
   "execution_count": 109,
   "metadata": {},
   "outputs": [
    {
     "name": "stdout",
     "output_type": "stream",
     "text": [
      "20,19,18,17,16,15,14,13,12,11,10,9,8,7,6,5,4,3,2,1\n"
     ]
    }
   ],
   "source": [
    "num = int(input('Introduce un numero: '))\n",
    "print(*list(reversed(range(1, num + 1))), sep=\",\") # reversed() invierte el rango"
   ]
  },
  {
   "cell_type": "markdown",
   "metadata": {},
   "source": [
    "#### Ejercicio 11\n",
    "Escribir un programa que muestre por pantalla la tabla de multiplicar del 1 al 10."
   ]
  },
  {
   "cell_type": "code",
   "execution_count": 83,
   "metadata": {},
   "outputs": [
    {
     "name": "stdout",
     "output_type": "stream",
     "text": [
      "1 * 1 =  1\n",
      "1 * 2 =  2\n",
      "1 * 3 =  3\n",
      "1 * 4 =  4\n",
      "1 * 5 =  5\n",
      "1 * 6 =  6\n",
      "1 * 7 =  7\n",
      "1 * 8 =  8\n",
      "1 * 9 =  9\n",
      "1 * 10 =  10\n",
      "2 * 1 =  2\n",
      "2 * 2 =  4\n",
      "2 * 3 =  6\n",
      "2 * 4 =  8\n",
      "2 * 5 =  10\n",
      "2 * 6 =  12\n",
      "2 * 7 =  14\n",
      "2 * 8 =  16\n",
      "2 * 9 =  18\n",
      "2 * 10 =  20\n",
      "3 * 1 =  3\n",
      "3 * 2 =  6\n",
      "3 * 3 =  9\n",
      "3 * 4 =  12\n",
      "3 * 5 =  15\n",
      "3 * 6 =  18\n",
      "3 * 7 =  21\n",
      "3 * 8 =  24\n",
      "3 * 9 =  27\n",
      "3 * 10 =  30\n",
      "4 * 1 =  4\n",
      "4 * 2 =  8\n",
      "4 * 3 =  12\n",
      "4 * 4 =  16\n",
      "4 * 5 =  20\n",
      "4 * 6 =  24\n",
      "4 * 7 =  28\n",
      "4 * 8 =  32\n",
      "4 * 9 =  36\n",
      "4 * 10 =  40\n",
      "5 * 1 =  5\n",
      "5 * 2 =  10\n",
      "5 * 3 =  15\n",
      "5 * 4 =  20\n",
      "5 * 5 =  25\n",
      "5 * 6 =  30\n",
      "5 * 7 =  35\n",
      "5 * 8 =  40\n",
      "5 * 9 =  45\n",
      "5 * 10 =  50\n",
      "6 * 1 =  6\n",
      "6 * 2 =  12\n",
      "6 * 3 =  18\n",
      "6 * 4 =  24\n",
      "6 * 5 =  30\n",
      "6 * 6 =  36\n",
      "6 * 7 =  42\n",
      "6 * 8 =  48\n",
      "6 * 9 =  54\n",
      "6 * 10 =  60\n",
      "7 * 1 =  7\n",
      "7 * 2 =  14\n",
      "7 * 3 =  21\n",
      "7 * 4 =  28\n",
      "7 * 5 =  35\n",
      "7 * 6 =  42\n",
      "7 * 7 =  49\n",
      "7 * 8 =  56\n",
      "7 * 9 =  63\n",
      "7 * 10 =  70\n",
      "8 * 1 =  8\n",
      "8 * 2 =  16\n",
      "8 * 3 =  24\n",
      "8 * 4 =  32\n",
      "8 * 5 =  40\n",
      "8 * 6 =  48\n",
      "8 * 7 =  56\n",
      "8 * 8 =  64\n",
      "8 * 9 =  72\n",
      "8 * 10 =  80\n",
      "9 * 1 =  9\n",
      "9 * 2 =  18\n",
      "9 * 3 =  27\n",
      "9 * 4 =  36\n",
      "9 * 5 =  45\n",
      "9 * 6 =  54\n",
      "9 * 7 =  63\n",
      "9 * 8 =  72\n",
      "9 * 9 =  81\n",
      "9 * 10 =  90\n",
      "10 * 1 =  10\n",
      "10 * 2 =  20\n",
      "10 * 3 =  30\n",
      "10 * 4 =  40\n",
      "10 * 5 =  50\n",
      "10 * 6 =  60\n",
      "10 * 7 =  70\n",
      "10 * 8 =  80\n",
      "10 * 9 =  90\n",
      "10 * 10 =  100\n"
     ]
    }
   ],
   "source": [
    "# Se creara un for y un for anidado para realizar el calculo de todas las tablas de multiplicar\n",
    "for factor1 in range(1, 11):\n",
    "    for factor2 in range(1, 11):\n",
    "        print(f\"{factor1} * {factor2} = \", factor1 * factor2)"
   ]
  },
  {
   "cell_type": "markdown",
   "metadata": {},
   "source": [
    "#### Ejercicio 12\n",
    "Escribir un programa que almacene la cadena de caracteres contraseña en una variable, pregunte al usuario por la contraseña hasta que introduzca la contraseña correcta."
   ]
  },
  {
   "cell_type": "code",
   "execution_count": 110,
   "metadata": {},
   "outputs": [
    {
     "name": "stdout",
     "output_type": "stream",
     "text": [
      "Contraseña aceptada, accediendo...\n"
     ]
    }
   ],
   "source": [
    "# Se crearan las variables con sus valores\n",
    "password = \"Bienvenido\"\n",
    "authenticator = ''\n",
    "\n",
    "# Se creara un bucle el cual se repetira mientras el usuario falle el login \n",
    "while authenticator != password:\n",
    "    authenticator = input('Introduce la contraseña correcta: ')\n",
    "\n",
    "print(\"Contraseña aceptada, accediendo...\")\n"
   ]
  },
  {
   "cell_type": "markdown",
   "metadata": {},
   "source": [
    "#### Ejercicio 13\n",
    "Escribir un programa que muestre el eco de todo lo que el usuario introduzca hasta que el usuario escriba “salir” que terminará."
   ]
  },
  {
   "cell_type": "code",
   "execution_count": 3,
   "metadata": {},
   "outputs": [
    {
     "name": "stdout",
     "output_type": "stream",
     "text": [
      "lala\n",
      "pl\n",
      "pop\n"
     ]
    }
   ],
   "source": [
    "# Se creara un bucle infinito que solo parara cuando el usuario escriba \"salir\"\n",
    "while True:\n",
    "    eco = input('Escribe algo para hacer un eco o escribe \"salir\" para finalizar el programa: ')\n",
    "    if eco == \"salir\":\n",
    "        break\n",
    "    print(eco)\n"
   ]
  },
  {
   "cell_type": "markdown",
   "metadata": {},
   "source": [
    "#### Ejercicio 14\n",
    "Escribir un programa que pregunte al usuario los números ganadores de la lotería primitiva, los almacene en una lista y los muestre por pantalla ordenados de menor a mayor."
   ]
  },
  {
   "cell_type": "code",
   "execution_count": 113,
   "metadata": {},
   "outputs": [
    {
     "name": "stdout",
     "output_type": "stream",
     "text": [
      "32132\n",
      "48949\n",
      "58949\n"
     ]
    }
   ],
   "source": [
    "# Pedira los numeros de la loteria separados por comas, tal que así: 32132,48949,58949\n",
    "lista_num_loteria = input(\"¿Cuales son los numeros premiados?, escribelos separados por comas: \").split(',')\n",
    "\n",
    "# Se imprimira los numeros de manera ordenada\n",
    "print(*sorted(lista_num_loteria), sep=\"\\n\")"
   ]
  },
  {
   "cell_type": "markdown",
   "metadata": {},
   "source": [
    "#### Ejercicio 15\n",
    "Escribir un programa que almacene el abecedario en una lista, elimine de la lista las letras que ocupen posiciones múltiplos de 3, y muestre por pantalla la lista resultante."
   ]
  },
  {
   "cell_type": "code",
   "execution_count": 28,
   "metadata": {},
   "outputs": [
    {
     "name": "stdout",
     "output_type": "stream",
     "text": [
      "['a', 'b', 'd', 'e', 'g', 'h', 'j', 'k', 'm', 'n', 'p', 'q', 's', 't', 'v', 'w', 'y']\n"
     ]
    }
   ],
   "source": [
    "abecedario = list() # Se creara una lista vacia\n",
    "\n",
    "'''\n",
    "Se creara un bucle for que recorrera la tabla ascii desde \n",
    "el caracter 97 que es la letra a hasta el caracter 122 que \n",
    "es la letra z\n",
    "'''\n",
    "for i in range(97, 122):\n",
    "    abecedario.append(chr(i)) # Se almacenara cada caracter de la tabla dentro de la lista\n",
    "    if (i - 96) % 3 == 0: # y en caso de que la letra este en una posicion que sea multiple de 3\n",
    "        abecedario.pop() # eliminara la letra\n",
    "\n",
    "print(abecedario)"
   ]
  },
  {
   "cell_type": "markdown",
   "metadata": {},
   "source": [
    "#### Ejercicio 16\n",
    "Escribir un programa que pida al usuario una palabra y muestre por pantalla si es un palíndromo."
   ]
  },
  {
   "cell_type": "code",
   "execution_count": 52,
   "metadata": {},
   "outputs": [
    {
     "name": "stdout",
     "output_type": "stream",
     "text": [
      "ana es un palindromo.\n"
     ]
    }
   ],
   "source": [
    "# Se pedira la palabra a analizar\n",
    "palabra = input(\"Escribe una palabra: \")\n",
    "# Se invertira la palabra y se almacenara en una variable\n",
    "palindromo = ''.join(list(reversed(palabra)))\n",
    "\n",
    "# Se realizara una condicional para indicar si la palabra es un palíndromo o no\n",
    "if palabra == palindromo:\n",
    "    print(palindromo + \" es un palindromo.\") # ana, por ejemplo es un palíndromo\n",
    "else:\n",
    "    print(palabra + \" no es un palindromo.\") # pepe, por ejemplo no es un palíndromo\n"
   ]
  },
  {
   "cell_type": "markdown",
   "metadata": {},
   "source": [
    "#### Ejercicio 17\n",
    "Escribir una función que reciba un número entero positivo y devuelva su factorial."
   ]
  },
  {
   "cell_type": "code",
   "execution_count": 64,
   "metadata": {},
   "outputs": [
    {
     "name": "stdout",
     "output_type": "stream",
     "text": [
      "El factorial de 5 es 120\n"
     ]
    }
   ],
   "source": [
    "# Se pedira un dato numerico que debe de ser un entero\n",
    "num = abs(int(input(\"Escribe un numero: \")))\n",
    "\n",
    "# Se creara una funcion que a la que se le pasara por parametro el valor anterior\n",
    "def metodo_factorial(numero):\n",
    "    '''\n",
    "    En caso de que el número no sea 1 se activara la recursividad, \n",
    "    multiplicando el numero devuelto por el numero actual\n",
    "    '''\n",
    "    if numero != 1: \n",
    "        return metodo_factorial(numero - 1) * numero\n",
    "    \n",
    "    return 1 # En caso de que la recursividad llegue al final devolvera 1\n",
    "\n",
    "print(f\"El factorial de {num} es\", metodo_factorial(num))"
   ]
  },
  {
   "cell_type": "markdown",
   "metadata": {},
   "source": [
    "#### Ejercicio 18\n",
    "Escribir una función que calcule el área de un círculo y otra que calcule el volumen de un cilindro usando la primera función."
   ]
  },
  {
   "cell_type": "code",
   "execution_count": 114,
   "metadata": {},
   "outputs": [
    {
     "name": "stdout",
     "output_type": "stream",
     "text": [
      "El area del circulo es 78.5\n",
      "El volumen del cilindro 706.5\n"
     ]
    }
   ],
   "source": [
    "radio = int(input(\"Introduce el area del circulo: \"))\n",
    "\n",
    "# Esta funcion calculara el area del circulo y devolvera el resultado \n",
    "def area_circulo():\n",
    "    return 3.14 * radio ** 2\n",
    "\n",
    "'''\n",
    "Esta funcion preguntara al usuario la altura del cilindro y calculara el \n",
    "volumen del cilindro con la altura y el valor de la funcion anterior\n",
    "'''\n",
    "def volumen_cilindro():\n",
    "    altura = int(input(\"Introduce la altura del cilindro: \"))\n",
    "    return area_circulo() * altura\n",
    "\n",
    "print(f\"El area del circulo es {area_circulo()}\")\n",
    "print(f\"El volumen del cilindro {volumen_cilindro()}\")"
   ]
  },
  {
   "cell_type": "markdown",
   "metadata": {},
   "source": [
    "#### Ejercicio 19\n",
    "Escribir una función que reciba una muestra de números en una lista y devuelva su media."
   ]
  },
  {
   "cell_type": "code",
   "execution_count": 124,
   "metadata": {},
   "outputs": [
    {
     "name": "stdout",
     "output_type": "stream",
     "text": [
      "La media de los números [25, 15, 45, 95, 85, 35, 25] es 46.42857142857143\n"
     ]
    }
   ],
   "source": [
    "# Se crearan las variables\n",
    "factores_media = list()\n",
    "cont = 1\n",
    "suma = 0\n",
    "\n",
    "# Se creara un bucle que pedira números hasta que se escriba la palabra \"terminar\"\n",
    "while True:\n",
    "    factor = input(\"Introduce el factor \" + str(cont) + \", o terminar para terminar de introducir valores: \")\n",
    "    if factor.lower() == \"terminar\":\n",
    "        break\n",
    "\n",
    "    factores_media.append(int(factor))\n",
    "    cont += 1\n",
    "\n",
    "'''\n",
    "Se sumara los numeros de la lista con la funcion sum, se contara cuantos numeros hay en \n",
    "la lista con len y se dividira el resultado de ambas funciones para calcular la media\n",
    "'''\n",
    "media = sum(factores_media) / len(factores_media)\n",
    "\n",
    "\n",
    "print(f\"La media de los números {factores_media} es {media}\")"
   ]
  },
  {
   "cell_type": "markdown",
   "metadata": {},
   "source": [
    "#### Ejercicio 20\n",
    "Escribir una función que convierta un número decimal en binario y otra que convierta un número binario en decimal."
   ]
  },
  {
   "cell_type": "code",
   "execution_count": 131,
   "metadata": {},
   "outputs": [
    {
     "name": "stdout",
     "output_type": "stream",
     "text": [
      "El decimal a sido convertido a binario: 10100\n",
      "El binario a sido convertido a decimal: 20\n"
     ]
    }
   ],
   "source": [
    "'''\n",
    "La funcion para pasar a binario preguntara cual es el decimal a convertir \n",
    "a binario y luego retornara el numero convertido a binario con la funcion\n",
    "bin()\n",
    "'''\n",
    "def decimal_binario():\n",
    "    decimal = int(input(\"¿Cual es el decimal a convertir a binario? \"))\n",
    "    return bin(decimal)\n",
    "\n",
    "'''\n",
    "La funcion para pasar a decimal preguntara cual es el numero binario a convertir \n",
    "a decimal y luego retornara el numero convertido a binario con la funcion int()\n",
    "'''\n",
    "def binario_decimal():\n",
    "    binario = input(\"Introduce el número binario para convertirlo en decimal: \")\n",
    "    ''' \n",
    "    Ademas tiene esta condicional, para que en caso de que el \n",
    "    usuario no escriba el texto 0b al inicio de la cadena, que\n",
    "    es necesario para declarar que el numero es un binario, se\n",
    "    agregue al inicio de la cadena con una concatenacion.\n",
    "    '''\n",
    "    if binario not in '0b':\n",
    "        binario = '0b' + binario\n",
    "    return int(binario, base=0)\n",
    "\n",
    "print(\"El decimal a sido convertido a binario: \" + str(decimal_binario())[2:])\n",
    "print(\"El binario a sido convertido a decimal: \" + str(binario_decimal()))"
   ]
  }
 ],
 "metadata": {
  "kernelspec": {
   "display_name": "Python 3 (ipykernel)",
   "language": "python",
   "name": "python3"
  },
  "language_info": {
   "codemirror_mode": {
    "name": "ipython",
    "version": 3
   },
   "file_extension": ".py",
   "mimetype": "text/x-python",
   "name": "python",
   "nbconvert_exporter": "python",
   "pygments_lexer": "ipython3",
   "version": "3.11.4"
  }
 },
 "nbformat": 4,
 "nbformat_minor": 4
}
