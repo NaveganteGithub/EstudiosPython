{
  "metadata": {
    "kernelspec": {
      "name": "python",
      "display_name": "Python (Pyodide)",
      "language": "python"
    },
    "language_info": {
      "codemirror_mode": {
        "name": "python",
        "version": 3
      },
      "file_extension": ".py",
      "mimetype": "text/x-python",
      "name": "python",
      "nbconvert_exporter": "python",
      "pygments_lexer": "ipython3",
      "version": "3.8"
    }
  },
  "nbformat_minor": 4,
  "nbformat": 4,
  "cells": [
    {
      "cell_type": "markdown",
      "source": "# Preparacion inicial",
      "metadata": {}
    },
    {
      "cell_type": "code",
      "source": "%pip install -q gostcrypto",
      "metadata": {
        "trusted": true
      },
      "outputs": [],
      "execution_count": 12
    },
    {
      "cell_type": "code",
      "source": "import hashlib, gostcrypto, base64",
      "metadata": {
        "trusted": true
      },
      "outputs": [],
      "execution_count": 13
    },
    {
      "cell_type": "markdown",
      "source": "# Hashes",
      "metadata": {}
    },
    {
      "cell_type": "raw",
      "source": "1º Crea una funcion hash SHA256 a partir de una cadena texto.",
      "metadata": {},
      "attachments": {}
    },
    {
      "cell_type": "code",
      "source": "def sha256(texto = \"hello\") -> str:\n        return hashlib.sha256(texto.encode(encoding=\"utf-8\")).hexdigest()\n\nprint(sha256())\nprint(sha256(\"Hola\"))",
      "metadata": {
        "trusted": true
      },
      "outputs": [
        {
          "name": "stdout",
          "text": "2cf24dba5fb0a30e26e83b2ac5b9e29e1b161e5c1fa7425e73043362938b9824\ne633f4fc79badea1dc5db970cf397c8248bac47cc3acf9915ba60b5d76b0e88f\n",
          "output_type": "stream"
        }
      ],
      "execution_count": 15
    },
    {
      "cell_type": "raw",
      "source": "2º Crea una funcion hash SHA512 a partir de una cadena texto.",
      "metadata": {},
      "attachments": {}
    },
    {
      "cell_type": "code",
      "source": "def sha512(texto = \"hello\") -> str:\n        return hashlib.sha512(texto.encode(encoding=\"utf-8\")).hexdigest()\n\nprint(sha512())\nprint(sha512(\"Hola\"))",
      "metadata": {
        "trusted": true
      },
      "outputs": [
        {
          "name": "stdout",
          "text": "9b71d224bd62f3785d96d46ad3ea3d73319bfbc2890caadae2dff72519673ca72323c3d99ba5c11d7c7acc6e14b8c5da0c4663475c2e5c3adef46f73bcdec043\nc096860be238d7e0a6d3929c7ba06f468d3e6b7b28132ba48d553f845788c513004b1ec78758f24e9e1f006ae9a89651f80023f5505927a7aecd6529fa12c081\n",
          "output_type": "stream"
        }
      ],
      "execution_count": 8
    },
    {
      "cell_type": "raw",
      "source": "3º Crea una funcion hash gostcrypto a partir de una cadena texto.",
      "metadata": {},
      "attachments": {}
    },
    {
      "cell_type": "code",
      "source": "def gost(texto = \"hello\", modo: int = 0) -> str:\n    modos = ('streebog256', 'streebog512')\n    conversion_bytes = texto.encode()\n    gost_obj = gostcrypto.gosthash.new(modos[modo], data=conversion_bytes)\n    gost_hash = gost_obj.hexdigest()\n    return gost_hash\n\nprint(gost(\"Hola\"))\nprint(gost(\"Hola\", 1))",
      "metadata": {
        "trusted": true
      },
      "outputs": [
        {
          "name": "stdout",
          "text": "0751a3486f19e8b9e55b911f582b3520512606ba2b9b8c35f1d74f74b747a118\na7487b537aeee10fe67e7fad8f11eb193fa975368628599484dcac90bbd30544cbb7e624cb9077aab2257aa3fc4cf86403d6830aff2819238920183da1590f35\n",
          "output_type": "stream"
        }
      ],
      "execution_count": 20
    },
    {
      "cell_type": "markdown",
      "source": "# Encriptaciones",
      "metadata": {}
    },
    {
      "cell_type": "raw",
      "source": "4º Crea una funcion que genere un cifrado ROT13. Puedes buscar algunas referencias aqui:\n    https://es.wikipedia.org/wiki/ROT13",
      "metadata": {}
    },
    {
      "cell_type": "code",
      "source": "def busqueda(abecedario: tuple, letra: str):\n        posicion = -1\n        try:\n            posicion = abecedario.index(letra)\n        except:\n            pass\n            \n        return posicion\n        \n\ndef ROT13(cadena: str) -> str:\n    cifrado = \"\"\n    conversion = cadena.lower()\n    abecedario_1 = (\"a\",\"b\",\"c\",\"d\",\"e\",\"f\",\"g\",\"h\",\"i\",\"j\",\"k\",\"l\",\"m\")\n    abecedario_2 = (\"n\",\"o\",\"p\",\"q\",\"r\",\"s\",\"t\",\"u\",\"v\",\"w\",\"x\",\"y\",\"z\")\n    for caracter in conversion:\n        posicion_abecedario_1 = busqueda(abecedario_1, caracter)\n        posicion_abecedario_2 = busqueda(abecedario_2, caracter)\n        if posicion_abecedario_1 != -1:\n            cifrado += abecedario_2[posicion_abecedario_1]\n        elif posicion_abecedario_2 != -1:\n            cifrado += abecedario_1[posicion_abecedario_2]\n\n    return cifrado\n\nprint(ROT13(\"Hola\"))",
      "metadata": {
        "trusted": true
      },
      "outputs": [
        {
          "name": "stdout",
          "text": "ubyn\n",
          "output_type": "stream"
        }
      ],
      "execution_count": 11
    },
    {
      "cell_type": "raw",
      "source": "5º Crea una funcion que genere un cifrado atbash. Puedes buscar algunas referencias aqui:\n    https://es.wikipedia.org/wiki/Atbash",
      "metadata": {}
    },
    {
      "cell_type": "code",
      "source": "def busqueda(abecedario: tuple, letra: str):\n        posicion = -1\n        try:\n            posicion = abecedario.index(letra)\n        except:\n            pass\n            \n        return posicion\n    \ndef cifrado_atbash(texto: str = \"hello\"):\n    abecedario = [\"a\",\"b\",\"c\",\"d\",\"e\",\"f\",\"g\",\"h\",\"i\",\"j\",\"k\",\"l\",\"m\",\"n\",\"o\",\"p\",\"q\",\"r\",\"s\",\"t\",\"u\",\"v\",\"w\",\"x\",\"y\",\"z\"]\n    abecedario_invertido = list(reversed(abecedario))\n    \n    cifrado = \"\"\n    conversion = texto.lower()\n    \n    for caracter in conversion:\n        posicion_abecedario = busqueda(abecedario, caracter)\n        if posicion_abecedario != -1:\n            cifrado += abecedario_invertido[posicion_abecedario]\n    \n    return cifrado\n\nprint(cifrado_atbash())\nprint(cifrado_atbash(\"Hola\"))",
      "metadata": {
        "trusted": true
      },
      "outputs": [
        {
          "name": "stdout",
          "text": "svool\nsloz\n",
          "output_type": "stream"
        }
      ],
      "execution_count": 39
    },
    {
      "cell_type": "raw",
      "source": "6º Crea una funcion que genere un cifrado hill. Puedes buscar algunas referencias aqui:\n    https://es.wikipedia.org/wiki/Cifrado_Hill",
      "metadata": {}
    },
    {
      "cell_type": "code",
      "source": "def cifrado_hill(texto: str, matriz: list):\n    # https://es.wikipedia.org/wiki/Cifrado_Hill\n    # https://www.youtube.com/watch?v=ChOhsL-zvBo\n    abecedario = {'A': 0, 'B': 1, 'C': 2, 'D': 3, 'E': 4, 'F': 5, 'G': 6, \n                  'H': 7, 'I': 8, 'J': 9, 'K': 10, 'L': 11, 'M': 12, 'N': 13, \n                  'O': 14, 'P': 15, 'Q': 16, 'R': 17, 'S': 18, 'T': 19, 'U': 20, \n                  'V': 21, 'W': 22, 'X': 23, 'Y': 24, 'Z': 25, 'None': 26}\n\n    texto_mayusculas = texto.upper()\n\n    # Pasamos las letras a numeros\n    codificacion = list()\n    for caracter in texto_mayusculas:\n        codificacion.append(abecedario[caracter])\n\n    # Nos aseguramos que el numero de longitud de la cadena sea multiplo del tamaño de la matriz\n    while len(codificacion) % len(matriz[0]) != 0:\n        codificacion.append(26)\n\n    # Dividir la lista del mensaje (codificacion) en bloques, tal que la longitud de cada bloque sea igual al ancho de la fila de la matriz cuadrada\n    ancho_matriz = len(matriz[0])\n    codificacion = [codificacion[i:i + ancho_matriz] for i in range(0, len(codificacion), ancho_matriz)]\n\n    # Realizamos el calculo de matrices. A Bloques de codificacion y B seria la matriz cuadrada.\n    a_rows, a_cols = len(codificacion), len(codificacion[0])\n    b_rows, b_cols = len(matriz), len(matriz[0])\n    c = [[0 for _ in range(b_cols)] for _ in range(a_rows)]\n      \n    for i in range(a_rows):\n        for j in range(b_cols):\n            for k in range(a_cols):\n                c[i][j] += codificacion[i][k] * matriz[k][j]\n        \n    # Convertirmos la matriz c en el texto cifrado\n    return \"\".join(chr(numero) for sublist in c for numero in sublist)\n\ndef descifrado_hill(texto_cifrado: str, matriz: list):\n        \n    def calcular_determinante(matriz):\n        return matriz[0][0] * matriz[1][1] - matriz[0][1] * matriz[1][0]\n\n    def calcular_matriz_inversa(matriz):\n        det = calcular_determinante(matriz)\n        if det == 0:\n            raise ValueError(\"La matriz no es invertible (determinante igual a 0)\")\n\n        inversa = [[matriz[1][1] / det, -matriz[0][1] / det],\n                  [-matriz[1][0] / det, matriz[0][0] / det]]\n        return inversa\n        \n    caracteres_cifrado = list(texto_cifrado)\n    cifrado = [ord(caracter) for caracter in caracteres_cifrado]\n        \n    ancho_matriz = len(matriz[0])\n    codificacion = [cifrado[i:i + ancho_matriz] for i in range(0, len(cifrado), ancho_matriz)]\n        \n    matriz_inversa = calcular_matriz_inversa(matriz)\n        \n    mensaje_original = []\n    for fila in codificacion:\n        fila_original = [round(fila[0] * matriz_inversa[0][0] + fila[1] * matriz_inversa[1][0]),\n                         round(fila[0] * matriz_inversa[0][1] + fila[1] * matriz_inversa[1][1])]\n            \n        if 26 in fila_original:\n            fila_original.remove(26)\n\n        mensaje_original.extend(fila_original)\n\n    abecedario = 'ABCDEFGHIJKLMNOPQRSTUVWXYZ'\n    mensaje_descifrado = ''.join(abecedario[numero % 26] for numero in mensaje_original)\n    return mensaje_descifrado\n\nmatriz_cuadrada_2_2 = [[12, 23], [14, 7]] # Siempre numeros menores a 26\nmatriz_cuadrada_2_2 = [[21, 3], [5, 7]] # Siempre numeros menores a 26\n\ntexto_cifrado = cifrado_hill(\"Hola\", matriz_cuadrada_2_2)\nprint(f\"Cifrado de la cadena Buscar -\", texto_cifrado)\ntexto_descifrado = descifrado_hill(texto_cifrado, matriz_cuadrada_2_2)\nprint(f\"Descifrado de la cadena Buscar -\", texto_descifrado)",
      "metadata": {
        "trusted": true
      },
      "outputs": [
        {
          "name": "stdout",
          "text": "Cifrado de la cadena Buscar - Ùwç!\nDescifrado de la cadena Buscar - HOLA\n",
          "output_type": "stream"
        }
      ],
      "execution_count": 6
    },
    {
      "cell_type": "markdown",
      "source": "# Codificaciones",
      "metadata": {}
    },
    {
      "cell_type": "raw",
      "source": "7º Crea una funcion que genere una codificación BASE64 a partir de una cadena texto.",
      "metadata": {}
    },
    {
      "cell_type": "code",
      "source": "def codificar_base64(texto = \"hello\") -> bytes:\n    codificacion = texto.encode()\n    paso_bytes = bytes(codificacion)\n    return base64.b64encode(paso_bytes)\n\nprint(codificar_base64())\nprint(codificar_base64(\"Hola\"))",
      "metadata": {
        "trusted": true
      },
      "outputs": [
        {
          "name": "stdout",
          "text": "b'aGVsbG8='\nb'SG9sYQ=='\n",
          "output_type": "stream"
        }
      ],
      "execution_count": 9
    },
    {
      "cell_type": "raw",
      "source": "8º Crea una funcion que genere una codificación BASE32 a partir de una cadena texto.",
      "metadata": {}
    },
    {
      "cell_type": "code",
      "source": "def codificar_base64(texto = \"hello\") -> bytes:\n    codificacion = texto.encode()\n    paso_bytes = bytes(codificacion)\n    return base64.b32encode(paso_bytes)\n\nprint(codificar_base64())\nprint(codificar_base64(\"Hola\"))",
      "metadata": {
        "trusted": true
      },
      "outputs": [
        {
          "name": "stdout",
          "text": "b'NBSWY3DP'\nb'JBXWYYI='\n",
          "output_type": "stream"
        }
      ],
      "execution_count": 10
    },
    {
      "cell_type": "raw",
      "source": "9º Crea una funcion que genere una codificación BASE16 a partir de una cadena texto.",
      "metadata": {}
    },
    {
      "cell_type": "code",
      "source": "def codificar_base16(texto = \"hello\") -> bytes:\n        \"\"\"\n        Con esta funcion codificas \n        el texto en base hexadecimal\n        \"\"\"\n        codificacion = texto.encode()\n        paso_bytes = bytes(codificacion)\n        return base64.b16encode(paso_bytes)\n    \nprint(codificar_base16())\nprint(codificar_base16(\"Hola\"))",
      "metadata": {
        "trusted": true
      },
      "outputs": [
        {
          "name": "stdout",
          "text": "b'68656C6C6F'\nb'486F6C61'\n",
          "output_type": "stream"
        }
      ],
      "execution_count": 14
    },
    {
      "cell_type": "raw",
      "source": "10º Crea una funcion que genere una codificación decimal a partir de una cadena texto.",
      "metadata": {}
    },
    {
      "cell_type": "code",
      "source": "def codificar_decimal(texto = \"hello\") -> list:\n    return [ord(caracter) for caracter in texto]\n\nprint(codificar_decimal())\nprint(codificar_decimal(\"Hola\"))",
      "metadata": {
        "trusted": true
      },
      "outputs": [
        {
          "name": "stdout",
          "text": "[104, 101, 108, 108, 111]\n[72, 111, 108, 97]\n",
          "output_type": "stream"
        }
      ],
      "execution_count": 15
    }
  ]
}