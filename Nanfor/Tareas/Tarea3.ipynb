{
 "cells": [
  {
   "cell_type": "markdown",
   "metadata": {},
   "source": [
    "# Tarea 3\n",
    "En esta última tarea se resolverán ejercicios básicos de la teoría vista en los temas 6 y 8. Es recomendable utilizar el entorno web de JupyterLab aunque es posible también abrir el archivo en Visual Studio Code si se han instalado las extensiones de Python y Jupyter. En las celdas vacías se ha de escribir el código en Python correspondiente al enunciado con un breve comentario que explique lo que realiza cada línea de código (en las celdas de código es con un símbolo # al inicio de la línea). \n",
    "\n",
    "\r\n",
    "La dificultad de los ejercicios está acorde con el alcance del curso, se pueden encontrar ejercicios más avanzados con solución si se quiere profundizar en alguno de los temas en https://w3resource.com/python-exercises/"
   ]
  },
  {
   "attachments": {},
   "cell_type": "markdown",
   "metadata": {},
   "source": [
    "### Tema 6. Programación orientada a objetos\n",
    "Es recomendable repasar la teoría y el vídeo de ejercicios resueltos del tema "
   ]
  },
  {
   "attachments": {},
   "cell_type": "markdown",
   "metadata": {},
   "source": [
    "#### Ejercicio 1\n",
    "Escribir el códido Python para la creación de una clase Persona con atributos *nombre*, *edad* y *ciudad* y un método descripción que imprima los atributos "
   ]
  },
  {
   "cell_type": "code",
   "execution_count": null,
   "metadata": {},
   "outputs": [],
   "source": []
  },
  {
   "attachments": {},
   "cell_type": "markdown",
   "metadata": {},
   "source": [
    "#### Ejercicio 2\n",
    "Reescribir el código de forma que al crear una instancia de Persona, nombre, edad y ciudad, éstos sean parámetros. Añadir además un método *trasladar* que modifique la ciudad"
   ]
  },
  {
   "cell_type": "code",
   "execution_count": null,
   "metadata": {},
   "outputs": [],
   "source": []
  },
  {
   "attachments": {},
   "cell_type": "markdown",
   "metadata": {},
   "source": [
    "#### Ejercicio 3\n",
    "Escribir el código Python que cree una clase Empleado con un constructor con parametros *nombre* y *apellido*, un atributo encapsulado *extension de correo* de valor @miempresa.com y un método *mostrarDatos* que imprima la direccion de correo completa: nombreapellido@miempresa.com"
   ]
  },
  {
   "cell_type": "code",
   "execution_count": null,
   "metadata": {},
   "outputs": [],
   "source": []
  },
  {
   "attachments": {},
   "cell_type": "markdown",
   "metadata": {},
   "source": [
    "#### Ejercicio 4\n",
    "Crear una clase Programador que herede de la clase Empleado, añada el atributo *Departamento* y sobrecargue el método *mostrarDatos* para añadir el nuevo atributo"
   ]
  },
  {
   "cell_type": "code",
   "execution_count": null,
   "metadata": {},
   "outputs": [],
   "source": []
  },
  {
   "attachments": {},
   "cell_type": "markdown",
   "metadata": {},
   "source": [
    "#### Ejercicio 5\n",
    "Crear una clase adicional Directivo que también herede de Empleado, con un atributo *supervisaDpto*, un método interno *informeTrimestral* que devuelva True o False si está elaborado y un método sobrecargado *mostrarDatos*. Crear una instancia del tipo directivo y comprobar la pertenencia a las tres clases"
   ]
  },
  {
   "cell_type": "code",
   "execution_count": null,
   "metadata": {},
   "outputs": [],
   "source": []
  },
  {
   "cell_type": "markdown",
   "metadata": {},
   "source": [
    "### Tema 8. Otros temas avanzados y Python\n",
    "Es recomendable repasar la teoría y el vídeo de ejercicios resueltos del tema "
   ]
  },
  {
   "cell_type": "markdown",
   "metadata": {},
   "source": [
    "#### Ejercicio 6\n",
    "Escribir un programa que convierta una frase en una lista de palabras y devuelva la longitud de la palabra más larga"
   ]
  },
  {
   "cell_type": "code",
   "execution_count": null,
   "metadata": {},
   "outputs": [],
   "source": []
  },
  {
   "cell_type": "markdown",
   "metadata": {},
   "source": [
    "#### Ejercicio 7\n",
    "Escribir una función etiqueta() que pida un tipo de etiqueta HTML (p,b,i,a) y una palabra y devuelva el formato correcto en HTML. Ejemplo etiqueta('b','Palabra') devuelve \"\\<b>Palabra\\<b/>\" "
   ]
  },
  {
   "cell_type": "code",
   "execution_count": null,
   "metadata": {},
   "outputs": [],
   "source": []
  },
  {
   "cell_type": "markdown",
   "metadata": {},
   "source": [
    "#### Ejercicio 8\n",
    "Escribir un programa que convierta de notación numérica inglesa a española y viceversa (intercambie comas y puntos)"
   ]
  },
  {
   "cell_type": "code",
   "execution_count": null,
   "metadata": {},
   "outputs": [],
   "source": []
  },
  {
   "cell_type": "markdown",
   "metadata": {},
   "source": [
    "#### Ejercicio 9\n",
    "Escribir un programa que cuente el número de letras mayúsculas, minúsculas, números y símbolos de una cadena de texto (ver métodos de cadenas)."
   ]
  },
  {
   "cell_type": "code",
   "execution_count": null,
   "metadata": {},
   "outputs": [],
   "source": []
  },
  {
   "cell_type": "markdown",
   "metadata": {},
   "source": [
    "#### Ejercicio 10\n",
    "Escribir un programa que pida un número al usuario y mediante un bucle elabore un diccionario cuyas claves sean los números hasta ese número y los valores el cuadrado de esos números. Ejemplo: 3, dic={1:1, 2:4, 3:9}"
   ]
  },
  {
   "cell_type": "code",
   "execution_count": null,
   "metadata": {},
   "outputs": [],
   "source": []
  },
  {
   "cell_type": "markdown",
   "metadata": {},
   "source": [
    "#### Ejercicio 11\n",
    "Escribir un programa que genere un diccionario a partir de dos listas "
   ]
  },
  {
   "cell_type": "code",
   "execution_count": null,
   "metadata": {},
   "outputs": [],
   "source": []
  },
  {
   "cell_type": "markdown",
   "metadata": {},
   "source": [
    "#### Ejercicio 12\n",
    "Escribir un programa que pida una cadena de texto y cree un diccionario cuyas claves sean las letras distintas de la cadena y los valores sean el número de veces que aparece cada letra"
   ]
  },
  {
   "cell_type": "code",
   "execution_count": null,
   "metadata": {},
   "outputs": [],
   "source": []
  },
  {
   "cell_type": "markdown",
   "metadata": {},
   "source": [
    "#### Ejercicio 13\n",
    "Escribir un programa que pida un número *n* por pantalla e imprima las primeras *n* líneas de un archivo de texto "
   ]
  },
  {
   "cell_type": "code",
   "execution_count": null,
   "metadata": {},
   "outputs": [],
   "source": []
  },
  {
   "cell_type": "markdown",
   "metadata": {},
   "source": [
    "#### Ejercicio 14\n",
    "Ampliar el ejercicio 10 para que el diccionario se guarde en un archivo"
   ]
  },
  {
   "cell_type": "code",
   "execution_count": null,
   "metadata": {},
   "outputs": [],
   "source": []
  },
  {
   "cell_type": "markdown",
   "metadata": {},
   "source": [
    "#### Ejercicio 15\n",
    "Escribir un programa que lea las líneas de un archivo txt y que guarde las impares en un archivo impares.txt y las pares en otro pares.txt"
   ]
  },
  {
   "cell_type": "code",
   "execution_count": null,
   "metadata": {},
   "outputs": [],
   "source": []
  },
  {
   "cell_type": "markdown",
   "metadata": {},
   "source": [
    "#### Ejercicio 16\n",
    "Escribir un programa que intente abrir un archivo inexistente capturando el error y devolviendo un aviso de que no existe el archivo"
   ]
  },
  {
   "cell_type": "code",
   "execution_count": null,
   "metadata": {},
   "outputs": [],
   "source": []
  },
  {
   "cell_type": "markdown",
   "metadata": {},
   "source": [
    "#### Ejercicio 17\n",
    "Escribir un programa que lea un archivo de texto e imprima por pantalla las 20 primeras líneas. Si el archivo no tiene 20 líneas debe capturar el tipo de error correcto y mostrar un aviso de \"Se ha llegado al final del archivo\""
   ]
  },
  {
   "cell_type": "code",
   "execution_count": null,
   "metadata": {},
   "outputs": [],
   "source": []
  }
 ],
 "metadata": {
  "kernelspec": {
   "display_name": "Python 3 (ipykernel)",
   "language": "python",
   "name": "python3"
  },
  "language_info": {
   "codemirror_mode": {
    "name": "ipython",
    "version": 3
   },
   "file_extension": ".py",
   "mimetype": "text/x-python",
   "name": "python",
   "nbconvert_exporter": "python",
   "pygments_lexer": "ipython3",
   "version": "3.11.3"
  }
 },
 "nbformat": 4,
 "nbformat_minor": 4
}
