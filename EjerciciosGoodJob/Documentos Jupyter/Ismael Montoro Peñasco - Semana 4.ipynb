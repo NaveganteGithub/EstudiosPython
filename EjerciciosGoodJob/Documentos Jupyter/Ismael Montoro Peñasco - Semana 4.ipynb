{
  "metadata": {
    "kernelspec": {
      "name": "python",
      "display_name": "Python (Pyodide)",
      "language": "python"
    },
    "language_info": {
      "codemirror_mode": {
        "name": "python",
        "version": 3
      },
      "file_extension": ".py",
      "mimetype": "text/x-python",
      "name": "python",
      "nbconvert_exporter": "python",
      "pygments_lexer": "ipython3",
      "version": "3.8"
    }
  },
  "nbformat_minor": 4,
  "nbformat": 4,
  "cells": [
    {
      "cell_type": "markdown",
      "source": "# Teoria de conjuntos\n\n<p>Para realizar las tareas de está sección recomiendo utilizar las siguientes fuentes, como toma de primer contacto para entender los conceptos que se quieren ilustrar.</p>\n<ul>\n    <li><a href=\"https://es.wikipedia.org/wiki/Teor%C3%ADa_de_conjuntos\">Teoría de conjuntos</a></li>\n    <li><a href=\"https://www.geeksforgeeks.org/python-set-symmetric_difference-2/\">Diferencia Simetrica en Python</a></li>\n</ul>",
      "metadata": {}
    },
    {
      "cell_type": "raw",
      "source": "1º Realiza un programa en python para aplicar inserccion a dos conjuntos (sets). Para ello crea dos listas en Python, conviertelas a sets, y trabaja con esos sets.",
      "metadata": {}
    },
    {
      "cell_type": "code",
      "source": "def interseccion(conjunto1: set, conjunto2: set):\n    \"\"\"\n    La operacion de inserccion permite hallar el conjunto\n    que contenga todos los elementos que pertenezcan tanto\n    al conjunto_1 A como al conjunto_2 B\n    \"\"\"\n    return conjunto1.intersection(conjunto2)\n\nconjunto_1 = set([\"md2\", \"md4\", \"md5\", \"sha1\", \"sha224\", \"sha256\", \"sha384\",\n    \"sha512/224\", \"sha512/256\", \"sha512\", \"sha3-224\", \"sha3-256\", \"sha3-384\",\n    \"sha3-512\", \"ripemd128\", \"ripemd160\", \"ripemd256\", \"ripemd320\", \"whirlpool\",\n    \"tiger128,3\", \"tiger160,3\", \"tiger192,3\", \"tiger128,4\", \"tiger160,4\", \"tiger192,4\",\n    \"snefru\", \"snefru256\", \"gost\", \"gost-crypto\", \"adler32\", \"crc32\", \"crc32b\", \"crc32c\",\n    \"fnv132\", \"fnv1a32\", \"fnv164\", \"fnv1a64\", \"joaat\", \"murmur3a\", \"murmur3c\", \"murmur3f\",\n    \"xxh32\", \"xxh64\", \"xxh3\", \"xxh128\", \"haval128,3\", \"haval160,3\", \"haval192,3\",\n    \"haval224,3\", \"haval256,3\", \"haval128,4\", \"haval160,4\", \"haval192,4\", \"haval224,4\",\n    \"haval256,4\", \"haval128,5\", \"haval160,5\", \"haval192,5\", \"haval224,5\", \"haval256,5\"])\n\nconjunto_2 = set([\"md2\", \"md4\", \"md5\",\n    \"sha1\", \"sha256\", \"sha384\", \"sha512\",\n    \"ripemd128\", \"ripemd160\", \"ripemd256\",\n    \"ripemd320\", \"whirlpool\", \"tiger128,3\",\n    \"tiger160,3\", \"tiger192,3\", \"tiger128,4\",\n    \"tiger160,4\", \"tiger192,4\", \"snefru\",\n    \"gost\", \"adler32\", \"crc32\", \"crc32b\",\n    \"haval128,3\", \"haval160,3\", \"haval192,3\",\n    \"haval224,3\", \"haval256,3\", \"haval128,4\",\n    \"haval160,4\", \"haval192,4\", \"haval224,4\",\n    \"haval256,4\", \"haval128,5\", \"haval160,5\",\n    \"haval192,5\", \"haval224,5\", \"haval256,5\"])\n\nprint(interseccion(conjunto_1, conjunto_2))",
      "metadata": {
        "trusted": true
      },
      "outputs": [
        {
          "name": "stdout",
          "text": "{'sha1', 'haval128,3', 'haval192,3', 'haval160,3', 'haval224,3', 'haval256,3', 'haval256,5', 'haval224,5', 'haval128,4', 'haval160,4', 'haval192,4', 'haval128,5', 'haval224,4', 'haval256,4', 'sha384', 'haval160,5', 'haval192,5', 'crc32', 'adler32', 'sha512', 'crc32b', 'md2', 'md5', 'md4', 'sha256', 'whirlpool', 'tiger128,3', 'tiger192,3', 'ripemd128', 'tiger192,4', 'tiger128,4', 'ripemd160', 'ripemd320', 'ripemd256', 'gost', 'snefru', 'tiger160,3', 'tiger160,4'}\n",
          "output_type": "stream"
        }
      ],
      "execution_count": 7
    },
    {
      "cell_type": "raw",
      "source": "2º Realiza un programa en python para aplicar diferencia simetrica de dos conjuntos (sets). Para ello crea dos listas en Python, conviertelas a sets, y trabaja con esos sets.",
      "metadata": {}
    },
    {
      "cell_type": "code",
      "source": "def diferencia_simetrica(conjunto1: set, conjunto2: set):\n    \"\"\"\n    La operacion de diferencia permite hallar el conjunto \n    que te tenga aquellos datos que solo tenga o el conjunto1 (A) \n    o el conjunto2 (B), pero no de los dos a la vez\n    \"\"\"\n    return conjunto1.symmetric_difference(conjunto2)\n\nconjunto_1 = set([\"md2\", \"md4\", \"md5\", \"sha1\", \"sha224\", \"sha256\", \"sha384\",\n    \"sha512/224\", \"sha512/256\", \"sha512\", \"sha3-224\", \"sha3-256\", \"sha3-384\",\n    \"sha3-512\", \"ripemd128\", \"ripemd160\", \"ripemd256\", \"ripemd320\", \"whirlpool\",\n    \"tiger128,3\", \"tiger160,3\", \"tiger192,3\", \"tiger128,4\", \"tiger160,4\", \"tiger192,4\",\n    \"snefru\", \"snefru256\", \"gost\", \"gost-crypto\", \"adler32\", \"crc32\", \"crc32b\", \"crc32c\",\n    \"fnv132\", \"fnv1a32\", \"fnv164\", \"fnv1a64\", \"joaat\", \"murmur3a\", \"murmur3c\", \"murmur3f\",\n    \"xxh32\", \"xxh64\", \"xxh3\", \"xxh128\", \"haval128,3\", \"haval160,3\", \"haval192,3\",\n    \"haval224,3\", \"haval256,3\", \"haval128,4\", \"haval160,4\", \"haval192,4\", \"haval224,4\",\n    \"haval256,4\", \"haval128,5\", \"haval160,5\", \"haval192,5\", \"haval224,5\", \"haval256,5\"])\n\nconjunto_2 = set([\"md2\", \"md4\", \"md5\",\n    \"sha1\", \"sha256\", \"sha384\", \"sha512\",\n    \"ripemd128\", \"ripemd160\", \"ripemd256\",\n    \"ripemd320\", \"whirlpool\", \"tiger128,3\",\n    \"tiger160,3\", \"tiger192,3\", \"tiger128,4\",\n    \"tiger160,4\", \"tiger192,4\", \"snefru\",\n    \"gost\", \"adler32\", \"crc32\", \"crc32b\",\n    \"haval128,3\", \"haval160,3\", \"haval192,3\",\n    \"haval224,3\", \"haval256,3\", \"haval128,4\",\n    \"haval160,4\", \"haval192,4\", \"haval224,4\",\n    \"haval256,4\", \"haval128,5\", \"haval160,5\",\n    \"haval192,5\", \"haval224,5\", \"haval256,5\"])\n\nprint(diferencia_simetrica(conjunto_1, conjunto_2))",
      "metadata": {
        "trusted": true
      },
      "outputs": [
        {
          "name": "stdout",
          "text": "{'xxh64', 'fnv164', 'xxh32', 'fnv1a64', 'sha512/256', 'sha3-384', 'snefru256', 'sha3-512', 'crc32c', 'fnv132', 'xxh3', 'sha3-224', 'xxh128', 'sha512/224', 'fnv1a32', 'murmur3c', 'joaat', 'gost-crypto', 'murmur3a', 'murmur3f', 'sha3-256', 'sha224'}\n",
          "output_type": "stream"
        }
      ],
      "execution_count": 9
    },
    {
      "cell_type": "raw",
      "source": "3º Realiza un programa en python para aplicar diferencia a dos conjuntos (sets). Para ello crea dos listas en Python, conviertelas a sets, y trabaja con esos sets.",
      "metadata": {}
    },
    {
      "cell_type": "code",
      "source": "def diferencia(conjunto1: set, conjunto2: set):\n    \"\"\"\n    La operacion de diferencia permite hallar\n    el conjunto que te tenga todos los datos \n    del conjunto1 (A) o del conjunto2 (B)\n    \"\"\"\n    return conjunto1.difference(conjunto2)\n\nconjunto_1 = set([\"md2\", \"md4\", \"md5\", \"sha1\", \"sha224\", \"sha256\", \"sha384\",\n    \"sha512/224\", \"sha512/256\", \"sha512\", \"sha3-224\", \"sha3-256\", \"sha3-384\",\n    \"sha3-512\", \"ripemd128\", \"ripemd160\", \"ripemd256\", \"ripemd320\", \"whirlpool\",\n    \"tiger128,3\", \"tiger160,3\", \"tiger192,3\", \"tiger128,4\", \"tiger160,4\", \"tiger192,4\",\n    \"snefru\", \"snefru256\", \"gost\", \"gost-crypto\", \"adler32\", \"crc32\", \"crc32b\", \"crc32c\",\n    \"fnv132\", \"fnv1a32\", \"fnv164\", \"fnv1a64\", \"joaat\", \"murmur3a\", \"murmur3c\", \"murmur3f\",\n    \"xxh32\", \"xxh64\", \"xxh3\", \"xxh128\", \"haval128,3\", \"haval160,3\", \"haval192,3\",\n    \"haval224,3\", \"haval256,3\", \"haval128,4\", \"haval160,4\", \"haval192,4\", \"haval224,4\",\n    \"haval256,4\", \"haval128,5\", \"haval160,5\", \"haval192,5\", \"haval224,5\", \"haval256,5\"])\n\nconjunto_2 = set([\"md2\", \"md4\", \"md5\",\n    \"sha1\", \"sha256\", \"sha384\", \"sha512\",\n    \"ripemd128\", \"ripemd160\", \"ripemd256\",\n    \"ripemd320\", \"whirlpool\", \"tiger128,3\",\n    \"tiger160,3\", \"tiger192,3\", \"tiger128,4\",\n    \"tiger160,4\", \"tiger192,4\", \"snefru\",\n    \"gost\", \"adler32\", \"crc32\", \"crc32b\",\n    \"haval128,3\", \"haval160,3\", \"haval192,3\",\n    \"haval224,3\", \"haval256,3\", \"haval128,4\",\n    \"haval160,4\", \"haval192,4\", \"haval224,4\",\n    \"haval256,4\", \"haval128,5\", \"haval160,5\",\n    \"haval192,5\", \"haval224,5\", \"haval256,5\"])\n\nprint(diferencia(conjunto_1, conjunto_2))",
      "metadata": {
        "trusted": true
      },
      "outputs": [
        {
          "name": "stdout",
          "text": "{'xxh64', 'fnv164', 'xxh32', 'fnv1a64', 'sha512/256', 'sha3-384', 'snefru256', 'sha3-512', 'crc32c', 'fnv132', 'xxh3', 'sha3-224', 'xxh128', 'sha512/224', 'fnv1a32', 'murmur3c', 'joaat', 'gost-crypto', 'murmur3a', 'murmur3f', 'sha3-256', 'sha224'}\n",
          "output_type": "stream"
        }
      ],
      "execution_count": 6
    },
    {
      "cell_type": "raw",
      "source": "4º Realiza un programa en python para aplicar union a dos conjuntos (sets). Para ello crea dos listas en Python, conviertelas a sets, y trabaja con esos sets.",
      "metadata": {}
    },
    {
      "cell_type": "code",
      "source": "def union(conjunto1: set, conjunto2: set):\n    \"\"\"\n    La operacion de union permite hallar el conjunto\n    que tenga todos los datos de conjunto1 (A) y el conjunto2 (B),\n    de manera unica\n    \"\"\"\n    return conjunto1.union(conjunto2)\n\nconjunto_1 = set([\"md2\", \"md4\", \"md5\", \"sha1\", \"sha224\", \"sha256\", \"sha384\",\n    \"sha512/224\", \"sha512/256\", \"sha512\", \"sha3-224\", \"sha3-256\", \"sha3-384\",\n    \"sha3-512\", \"ripemd128\", \"ripemd160\", \"ripemd256\", \"ripemd320\", \"whirlpool\",\n    \"tiger128,3\", \"tiger160,3\", \"tiger192,3\", \"tiger128,4\", \"tiger160,4\", \"tiger192,4\",\n    \"snefru\", \"snefru256\", \"gost\", \"gost-crypto\", \"adler32\", \"crc32\", \"crc32b\", \"crc32c\",\n    \"fnv132\", \"fnv1a32\", \"fnv164\", \"fnv1a64\", \"joaat\", \"murmur3a\", \"murmur3c\", \"murmur3f\",\n    \"xxh32\", \"xxh64\", \"xxh3\", \"xxh128\", \"haval128,3\", \"haval160,3\", \"haval192,3\",\n    \"haval224,3\", \"haval256,3\", \"haval128,4\", \"haval160,4\", \"haval192,4\", \"haval224,4\",\n    \"haval256,4\", \"haval128,5\", \"haval160,5\", \"haval192,5\", \"haval224,5\", \"haval256,5\"])\n\nconjunto_2 = set([\"md2\", \"md4\", \"md5\",\n    \"sha1\", \"sha256\", \"sha384\", \"sha512\",\n    \"ripemd128\", \"ripemd160\", \"ripemd256\",\n    \"ripemd320\", \"whirlpool\", \"tiger128,3\",\n    \"tiger160,3\", \"tiger192,3\", \"tiger128,4\",\n    \"tiger160,4\", \"tiger192,4\", \"snefru\",\n    \"gost\", \"adler32\", \"crc32\", \"crc32b\",\n    \"haval128,3\", \"haval160,3\", \"haval192,3\",\n    \"haval224,3\", \"haval256,3\", \"haval128,4\",\n    \"haval160,4\", \"haval192,4\", \"haval224,4\",\n    \"haval256,4\", \"haval128,5\", \"haval160,5\",\n    \"haval192,5\", \"haval224,5\", \"haval256,5\"])\n\nprint(union(conjunto_1, conjunto_2))",
      "metadata": {
        "trusted": true
      },
      "outputs": [
        {
          "name": "stdout",
          "text": "{'xxh64', 'fnv164', 'xxh32', 'fnv1a64', 'sha512/256', 'sha3-384', 'sha3-512', 'sha512', 'crc32b', 'crc32c', 'whirlpool', 'tiger192,3', 'tiger128,3', 'ripemd128', 'tiger192,4', 'tiger128,4', 'ripemd160', 'ripemd320', 'ripemd256', 'fnv1a32', 'gost-crypto', 'sha3-256', 'sha224', 'sha1', 'haval128,3', 'haval160,3', 'haval192,3', 'haval224,3', 'haval256,3', 'haval256,5', 'haval224,5', 'haval128,5', 'haval128,4', 'haval160,4', 'haval192,4', 'sha384', 'haval224,4', 'haval256,4', 'haval160,5', 'haval192,5', 'crc32', 'adler32', 'snefru256', 'md2', 'md5', 'md4', 'fnv132', 'xxh3', 'sha3-224', 'sha256', 'xxh128', 'sha512/224', 'gost', 'murmur3c', 'joaat', 'murmur3a', 'murmur3f', 'snefru', 'tiger160,3', 'tiger160,4'}\n",
          "output_type": "stream"
        }
      ],
      "execution_count": 10
    },
    {
      "cell_type": "markdown",
      "source": "# Estructuras de datos y algoritmos",
      "metadata": {}
    },
    {
      "cell_type": "raw",
      "source": "5º Escribe un programa que implemente un árbol binario de búsqueda.",
      "metadata": {}
    },
    {
      "cell_type": "markdown",
      "source": "<p>Un árbol binario de búsqueda es una estructura jeraquizada constituida por nodos, en el cual como el árbol binario se conforma con un estructura en la que cada nodo conecta con un nodo o dos nodos, de ahi el termino binario, además de que los nodos, al igual que el árbol binario, son ordenados de manera que hay un nodo raiz (en el caso del ejemplo es un nodo que contiene el valor 8), a la izquierda del nodo raiz está el subarbol izquierdo, donde estan los nodos cuyos valores númericos son menores al valor del nodo raiz, a la derecha está el subarbol derecho, que contiene todos los valores superiores al valor del nodo raiz.</p>\n<p>En este ejemplo vemos un arbol, con un nodo raiz que tiene el valor 8, es de tamaño 9 porque tiene 9 nodos, y tiene 3 niveles</p>\n<pre>\n         8                   <- Nodo Raiz (Que no se cuenta como un nivel más, porque sino, este arbol tendria 4 niveles)\n        / \\\n       3   10                <- Nivel 1\n      / \\    \\\n     1   6    14             <- Nivel 2\n        / \\   /\n       4   7 13              <- Nivel 3\n</pre>\n<p>En un algoritmo de árbol binario de búsqueda, podemos encontrarnos con 4 tipos de operaciones, con las que podemos gestionar la estructura arbolea.</p>\n<ul>\n    <li>Búsqueda: es una operación que buscara primero en el nodo raiz, si coincide se termina la busqueda, si el valor no coincide con el valor del nodo, pasara a buscar en el subarbol izquierdo si el valor a buscar es menor que el valor del nodo raiz, y si el valor a buscar es mayor que el valor del nodo raiz buscara por el subarbol derecho</li>\n    <li>Inserccion: permite insertar nuevos elementos al árbol binario de búsqueda, tiene incluido las funciones del la operación de busqueda con el fin de realizar las insercciones de manera recursiva y/o interactiva, en caso de que el arbol binario de busqueda no exista, creara un nuevo insertando el valor como el nuevo nodo raiz.</li>\n    <li>Borrado: permite eliminar elementos que esten dentro del arbol. <b>Cuidado porque si borrais un nodo padre, los nodos hijo y sus decendientes también se borraran.</b></li>\n    <li>Recorridos: los recorridos son varias formas que tiene el algoritmo de buscar un nodo concretado por el usuario.</li>\n    <ul>\n        <li>Preorden: recorremos el arbol desde la raiz hasta los nodos inferiores, de izquierda a derecha.</li>\n        <li>Inorden: recorremos el arbol desde la izquierda del subarbol izquierdo, luego examina la raiz y para acabar recorre el arbol derecho de izquierda a derecha.</li>\n        <li>Posorden: por decirlo del alguna manera, recorremos el arbol primero por el subarbol izquierdo, haciendo un recorrido tal que haga un giro completo a la izquierda, luego recorremos el subarbol derecho, haciendo un giro completo a la izquierda, para luego examinar a la izquierda</li>\n    </ul>\n</ul>\n<p>Fuente: <a href=\"https://pythondiario.com/2018/07/arbol-binario-de-busqueda-estructura-de.html\">Arbol Binario de Busqueda</a></p>",
      "metadata": {}
    },
    {
      "cell_type": "code",
      "source": "from __future__ import print_function\n\n# Esta clase servira para crear objetos que haran de Nodo\nclass Node:\n\n    \"\"\" \n    Cada Nodo tendra la siguiente informacion \n        - El titulo o valor numerico\n        - Si pertenece al subarbol izquierdo o derecho\n        - Una referencia a su nodo padre\n    \"\"\"\n    def __init__(self, label, parent):\n        self.label = label\n        self.left = None\n        self.right = None\n        self.parent = parent\n\n        # Métodos para asignar nodos\n    def getLabel(self):\n        return self.label\n\n    def setLabel(self, label):\n        self.label = label\n\n    def getLeft(self):\n        return self.left\n\n    def setLeft(self, left):\n        self.left = left\n\n    def getRight(self):\n        return self.right\n\n    def setRight(self, right):\n        self.right = right\n\n    def getParent(self):\n        return self.parent\n\n    def setParent(self, parent):\n        self.parent = parent\n\nclass BinarySearchTree:\n\n    # Iniciamos la clase con una variable que representara al nodo raiz\n    def __init__(self):\n        self.root = None # El nodo raiz no existira por defecto, porque no se creado el arbol aun\n\n    def insert(self, label):\n        \"\"\"\n        Este metodo sirve para insertar un elemento en forma de nodo en el arbol de busqueda\n        si no existe el arbol de busqueda, se creara un nuevo arbol introduciendo el nodo raiz  \n        \"\"\"\n        # Creamos un nuevo nodo\n        new_node = Node(label, None)\n        # Si el árbol esta vacio\n        if self.empty():\n            self.root = new_node # Se introduce el nodo raiz\n        else:\n            # Si el árbol no esta vacio\n            curr_node = self.root # Guardamos el nodo raiz para iniciar la busqueda con el bucle\n            \n            while curr_node is not None: # Creamos un bucle mientras haya un nodo padre\n                \n                parent_node = curr_node # Especificamos el nodo actual como el nodo padre\n\n                # Viajaremos por los nodos en busca de un nodo en el cual podamos asignar el nuevo nodo\n                if new_node.getLabel() < curr_node.getLabel():\n                    curr_node = curr_node.getLeft()\n                else: \n                    curr_node = curr_node.getRight()\n                    \n            # Si el nuevo nodo a insertar es menor al nodo padre, pertenecera a la \"subrama\" izquierda del nodo padre\n            if new_node.getLabel() < parent_node.getLabel():\n                parent_node.setLeft(new_node)\n            else:# Sino pertenecera a la subrama derecha del nodo padre\n                parent_node.setRight(new_node)\n            new_node.setParent(parent_node)      \n    \n    def delete(self, label):\n        \"\"\"\n        Sirve para eliminar un nodo de nuestra eleccion, \n        buscara el nodo y luego lo eliminara, ademas de\n        realizar una labor de reasignacion a los demás nodos\n        \"\"\"\n        if (not self.empty()): # Si existe el arbol buscaremos el nodo a eliminar\n            # Solicitamos el nodo\n            node = self.getNode(label)\n            \n            \"\"\" \n            Si el nodo existe, y dependiendo del caso, se hara una reasignacion\n            de nodos o la eliminacion del nodo\n            \"\"\"\n            if(node is not None): \n                if(node.getLeft() is None and node.getRight() is None):\n                    self.__reassignNodes(node, None)\n                    node = None\n                elif(node.getLeft() is None and node.getRight() is not None):\n                    self.__reassignNodes(node, node.getRight())\n                elif(node.getLeft() is not None and node.getRight() is None):\n                    self.__reassignNodes(node, node.getLeft())\n                else:\n                    tmpNode = self.getMax(node.getLeft())\n                    self.delete(tmpNode.getLabel())\n                    node.setLabel(tmpNode.getLabel())\n    \n    def getMax(self, root = None):\n        \"\"\"\n        Esta funcion nos permite buscar en subarbol derecho (porque ahi estan\n        todos los nodos mayores al nodo raiz) el nodo con el valor más alto\n        \"\"\"\n        if(root is not None):\n            curr_node = root\n        else:\n            curr_node = self.getRoot()\n        if(not self.empty()):\n            while(curr_node.getRight() is not None):\n                curr_node = curr_node.getRight()\n        return curr_node\n\n    def getMin(self, root = None):\n        \"\"\"\n        Esta funcion nos permite buscar en subarbol izquierdo (porque ahi estan\n        todos los nodos menores al nodo raiz) el nodo con el valor más bajo\n        \"\"\"\n        if(root is not None):\n            curr_node = root\n        else:\n            curr_node = self.getRoot()\n        if(not self.empty()):\n            curr_node = self.getRoot()\n            while(curr_node.getLeft() is not None):\n                curr_node = curr_node.getLeft()\n        return curr_node\n\n    # Funcion para saber si hay algun arbol binario creado\n    def empty(self):\n        if self.root is None:\n            return True\n        return False\n        \n    \"\"\"\n    Todos los metodos siguientes sirven \n    para implementar las bases del algoritmo\n    \"\"\"\n    def getNode(self, label):\n        \"\"\" Buscara el nodo solicitado y lo devolvera. \"\"\"\n        curr_node = None # Crearemos una variable para procesar cada nodo\n        if(not self.empty()): # Si hay algun arbol\n            curr_node = self.getRoot() # Guardamos el nodo raiz\n            \"\"\"\n            Crearemos un bucle para buscar el nodo pedido\n            en caso de que el nodo pedido no sea raiz\n            \"\"\"\n            while curr_node is not None and curr_node.getLabel() is not label:\n                if label < curr_node.getLabel():\n                    curr_node = curr_node.getLeft()\n                else:\n                    curr_node = curr_node.getRight()\n        return curr_node\n    \n    def __InOrderTraversal(self, curr_node):\n        nodeList = []\n        if curr_node is not None:\n            nodeList.insert(0, curr_node)\n            nodeList = nodeList + self.__InOrderTraversal(curr_node.getLeft())\n            nodeList = nodeList + self.__InOrderTraversal(curr_node.getRight())\n        return nodeList\n\n    # Permite devolver el nodo raiz\n    def getRoot(self):\n        return self.root\n\n    \"\"\"\n    Este metodo devolvera el nodo hijo derecho \n    (o el hijo mayor) del nodo padre\n    \"\"\"\n    def __isRightChildren(self, node):\n        if(node == node.getParent().getRight()):\n            return True\n        return False\n\n    def __reassignNodes(self, node, newChildren):\n        \"\"\"\n        Este metodo permite reasignar los nodos del arbol \n        en caso de que se solicite, necesario para otros \n        metodos de la clase funcionen como el metodo delete\n        \"\"\"\n        if(newChildren is not None):\n            newChildren.setParent(node.getParent())\n        if(node.getParent() is not None):\n            if(self.__isRightChildren(node)):\n                node.getParent().setRight(newChildren)\n            else:\n                node.getParent().setLeft(newChildren)\n\n    def traversalTree(self, traversalFunction = None, root = None):\n        if(traversalFunction is None):\n            return self.__InOrderTraversal(self.root)\n        else:\n            return traversalFunction(self.root)\n\n    \"\"\" \n    Este metodo str sobreescrito nos sirve \n    para listar todos los nodos del arbol, \n    sin recorridos, es decir, sin orden\n    \"\"\"\n    def __str__(self):\n        list = self.__InOrderTraversal(self.root)\n        str = \"\"\n        for x in list:\n            str = str + \" \" + x.getLabel().__str__()\n        return str\n\ndef InPreOrder(curr_node):\n    \"\"\"\n    Esta funcion nos permite realizar un recorrido \n    preorden al árbol binario de búsqueda\n    \"\"\"\n    nodeList = []\n    if curr_node is not None:\n        nodeList = nodeList + InPreOrder(curr_node.getLeft())\n        nodeList.insert(0, curr_node.getLabel())\n        nodeList = nodeList + InPreOrder(curr_node.getRight())\n    return nodeList\n    \nif __name__ == \"__main__\":\n    \n    # Instancia del árbol binario de búsqueda\n    t = BinarySearchTree()\n    #Insertamos los elementos\n    for nodo in [5, 3, 4, 1, 14, 12, 7]:\n        t.insert(nodo)\n\n    print(\"El elemento 7 existe\" if t.getNode(7) is not None else \"-\")\n    print(\"El elemento -1 existe\" if t.getNode(-1) is not None else \"-\")\n    \n    print(\"Valor Máximo:\", t.getMax().getLabel())\n    print(\"Valor Minimo:\", t.getMin().getLabel())\n    \n    recorrido = t.traversalTree(InPreOrder, t.root)\n    print(recorrido)\n    \n    for nodo in [4, 1]:\n        t.delete(nodo)\n\n    # Obtenemos todos los elementos del árbol en preorden\n    list = t.traversalTree(InPreOrder, t.root)\n    print(list)",
      "metadata": {
        "trusted": true
      },
      "outputs": [
        {
          "name": "stdout",
          "text": "El elemento 7 existe\n-\nValor Máximo: 14\nValor Minimo: 1\n[5, 3, 1, 4, 14, 12, 7]\n[5, 3, 14, 12, 7]\n",
          "output_type": "stream"
        }
      ],
      "execution_count": 2
    },
    {
      "cell_type": "raw",
      "source": "6º Matriz dispersa: Crea una matriz dispersa (sparse matrix) utilizando un diccionario de diccionarios a partir de una funcion. ",
      "metadata": {}
    },
    {
      "cell_type": "code",
      "source": "matriz_dispersa = {\n    0: {0: 120, 1: 0, 2: 7, 3: 0, 4: 0},\n    1: {0: 0, 1: 0, 2: 0, 3: 0, 4: 0},\n    2: {0: 0, 1: 0, 2: 5, 3: 0, 4: 2},\n    3: {0: 0, 1: 0, 2: 0, 3: 0, 4: 0}\n}\n\ndef procesar_matriz_dispersa(matriz: dict) -> dict:\n    diccionario_disperso = dict()\n    for id, fila in matriz.items():\n        compresion = {posicion: contenido for posicion, contenido in fila.items() if contenido > 0}\n        if compresion:\n            # print(id, compresion)\n            diccionario_disperso[id] = compresion\n    return diccionario_disperso\n\nprint(procesar_matriz_dispersa(matriz_dispersa))",
      "metadata": {
        "trusted": true
      },
      "outputs": [
        {
          "name": "stdout",
          "text": "{0: {0: 120, 2: 7}, 2: {2: 5, 4: 2}}\n",
          "output_type": "stream"
        }
      ],
      "execution_count": 1
    },
    {
      "cell_type": "raw",
      "source": "7º Implementar una cola de prioridad: Crea una cola de prioridad utilizando un heap (módulo heapq). Agrega elementos con prioridades y extrae el elemento con la máxima prioridad.",
      "metadata": {}
    },
    {
      "cell_type": "code",
      "source": "# https://docs.python.org/3/library/heapq.html#basic-examples\nimport heapq\n\ncola = list()\nheapq.heappush(cola, (2, \"Ingenuo\"))\nheapq.heappush(cola, (1, \"Santo\"))\nheapq.heappush(cola, (4, \"Lenguaje\"))\nheapq.heappush(cola, (3, \"Sabio\"))\nheapq.heappush(cola, (5, \"Programar\"))\n\nheapq.heappop(cola)",
      "metadata": {
        "trusted": true
      },
      "outputs": [
        {
          "execution_count": 4,
          "output_type": "execute_result",
          "data": {
            "text/plain": "(1, 'Santo')"
          },
          "metadata": {}
        }
      ],
      "execution_count": 4
    },
    {
      "cell_type": "markdown",
      "source": "# Funciones de Python",
      "metadata": {}
    },
    {
      "cell_type": "markdown",
      "source": "<p>Fuente: <a href=\"https://docs.python.org/es/3/library/functions.html\">Funciones en Python</a></p>",
      "metadata": {}
    },
    {
      "cell_type": "raw",
      "source": "8º Investiga la funcion zip incluida en la API de Python. ",
      "metadata": {}
    },
    {
      "cell_type": "markdown",
      "source": "<p>La funcion zip() permite comprimir dos estructuras de datos (listas o tuplas) con contenidos.</p>",
      "metadata": {}
    },
    {
      "cell_type": "code",
      "source": "lista = [\"Maria\", \"Jose\", \"Daniel\", \"Ester\", \"Debora\"]\nidentificar = range(len(lista))\n\nprint(\"Compresion completa\")\n# El parametro strict permite indicar si el numero de elementos de ambas listas tienen que ser iguales\ncomprimir = list(zip(identificar, lista, strict=True)) \nprint(comprimir)\nprint(\"\\tIterar archivos compresion\")\nfor paquete in comprimir:\n    print(\"\\t\", paquete)\n\nprint(\"Compresion incompleta\")\ncomprimir = list(zip(range(2), lista))\nprint(comprimir)",
      "metadata": {
        "trusted": true
      },
      "outputs": [
        {
          "name": "stdout",
          "text": "Compresion completa\n[(0, 'Maria'), (1, 'Jose'), (2, 'Daniel'), (3, 'Ester'), (4, 'Debora')]\n\tIterar archivos compresion\n\t (0, 'Maria')\n\t (1, 'Jose')\n\t (2, 'Daniel')\n\t (3, 'Ester')\n\t (4, 'Debora')\nCompresion incompleta\n[(0, 'Maria'), (1, 'Jose')]\n",
          "output_type": "stream"
        }
      ],
      "execution_count": 3
    },
    {
      "cell_type": "raw",
      "source": "9º Investiga la funcion enumerate incluida en la API de Python. ",
      "metadata": {}
    },
    {
      "cell_type": "markdown",
      "source": "<p>La funcion enumerate() permite crear un objeto de tipo enumerate, que contiene una lista donde cada elemento tiene asociado un identificador, y cada elemento esta agrupado con su identificador dentro de una tupla.</p>",
      "metadata": {}
    },
    {
      "cell_type": "code",
      "source": "lista = [\"Maria\", \"Jose\", \"Daniel\", \"Ester\", \"Debora\"]\nenumerar = list(enumerate(lista))\nprint(enumerar)\n\nfor id, contenido in enumerar:\n    print(\"El identificador de\", contenido, f\"es {id}\")",
      "metadata": {
        "trusted": true
      },
      "outputs": [
        {
          "name": "stdout",
          "text": "[(0, 'Maria'), (1, 'Jose'), (2, 'Daniel'), (3, 'Ester'), (4, 'Debora')]\nEl identificador de Maria es 0\nEl identificador de Jose es 1\nEl identificador de Daniel es 2\nEl identificador de Ester es 3\nEl identificador de Debora es 4\n",
          "output_type": "stream"
        }
      ],
      "execution_count": 17
    },
    {
      "cell_type": "raw",
      "source": "10º Investiga la funcion reversed incluida en la API de Python. ",
      "metadata": {}
    },
    {
      "cell_type": "markdown",
      "source": "<p>La funcion reversed() permite revertir una estructura de datos.</p>",
      "metadata": {}
    },
    {
      "cell_type": "code",
      "source": "lista = [\"Maria\", \"Jose\", \"Daniel\", \"Ester\", \"Debora\"]\ninvertir = list(reversed(lista))\n\nprint(invertir)\nfor dato in invertir:\n    print(dato)",
      "metadata": {
        "trusted": true
      },
      "outputs": [
        {
          "name": "stdout",
          "text": "['Debora', 'Ester', 'Daniel', 'Jose', 'Maria']\nDebora\nEster\nDaniel\nJose\nMaria\n",
          "output_type": "stream"
        }
      ],
      "execution_count": 20
    }
  ]
}