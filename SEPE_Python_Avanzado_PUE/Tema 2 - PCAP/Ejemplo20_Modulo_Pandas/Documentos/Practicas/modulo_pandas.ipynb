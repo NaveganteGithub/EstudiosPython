{
 "cells": [
  {
   "cell_type": "markdown",
   "id": "7ca05f7f-e3d3-46d9-9c06-06b342669cac",
   "metadata": {},
   "source": [
    "<h1>Modulo Pandas</h1>"
   ]
  },
  {
   "cell_type": "markdown",
   "id": "f48add3b-3acf-47bb-ad46-76c5a1dacf05",
   "metadata": {},
   "source": [
    "<p>Importar el modulo pandas</p>"
   ]
  },
  {
   "cell_type": "code",
   "execution_count": 49,
   "id": "0a0c68ea-8714-49eb-92c1-9e8460d5bae1",
   "metadata": {},
   "outputs": [],
   "source": [
    "import pandas as pd"
   ]
  },
  {
   "cell_type": "code",
   "execution_count": 189,
   "id": "ab9e1ff6-f45b-42fb-95d7-db37af434bd5",
   "metadata": {},
   "outputs": [
    {
     "name": "stdout",
     "output_type": "stream",
     "text": [
      "Package                   Version\n",
      "------------------------- --------------\n",
      "anyio                     4.3.0\n",
      "argon2-cffi               23.1.0\n",
      "argon2-cffi-bindings      21.2.0\n",
      "arrow                     1.3.0\n",
      "asttokens                 2.4.1\n",
      "async-lru                 2.0.4\n",
      "attrs                     23.2.0\n",
      "Babel                     2.14.0\n",
      "beautifulsoup4            4.12.3\n",
      "bleach                    6.1.0\n",
      "certifi                   2024.2.2\n",
      "cffi                      1.16.0\n",
      "charset-normalizer        3.3.2\n",
      "colorama                  0.4.6\n",
      "comm                      0.2.2\n",
      "debugpy                   1.8.1\n",
      "decorator                 5.1.1\n",
      "defusedxml                0.7.1\n",
      "executing                 2.0.1\n",
      "fastjsonschema            2.19.1\n",
      "fqdn                      1.5.1\n",
      "h11                       0.14.0\n",
      "httpcore                  1.0.5\n",
      "httpx                     0.27.0\n",
      "idna                      3.7\n",
      "ipykernel                 6.29.4\n",
      "ipython                   8.23.0\n",
      "ipywidgets                8.1.2\n",
      "isoduration               20.11.0\n",
      "jedi                      0.19.1\n",
      "Jinja2                    3.1.3\n",
      "json5                     0.9.25\n",
      "jsonpointer               2.4\n",
      "jsonschema                4.21.1\n",
      "jsonschema-specifications 2023.12.1\n",
      "jupyter                   1.0.0\n",
      "jupyter_client            8.6.1\n",
      "jupyter-console           6.6.3\n",
      "jupyter_core              5.7.2\n",
      "jupyter-events            0.10.0\n",
      "jupyter-lsp               2.2.5\n",
      "jupyter_server            2.14.0\n",
      "jupyter_server_terminals  0.5.3\n",
      "jupyterlab                4.1.6\n",
      "jupyterlab_pygments       0.3.0\n",
      "jupyterlab_server         2.26.0\n",
      "jupyterlab_widgets        3.0.10\n",
      "MarkupSafe                2.1.5\n",
      "matplotlib-inline         0.1.7\n",
      "mistune                   3.0.2\n",
      "nbclient                  0.10.0\n",
      "nbconvert                 7.16.3\n",
      "nbformat                  5.10.4\n",
      "nest-asyncio              1.6.0\n",
      "notebook                  7.1.3\n",
      "notebook_shim             0.2.4\n",
      "numpy                     1.26.4\n",
      "overrides                 7.7.0\n",
      "packaging                 24.0\n",
      "pandas                    2.2.2\n",
      "pandocfilters             1.5.1\n",
      "parso                     0.8.4\n",
      "pip                       24.0\n",
      "platformdirs              4.2.0\n",
      "prometheus_client         0.20.0\n",
      "prompt-toolkit            3.0.43\n",
      "psutil                    5.9.8\n",
      "pure-eval                 0.2.2\n",
      "pycparser                 2.22\n",
      "Pygments                  2.17.2\n",
      "python-dateutil           2.9.0.post0\n",
      "python-json-logger        2.0.7\n",
      "pytz                      2024.1\n",
      "pywin32                   306\n",
      "pywinpty                  2.0.13\n",
      "PyYAML                    6.0.1\n",
      "pyzmq                     26.0.0\n",
      "qtconsole                 5.5.1\n",
      "QtPy                      2.4.1\n",
      "referencing               0.34.0\n",
      "requests                  2.31.0\n",
      "rfc3339-validator         0.1.4\n",
      "rfc3986-validator         0.1.1\n",
      "rpds-py                   0.18.0\n",
      "Send2Trash                1.8.3\n",
      "setuptools                65.5.0\n",
      "six                       1.16.0\n",
      "sniffio                   1.3.1\n",
      "soupsieve                 2.5\n",
      "stack-data                0.6.3\n",
      "terminado                 0.18.1\n",
      "tinycss2                  1.2.1\n",
      "tornado                   6.4\n",
      "traitlets                 5.14.2\n",
      "types-python-dateutil     2.9.0.20240316\n",
      "typing_extensions         4.11.0\n",
      "tzdata                    2024.1\n",
      "uri-template              1.3.0\n",
      "urllib3                   2.2.1\n",
      "wcwidth                   0.2.13\n",
      "webcolors                 1.13\n",
      "webencodings              0.5.1\n",
      "websocket-client          1.7.0\n",
      "widgetsnbextension        4.0.10\n"
     ]
    }
   ],
   "source": [
    "!pip list"
   ]
  },
  {
   "cell_type": "markdown",
   "id": "658f4199-30de-43db-8ee4-653a951cfdd2",
   "metadata": {
    "jp-MarkdownHeadingCollapsed": true
   },
   "source": [
    "## Series"
   ]
  },
  {
   "cell_type": "markdown",
   "id": "e0bf5f14-4611-4241-98c4-5ede40a7c9dd",
   "metadata": {},
   "source": [
    "<p>Crear una serie</p>"
   ]
  },
  {
   "cell_type": "code",
   "execution_count": 50,
   "id": "28803dc5-4114-4adc-8178-735a94f64847",
   "metadata": {},
   "outputs": [
    {
     "data": {
      "text/plain": [
       "0         Juan\n",
       "1       Pedrio\n",
       "2    Estefania\n",
       "3          Ana\n",
       "4      Esteban\n",
       "dtype: string"
      ]
     },
     "execution_count": 50,
     "metadata": {},
     "output_type": "execute_result"
    }
   ],
   "source": [
    "lista = ['Juan', 'Pedrio', 'Estefania', 'Ana', 'Esteban']\n",
    "serie = pd.Series(lista, dtype=\"string\")\n",
    "serie"
   ]
  },
  {
   "cell_type": "markdown",
   "id": "cabfafc5-ce24-46f5-aa40-1ead96098336",
   "metadata": {},
   "source": [
    "<p>Crear un diccionario</p>"
   ]
  },
  {
   "cell_type": "code",
   "execution_count": 51,
   "id": "a3533c8e-9dec-4474-baff-7905ac35cdfa",
   "metadata": {},
   "outputs": [
    {
     "data": {
      "text/plain": [
       "0         Juan\n",
       "1       Pedrio\n",
       "2    Estefania\n",
       "3          Ana\n",
       "4      Esteban\n",
       "dtype: object"
      ]
     },
     "execution_count": 51,
     "metadata": {},
     "output_type": "execute_result"
    }
   ],
   "source": [
    "diccionario = dict([(0,'Juan'), (1,'Pedro'), (2,'Estefania'), (3,'Ana'), (4,'Esteban')])\n",
    "diccionario = {key:lista[key] for key in range(len(lista))}\n",
    "serie = pd.Series(diccionario)\n",
    "diccionario\n",
    "serie"
   ]
  },
  {
   "cell_type": "code",
   "execution_count": 52,
   "id": "7612c087-8e60-4ac8-adb9-9f6e1f296b7d",
   "metadata": {},
   "outputs": [
    {
     "name": "stdout",
     "output_type": "stream",
     "text": [
      "Longitud: 5\n"
     ]
    }
   ],
   "source": [
    "print('Longitud:', serie.size)"
   ]
  },
  {
   "cell_type": "code",
   "execution_count": 53,
   "id": "a42b601b-89c0-42b6-8ee0-7bf7b3757bd6",
   "metadata": {},
   "outputs": [
    {
     "name": "stdout",
     "output_type": "stream",
     "text": [
      "indices de la serie: Index([0, 1, 2, 3, 4], dtype='int64')\n"
     ]
    }
   ],
   "source": [
    "print('indices de la serie:', serie.index)"
   ]
  },
  {
   "cell_type": "code",
   "execution_count": 54,
   "id": "6b19fbcd-68d9-48c0-ac8a-1303f788e72b",
   "metadata": {},
   "outputs": [
    {
     "name": "stdout",
     "output_type": "stream",
     "text": [
      "Tipo: object\n"
     ]
    }
   ],
   "source": [
    "print('Tipo:', serie.dtype)"
   ]
  },
  {
   "cell_type": "code",
   "execution_count": 55,
   "id": "50fa130b-8e33-4bf2-8374-76f1fdefb625",
   "metadata": {},
   "outputs": [
    {
     "data": {
      "text/plain": [
       "0         Juan\n",
       "1       Pedrio\n",
       "2    Estefania\n",
       "dtype: object"
      ]
     },
     "execution_count": 55,
     "metadata": {},
     "output_type": "execute_result"
    }
   ],
   "source": [
    "serie[0:3]"
   ]
  },
  {
   "cell_type": "code",
   "execution_count": 56,
   "id": "d27b86ac-38f1-41b3-a6de-b52881203d7e",
   "metadata": {},
   "outputs": [
    {
     "data": {
      "text/plain": [
       "2    Estefania\n",
       "3          Ana\n",
       "4      Esteban\n",
       "dtype: object"
      ]
     },
     "execution_count": 56,
     "metadata": {},
     "output_type": "execute_result"
    }
   ],
   "source": [
    "serie[2:]"
   ]
  },
  {
   "cell_type": "code",
   "execution_count": 57,
   "id": "eaab2c92-ba5e-46f1-ba71-f1b0160c57e6",
   "metadata": {},
   "outputs": [
    {
     "data": {
      "text/plain": [
       "'Juan'"
      ]
     },
     "execution_count": 57,
     "metadata": {},
     "output_type": "execute_result"
    }
   ],
   "source": [
    "# Acceder a los elementos de la serie por indice\n",
    "serie[0]"
   ]
  },
  {
   "cell_type": "code",
   "execution_count": 58,
   "id": "3cdcdfbf-dd47-4cc3-8e23-a6f90c48f924",
   "metadata": {},
   "outputs": [
    {
     "data": {
      "text/plain": [
       "2    Estefania\n",
       "3          Ana\n",
       "4      Esteban\n",
       "dtype: object"
      ]
     },
     "execution_count": 58,
     "metadata": {},
     "output_type": "execute_result"
    }
   ],
   "source": [
    "serie[2:]"
   ]
  },
  {
   "cell_type": "code",
   "execution_count": 59,
   "id": "e54f6dab-70ed-4eea-a722-6d721d111179",
   "metadata": {},
   "outputs": [
    {
     "data": {
      "text/plain": [
       "'Esteban'"
      ]
     },
     "execution_count": 59,
     "metadata": {},
     "output_type": "execute_result"
    }
   ],
   "source": [
    "serie[len(serie) - 1]"
   ]
  },
  {
   "cell_type": "code",
   "execution_count": 60,
   "id": "b25da7e2-1dea-4109-8039-a474ef85e56b",
   "metadata": {},
   "outputs": [
    {
     "data": {
      "text/plain": [
       "0    Juan\n",
       "3     Ana\n",
       "dtype: object"
      ]
     },
     "execution_count": 60,
     "metadata": {},
     "output_type": "execute_result"
    }
   ],
   "source": [
    "serie[[0,3]]"
   ]
  },
  {
   "cell_type": "code",
   "execution_count": 61,
   "id": "95ea81f3-f104-4312-9a88-f22e8cd77bf9",
   "metadata": {},
   "outputs": [
    {
     "data": {
      "text/plain": [
       "0         JUAN\n",
       "1       PEDRIO\n",
       "2    ESTEFANIA\n",
       "3          ANA\n",
       "4      ESTEBAN\n",
       "dtype: object"
      ]
     },
     "execution_count": 61,
     "metadata": {},
     "output_type": "execute_result"
    }
   ],
   "source": [
    "# apply sirve para ejecutar funciones, aqui lo que hacemos es ejecutar un lambda (funcion anonima o funcion sin nombre) con apply.\n",
    "serie.apply(lambda nombre: nombre.upper())"
   ]
  },
  {
   "cell_type": "markdown",
   "id": "6924db06-f3ff-4740-bef7-daefc54b74be",
   "metadata": {},
   "source": [
    "# Ejercicios"
   ]
  },
  {
   "cell_type": "markdown",
   "id": "83e872a3-faf3-4147-bc99-6f9d75bd452b",
   "metadata": {},
   "source": [
    "## Serie"
   ]
  },
  {
   "cell_type": "markdown",
   "id": "64573583-a915-4720-8057-240ed942bf19",
   "metadata": {},
   "source": [
    "<p>Crear una serie de numeros y retornar la serie multiplicados * 2</p>"
   ]
  },
  {
   "cell_type": "code",
   "execution_count": 62,
   "id": "fbb680d0-b7e6-43db-b3fe-7e9685d7c406",
   "metadata": {},
   "outputs": [
    {
     "data": {
      "text/plain": [
       "0        0\n",
       "1        2\n",
       "2        4\n",
       "3        6\n",
       "4        8\n",
       "      ... \n",
       "96     192\n",
       "97     194\n",
       "98     196\n",
       "99     198\n",
       "100    200\n",
       "Length: 101, dtype: int64"
      ]
     },
     "execution_count": 62,
     "metadata": {},
     "output_type": "execute_result"
    }
   ],
   "source": [
    "numeros = list(range(100 + 1))\n",
    "mi_serie = pd.Series(numeros, dtype='int64')\n",
    "mi_serie.apply(lambda num: num * 2)"
   ]
  },
  {
   "cell_type": "markdown",
   "id": "321997d8-61c0-4884-865b-59be8d5ff683",
   "metadata": {},
   "source": [
    "<p>Con la serie de nombres creada anteriormente, retornar solo los que tienen mas de 4 caracteres.</p>"
   ]
  },
  {
   "cell_type": "code",
   "execution_count": 63,
   "id": "49c304ae-b854-4e30-b7ed-43595e0c6eef",
   "metadata": {},
   "outputs": [
    {
     "data": {
      "text/plain": [
       "1       Pedrio\n",
       "2    Estefania\n",
       "4      Esteban\n",
       "dtype: object"
      ]
     },
     "execution_count": 63,
     "metadata": {},
     "output_type": "execute_result"
    }
   ],
   "source": [
    "\"\"\"serie.apply(lambda nombre: nombre if len(nombre) > 4 else \"\")\"\"\"\n",
    "filtro = serie.apply(lambda nombre: len(nombre) > 4)\n",
    "serie[filtro]"
   ]
  },
  {
   "cell_type": "markdown",
   "id": "358822a6-6837-4a8c-a252-40fb2bebc9ca",
   "metadata": {},
   "source": [
    "<p>Crear un filtro para que solo me devuelva Juan y Ana</p>"
   ]
  },
  {
   "cell_type": "code",
   "execution_count": 64,
   "id": "1fd92982-b01b-4409-93ee-758d299f3c82",
   "metadata": {},
   "outputs": [
    {
     "data": {
      "text/plain": [
       "0    Juan\n",
       "3     Ana\n",
       "dtype: object"
      ]
     },
     "execution_count": 64,
     "metadata": {},
     "output_type": "execute_result"
    }
   ],
   "source": [
    "'''\n",
    "filtro = serie.apply(lambda nombre: len(nombre) <= 4)\n",
    "serie[filtro]\n",
    "\n",
    "filtro = serie.apply(lambda nombre: nombre in ['Juan', 'Ana'])\n",
    "serie[filtro]\n",
    "'''\n",
    "serie[(serie == 'Juan') | (serie == 'Ana')]"
   ]
  },
  {
   "cell_type": "markdown",
   "id": "084eba1e-6144-4233-9451-61a17c280362",
   "metadata": {},
   "source": [
    "## DataFrames"
   ]
  },
  {
   "cell_type": "markdown",
   "id": "1c17e779-ea67-41a3-bd1d-1b7a7749b473",
   "metadata": {},
   "source": [
    "<p>Importar el modulo pandas</p>"
   ]
  },
  {
   "cell_type": "code",
   "execution_count": 136,
   "id": "0ff8e063-6fa2-4dad-ad09-b4a562072004",
   "metadata": {},
   "outputs": [],
   "source": [
    "import pandas as pd"
   ]
  },
  {
   "cell_type": "code",
   "execution_count": 137,
   "id": "44327caf-8d0a-40d8-9870-b3dccbe31289",
   "metadata": {},
   "outputs": [
    {
     "data": {
      "text/html": [
       "<div>\n",
       "<style scoped>\n",
       "    .dataframe tbody tr th:only-of-type {\n",
       "        vertical-align: middle;\n",
       "    }\n",
       "\n",
       "    .dataframe tbody tr th {\n",
       "        vertical-align: top;\n",
       "    }\n",
       "\n",
       "    .dataframe thead th {\n",
       "        text-align: right;\n",
       "    }\n",
       "</style>\n",
       "<table border=\"1\" class=\"dataframe\">\n",
       "  <thead>\n",
       "    <tr style=\"text-align: right;\">\n",
       "      <th></th>\n",
       "      <th>Nombre</th>\n",
       "      <th>Nota</th>\n",
       "    </tr>\n",
       "  </thead>\n",
       "  <tbody>\n",
       "    <tr>\n",
       "      <th>0</th>\n",
       "      <td>Juan</td>\n",
       "      <td>4.50</td>\n",
       "    </tr>\n",
       "    <tr>\n",
       "      <th>1</th>\n",
       "      <td>Pedro</td>\n",
       "      <td>8.91</td>\n",
       "    </tr>\n",
       "    <tr>\n",
       "      <th>2</th>\n",
       "      <td>Estefania</td>\n",
       "      <td>1.40</td>\n",
       "    </tr>\n",
       "    <tr>\n",
       "      <th>3</th>\n",
       "      <td>Ana</td>\n",
       "      <td>5.60</td>\n",
       "    </tr>\n",
       "    <tr>\n",
       "      <th>4</th>\n",
       "      <td>Esteban</td>\n",
       "      <td>7.80</td>\n",
       "    </tr>\n",
       "  </tbody>\n",
       "</table>\n",
       "</div>"
      ],
      "text/plain": [
       "      Nombre  Nota\n",
       "0       Juan  4.50\n",
       "1      Pedro  8.91\n",
       "2  Estefania  1.40\n",
       "3        Ana  5.60\n",
       "4    Esteban  7.80"
      ]
     },
     "execution_count": 137,
     "metadata": {},
     "output_type": "execute_result"
    }
   ],
   "source": [
    "data2 = [['Juan', 4.5], ['Pedro', 8.91], ['Estefania', 1.4], ['Ana', 5.6], ['Esteban', 7.8]]\n",
    "columnas = ['Nombre', 'Nota']\n",
    "filas = list(range(len(data2))) # [0,1,2,3,4]\n",
    "matriz = pd.DataFrame(data=data2, columns=columnas, index=filas)\n",
    "matriz"
   ]
  },
  {
   "cell_type": "code",
   "execution_count": 138,
   "id": "7c945955-91a7-44a0-a358-a4c61384ef4e",
   "metadata": {},
   "outputs": [
    {
     "data": {
      "text/plain": [
       "<bound method DataFrame.info of       Nombre  Nota\n",
       "0       Juan  4.50\n",
       "1      Pedro  8.91\n",
       "2  Estefania  1.40\n",
       "3        Ana  5.60\n",
       "4    Esteban  7.80>"
      ]
     },
     "execution_count": 138,
     "metadata": {},
     "output_type": "execute_result"
    }
   ],
   "source": [
    "matriz.info"
   ]
  },
  {
   "cell_type": "code",
   "execution_count": 139,
   "id": "d8669744-f89b-4578-9842-92e8a24f6d7c",
   "metadata": {},
   "outputs": [
    {
     "data": {
      "text/plain": [
       "(5, 2)"
      ]
     },
     "execution_count": 139,
     "metadata": {},
     "output_type": "execute_result"
    }
   ],
   "source": [
    "matriz.shape # Muestra el numero de filas y el numero de columnas (filas, columnas)"
   ]
  },
  {
   "cell_type": "code",
   "execution_count": 140,
   "id": "2b12cb6f-ee89-4772-9135-291ffeaea9d1",
   "metadata": {},
   "outputs": [
    {
     "data": {
      "text/plain": [
       "10"
      ]
     },
     "execution_count": 140,
     "metadata": {},
     "output_type": "execute_result"
    }
   ],
   "source": [
    "matriz.size # muestra el numero de celdas (num_filas * num_columnas)"
   ]
  },
  {
   "cell_type": "code",
   "execution_count": 141,
   "id": "3838d25c-f6aa-481c-9bff-a4322736faf2",
   "metadata": {},
   "outputs": [
    {
     "data": {
      "text/plain": [
       "Index(['Nombre', 'Nota'], dtype='object')"
      ]
     },
     "execution_count": 141,
     "metadata": {},
     "output_type": "execute_result"
    }
   ],
   "source": [
    "matriz.columns # muestra las columnas"
   ]
  },
  {
   "cell_type": "code",
   "execution_count": 142,
   "id": "b9bf8cf0-deb1-4dfb-962b-e6eb7ba0e6af",
   "metadata": {},
   "outputs": [
    {
     "data": {
      "text/plain": [
       "Index([0, 1, 2, 3, 4], dtype='int64')"
      ]
     },
     "execution_count": 142,
     "metadata": {},
     "output_type": "execute_result"
    }
   ],
   "source": [
    "matriz.index # muestra el alcance o rango"
   ]
  },
  {
   "cell_type": "code",
   "execution_count": 143,
   "id": "d7fbad01-ff4a-422c-b9d8-a058b0a841d6",
   "metadata": {},
   "outputs": [
    {
     "data": {
      "text/html": [
       "<div>\n",
       "<style scoped>\n",
       "    .dataframe tbody tr th:only-of-type {\n",
       "        vertical-align: middle;\n",
       "    }\n",
       "\n",
       "    .dataframe tbody tr th {\n",
       "        vertical-align: top;\n",
       "    }\n",
       "\n",
       "    .dataframe thead th {\n",
       "        text-align: right;\n",
       "    }\n",
       "</style>\n",
       "<table border=\"1\" class=\"dataframe\">\n",
       "  <thead>\n",
       "    <tr style=\"text-align: right;\">\n",
       "      <th></th>\n",
       "      <th>Nombre</th>\n",
       "      <th>Nota</th>\n",
       "    </tr>\n",
       "  </thead>\n",
       "  <tbody>\n",
       "    <tr>\n",
       "      <th>0</th>\n",
       "      <td>Juan</td>\n",
       "      <td>4.50</td>\n",
       "    </tr>\n",
       "    <tr>\n",
       "      <th>1</th>\n",
       "      <td>Pedro</td>\n",
       "      <td>8.91</td>\n",
       "    </tr>\n",
       "    <tr>\n",
       "      <th>2</th>\n",
       "      <td>Estefania</td>\n",
       "      <td>1.40</td>\n",
       "    </tr>\n",
       "  </tbody>\n",
       "</table>\n",
       "</div>"
      ],
      "text/plain": [
       "      Nombre  Nota\n",
       "0       Juan  4.50\n",
       "1      Pedro  8.91\n",
       "2  Estefania  1.40"
      ]
     },
     "execution_count": 143,
     "metadata": {},
     "output_type": "execute_result"
    }
   ],
   "source": [
    "matriz.head(3) # Muestra las x primeras filas"
   ]
  },
  {
   "cell_type": "code",
   "execution_count": 144,
   "id": "c580abf5-cbbd-48a0-a7e1-c85fa5926e7a",
   "metadata": {},
   "outputs": [
    {
     "data": {
      "text/html": [
       "<div>\n",
       "<style scoped>\n",
       "    .dataframe tbody tr th:only-of-type {\n",
       "        vertical-align: middle;\n",
       "    }\n",
       "\n",
       "    .dataframe tbody tr th {\n",
       "        vertical-align: top;\n",
       "    }\n",
       "\n",
       "    .dataframe thead th {\n",
       "        text-align: right;\n",
       "    }\n",
       "</style>\n",
       "<table border=\"1\" class=\"dataframe\">\n",
       "  <thead>\n",
       "    <tr style=\"text-align: right;\">\n",
       "      <th></th>\n",
       "      <th>Nombre</th>\n",
       "      <th>Nota</th>\n",
       "    </tr>\n",
       "  </thead>\n",
       "  <tbody>\n",
       "    <tr>\n",
       "      <th>2</th>\n",
       "      <td>Estefania</td>\n",
       "      <td>1.4</td>\n",
       "    </tr>\n",
       "    <tr>\n",
       "      <th>3</th>\n",
       "      <td>Ana</td>\n",
       "      <td>5.6</td>\n",
       "    </tr>\n",
       "    <tr>\n",
       "      <th>4</th>\n",
       "      <td>Esteban</td>\n",
       "      <td>7.8</td>\n",
       "    </tr>\n",
       "  </tbody>\n",
       "</table>\n",
       "</div>"
      ],
      "text/plain": [
       "      Nombre  Nota\n",
       "2  Estefania   1.4\n",
       "3        Ana   5.6\n",
       "4    Esteban   7.8"
      ]
     },
     "execution_count": 144,
     "metadata": {},
     "output_type": "execute_result"
    }
   ],
   "source": [
    "matriz.tail(3) # Muestra las x ultimas filas"
   ]
  },
  {
   "cell_type": "code",
   "execution_count": 145,
   "id": "dc765965-677b-47b4-9948-58b2e081f558",
   "metadata": {},
   "outputs": [
    {
     "data": {
      "text/html": [
       "<div>\n",
       "<style scoped>\n",
       "    .dataframe tbody tr th:only-of-type {\n",
       "        vertical-align: middle;\n",
       "    }\n",
       "\n",
       "    .dataframe tbody tr th {\n",
       "        vertical-align: top;\n",
       "    }\n",
       "\n",
       "    .dataframe thead th {\n",
       "        text-align: right;\n",
       "    }\n",
       "</style>\n",
       "<table border=\"1\" class=\"dataframe\">\n",
       "  <thead>\n",
       "    <tr style=\"text-align: right;\">\n",
       "      <th></th>\n",
       "      <th>Id</th>\n",
       "      <th>Nombre</th>\n",
       "      <th>Apellido</th>\n",
       "      <th>Notas</th>\n",
       "    </tr>\n",
       "  </thead>\n",
       "  <tbody>\n",
       "    <tr>\n",
       "      <th>0</th>\n",
       "      <td>1</td>\n",
       "      <td>Juan</td>\n",
       "      <td>Garcia</td>\n",
       "      <td>4.5</td>\n",
       "    </tr>\n",
       "    <tr>\n",
       "      <th>1</th>\n",
       "      <td>2</td>\n",
       "      <td>Pedro</td>\n",
       "      <td>Sanchez</td>\n",
       "      <td>8.9</td>\n",
       "    </tr>\n",
       "    <tr>\n",
       "      <th>2</th>\n",
       "      <td>3</td>\n",
       "      <td>Estefania</td>\n",
       "      <td>Lopez</td>\n",
       "      <td>1.4</td>\n",
       "    </tr>\n",
       "    <tr>\n",
       "      <th>3</th>\n",
       "      <td>4</td>\n",
       "      <td>Ana</td>\n",
       "      <td>Garcia</td>\n",
       "      <td>5.6</td>\n",
       "    </tr>\n",
       "    <tr>\n",
       "      <th>4</th>\n",
       "      <td>5</td>\n",
       "      <td>Esteban</td>\n",
       "      <td>Gonzalez</td>\n",
       "      <td>7.8</td>\n",
       "    </tr>\n",
       "  </tbody>\n",
       "</table>\n",
       "</div>"
      ],
      "text/plain": [
       "   Id     Nombre  Apellido  Notas\n",
       "0   1       Juan    Garcia    4.5\n",
       "1   2      Pedro   Sanchez    8.9\n",
       "2   3  Estefania     Lopez    1.4\n",
       "3   4        Ana    Garcia    5.6\n",
       "4   5    Esteban  Gonzalez    7.8"
      ]
     },
     "execution_count": 145,
     "metadata": {},
     "output_type": "execute_result"
    }
   ],
   "source": [
    "diccionario = {\"Id\": [1,2,3,4,5] ,\n",
    "                \"Nombre\" : ['Juan', 'Pedro','Estefania', 'Ana', 'Esteban'],\n",
    "                \"Apellido\": ['Garcia', 'Sanchez', 'Lopez', 'Garcia', 'Gonzalez' ],\n",
    "                \"Notas\": [4.5, 8.9, 1.4, 5.6, 7.8]\n",
    "                }\n",
    "matriz_2 = pd.DataFrame(diccionario)\n",
    "matriz_2"
   ]
  },
  {
   "cell_type": "code",
   "execution_count": 146,
   "id": "8054cc65-b295-4298-ba8c-d716fb2506db",
   "metadata": {},
   "outputs": [
    {
     "data": {
      "text/plain": [
       "<bound method DataFrame.info of    Id     Nombre  Apellido  Notas\n",
       "0   1       Juan    Garcia    4.5\n",
       "1   2      Pedro   Sanchez    8.9\n",
       "2   3  Estefania     Lopez    1.4\n",
       "3   4        Ana    Garcia    5.6\n",
       "4   5    Esteban  Gonzalez    7.8>"
      ]
     },
     "execution_count": 146,
     "metadata": {},
     "output_type": "execute_result"
    }
   ],
   "source": [
    "matriz_2.info"
   ]
  },
  {
   "cell_type": "code",
   "execution_count": 147,
   "id": "30bf7613-2451-4c48-9be9-b29dc6014cad",
   "metadata": {},
   "outputs": [
    {
     "data": {
      "text/html": [
       "<div>\n",
       "<style scoped>\n",
       "    .dataframe tbody tr th:only-of-type {\n",
       "        vertical-align: middle;\n",
       "    }\n",
       "\n",
       "    .dataframe tbody tr th {\n",
       "        vertical-align: top;\n",
       "    }\n",
       "\n",
       "    .dataframe thead th {\n",
       "        text-align: right;\n",
       "    }\n",
       "</style>\n",
       "<table border=\"1\" class=\"dataframe\">\n",
       "  <thead>\n",
       "    <tr style=\"text-align: right;\">\n",
       "      <th></th>\n",
       "      <th>Id</th>\n",
       "      <th>Nombre</th>\n",
       "      <th>Apellido</th>\n",
       "      <th>Nota</th>\n",
       "    </tr>\n",
       "  </thead>\n",
       "  <tbody>\n",
       "    <tr>\n",
       "      <th>0</th>\n",
       "      <td>6</td>\n",
       "      <td>Silvia</td>\n",
       "      <td>Gonzalez</td>\n",
       "      <td>5.5</td>\n",
       "    </tr>\n",
       "    <tr>\n",
       "      <th>1</th>\n",
       "      <td>7</td>\n",
       "      <td>Pedro</td>\n",
       "      <td>Perez</td>\n",
       "      <td>8.9</td>\n",
       "    </tr>\n",
       "  </tbody>\n",
       "</table>\n",
       "</div>"
      ],
      "text/plain": [
       "   Id  Nombre  Apellido  Nota\n",
       "0   6  Silvia  Gonzalez   5.5\n",
       "1   7   Pedro     Perez   8.9"
      ]
     },
     "execution_count": 147,
     "metadata": {},
     "output_type": "execute_result"
    }
   ],
   "source": [
    "nombre = [{'Id': 6, 'Nombre': 'Silvia', 'Apellido': 'Gonzalez', 'Nota': 5.5},\n",
    "         {'Id': 7, 'Nombre': 'Pedro', 'Apellido': 'Perez', 'Nota': 8.9}]\n",
    "matriz_3 = pd.DataFrame(nombre)\n",
    "matriz_3"
   ]
  },
  {
   "cell_type": "code",
   "execution_count": 232,
   "id": "674f4eb0-48c7-423e-9714-f98a765ce9b1",
   "metadata": {},
   "outputs": [
    {
     "data": {
      "text/plain": [
       "1.4"
      ]
     },
     "execution_count": 232,
     "metadata": {},
     "output_type": "execute_result"
    }
   ],
   "source": [
    "# Acceso a los datos:\n",
    "# iloc[] -> acceos por posicion\n",
    "diccionario = {\"Id\": [1,2,3,4,5] ,\n",
    "                \"Nombre\" : ['Juan', 'Pedro','Estefania', 'Ana', 'Esteban'],\n",
    "                \"Apellido\": ['Garcia', 'Sanchez', 'Lopez', 'Garcia', 'Gonzalez' ],\n",
    "                \"Nota\": [4.5, 8.9, 1.4, 5.6, 7.8]\n",
    "                }\n",
    "matriz_4 = pd.DataFrame(diccionario)\n",
    "\n",
    "matriz_4.iloc[2,3] # Acceder a la matriz por el indice"
   ]
  },
  {
   "cell_type": "code",
   "execution_count": 233,
   "id": "6002edec-fa69-4cc7-aaad-213cc0298d90",
   "metadata": {},
   "outputs": [
    {
     "data": {
      "text/html": [
       "<div>\n",
       "<style scoped>\n",
       "    .dataframe tbody tr th:only-of-type {\n",
       "        vertical-align: middle;\n",
       "    }\n",
       "\n",
       "    .dataframe tbody tr th {\n",
       "        vertical-align: top;\n",
       "    }\n",
       "\n",
       "    .dataframe thead th {\n",
       "        text-align: right;\n",
       "    }\n",
       "</style>\n",
       "<table border=\"1\" class=\"dataframe\">\n",
       "  <thead>\n",
       "    <tr style=\"text-align: right;\">\n",
       "      <th></th>\n",
       "      <th>Id</th>\n",
       "      <th>Nombre</th>\n",
       "      <th>Apellido</th>\n",
       "      <th>Nota</th>\n",
       "    </tr>\n",
       "  </thead>\n",
       "  <tbody>\n",
       "    <tr>\n",
       "      <th>1</th>\n",
       "      <td>2</td>\n",
       "      <td>Pedro</td>\n",
       "      <td>Sanchez</td>\n",
       "      <td>8.9</td>\n",
       "    </tr>\n",
       "    <tr>\n",
       "      <th>2</th>\n",
       "      <td>3</td>\n",
       "      <td>Estefania</td>\n",
       "      <td>Lopez</td>\n",
       "      <td>1.4</td>\n",
       "    </tr>\n",
       "  </tbody>\n",
       "</table>\n",
       "</div>"
      ],
      "text/plain": [
       "   Id     Nombre Apellido  Nota\n",
       "1   2      Pedro  Sanchez   8.9\n",
       "2   3  Estefania    Lopez   1.4"
      ]
     },
     "execution_count": 233,
     "metadata": {},
     "output_type": "execute_result"
    }
   ],
   "source": [
    "matriz_4.iloc[1:3] # Mostrar 2 filas pero con todas las columnas de la tabla"
   ]
  },
  {
   "cell_type": "code",
   "execution_count": 234,
   "id": "91d90168-d9f5-47b2-8a41-4820ac070f13",
   "metadata": {},
   "outputs": [
    {
     "data": {
      "text/html": [
       "<div>\n",
       "<style scoped>\n",
       "    .dataframe tbody tr th:only-of-type {\n",
       "        vertical-align: middle;\n",
       "    }\n",
       "\n",
       "    .dataframe tbody tr th {\n",
       "        vertical-align: top;\n",
       "    }\n",
       "\n",
       "    .dataframe thead th {\n",
       "        text-align: right;\n",
       "    }\n",
       "</style>\n",
       "<table border=\"1\" class=\"dataframe\">\n",
       "  <thead>\n",
       "    <tr style=\"text-align: right;\">\n",
       "      <th></th>\n",
       "      <th>Id</th>\n",
       "      <th>Nombre</th>\n",
       "      <th>Apellido</th>\n",
       "      <th>Nota</th>\n",
       "    </tr>\n",
       "  </thead>\n",
       "  <tbody>\n",
       "    <tr>\n",
       "      <th>1</th>\n",
       "      <td>2</td>\n",
       "      <td>Pedro</td>\n",
       "      <td>Sanchez</td>\n",
       "      <td>8.9</td>\n",
       "    </tr>\n",
       "    <tr>\n",
       "      <th>2</th>\n",
       "      <td>3</td>\n",
       "      <td>Estefania</td>\n",
       "      <td>Lopez</td>\n",
       "      <td>1.4</td>\n",
       "    </tr>\n",
       "  </tbody>\n",
       "</table>\n",
       "</div>"
      ],
      "text/plain": [
       "   Id     Nombre Apellido  Nota\n",
       "1   2      Pedro  Sanchez   8.9\n",
       "2   3  Estefania    Lopez   1.4"
      ]
     },
     "execution_count": 234,
     "metadata": {},
     "output_type": "execute_result"
    }
   ],
   "source": [
    "matriz_4.iloc[1:3,]"
   ]
  },
  {
   "cell_type": "code",
   "execution_count": 235,
   "id": "a5fe6c35-be88-44ee-b596-be63f95879d3",
   "metadata": {},
   "outputs": [
    {
     "data": {
      "text/html": [
       "<div>\n",
       "<style scoped>\n",
       "    .dataframe tbody tr th:only-of-type {\n",
       "        vertical-align: middle;\n",
       "    }\n",
       "\n",
       "    .dataframe tbody tr th {\n",
       "        vertical-align: top;\n",
       "    }\n",
       "\n",
       "    .dataframe thead th {\n",
       "        text-align: right;\n",
       "    }\n",
       "</style>\n",
       "<table border=\"1\" class=\"dataframe\">\n",
       "  <thead>\n",
       "    <tr style=\"text-align: right;\">\n",
       "      <th></th>\n",
       "      <th>Id</th>\n",
       "      <th>Nombre</th>\n",
       "      <th>Apellido</th>\n",
       "      <th>Nota</th>\n",
       "    </tr>\n",
       "  </thead>\n",
       "  <tbody>\n",
       "    <tr>\n",
       "      <th>1</th>\n",
       "      <td>2</td>\n",
       "      <td>Pedro</td>\n",
       "      <td>Sanchez</td>\n",
       "      <td>8.9</td>\n",
       "    </tr>\n",
       "    <tr>\n",
       "      <th>2</th>\n",
       "      <td>3</td>\n",
       "      <td>Estefania</td>\n",
       "      <td>Lopez</td>\n",
       "      <td>1.4</td>\n",
       "    </tr>\n",
       "  </tbody>\n",
       "</table>\n",
       "</div>"
      ],
      "text/plain": [
       "   Id     Nombre Apellido  Nota\n",
       "1   2      Pedro  Sanchez   8.9\n",
       "2   3  Estefania    Lopez   1.4"
      ]
     },
     "execution_count": 235,
     "metadata": {},
     "output_type": "execute_result"
    }
   ],
   "source": [
    "matriz_4.iloc[1:3,:]"
   ]
  },
  {
   "cell_type": "code",
   "execution_count": 236,
   "id": "4fc40563-051b-4a1b-b4f3-ea48df3abfe5",
   "metadata": {},
   "outputs": [
    {
     "data": {
      "text/html": [
       "<div>\n",
       "<style scoped>\n",
       "    .dataframe tbody tr th:only-of-type {\n",
       "        vertical-align: middle;\n",
       "    }\n",
       "\n",
       "    .dataframe tbody tr th {\n",
       "        vertical-align: top;\n",
       "    }\n",
       "\n",
       "    .dataframe thead th {\n",
       "        text-align: right;\n",
       "    }\n",
       "</style>\n",
       "<table border=\"1\" class=\"dataframe\">\n",
       "  <thead>\n",
       "    <tr style=\"text-align: right;\">\n",
       "      <th></th>\n",
       "      <th>Id</th>\n",
       "      <th>Nombre</th>\n",
       "      <th>Apellido</th>\n",
       "    </tr>\n",
       "  </thead>\n",
       "  <tbody>\n",
       "    <tr>\n",
       "      <th>1</th>\n",
       "      <td>2</td>\n",
       "      <td>Pedro</td>\n",
       "      <td>Sanchez</td>\n",
       "    </tr>\n",
       "    <tr>\n",
       "      <th>2</th>\n",
       "      <td>3</td>\n",
       "      <td>Estefania</td>\n",
       "      <td>Lopez</td>\n",
       "    </tr>\n",
       "  </tbody>\n",
       "</table>\n",
       "</div>"
      ],
      "text/plain": [
       "   Id     Nombre Apellido\n",
       "1   2      Pedro  Sanchez\n",
       "2   3  Estefania    Lopez"
      ]
     },
     "execution_count": 236,
     "metadata": {},
     "output_type": "execute_result"
    }
   ],
   "source": [
    "matriz_4.iloc[1:3,:3] # Mostrar los datos desde la segunda hasta la tercera fila, y solo mostrando las 3 primeras columnas"
   ]
  },
  {
   "cell_type": "code",
   "execution_count": 237,
   "id": "398331aa-c080-4435-95fc-90e917955cbf",
   "metadata": {},
   "outputs": [
    {
     "data": {
      "text/html": [
       "<div>\n",
       "<style scoped>\n",
       "    .dataframe tbody tr th:only-of-type {\n",
       "        vertical-align: middle;\n",
       "    }\n",
       "\n",
       "    .dataframe tbody tr th {\n",
       "        vertical-align: top;\n",
       "    }\n",
       "\n",
       "    .dataframe thead th {\n",
       "        text-align: right;\n",
       "    }\n",
       "</style>\n",
       "<table border=\"1\" class=\"dataframe\">\n",
       "  <thead>\n",
       "    <tr style=\"text-align: right;\">\n",
       "      <th></th>\n",
       "      <th>Id</th>\n",
       "      <th>Nombre</th>\n",
       "      <th>Apellido</th>\n",
       "      <th>Nota</th>\n",
       "    </tr>\n",
       "  </thead>\n",
       "  <tbody>\n",
       "    <tr>\n",
       "      <th>1</th>\n",
       "      <td>2</td>\n",
       "      <td>Pedro</td>\n",
       "      <td>Sanchez</td>\n",
       "      <td>8.9</td>\n",
       "    </tr>\n",
       "  </tbody>\n",
       "</table>\n",
       "</div>"
      ],
      "text/plain": [
       "   Id Nombre Apellido  Nota\n",
       "1   2  Pedro  Sanchez   8.9"
      ]
     },
     "execution_count": 237,
     "metadata": {},
     "output_type": "execute_result"
    }
   ],
   "source": [
    "matriz_4.iloc[1:3:3] # Mostrar obtener los datos desde la segunda fila, y solo mostrando las 3 primeras columnas"
   ]
  },
  {
   "cell_type": "code",
   "execution_count": 238,
   "id": "ff746bcd-214f-4d88-b9bd-76f48afe1ffd",
   "metadata": {},
   "outputs": [
    {
     "data": {
      "text/html": [
       "<div>\n",
       "<style scoped>\n",
       "    .dataframe tbody tr th:only-of-type {\n",
       "        vertical-align: middle;\n",
       "    }\n",
       "\n",
       "    .dataframe tbody tr th {\n",
       "        vertical-align: top;\n",
       "    }\n",
       "\n",
       "    .dataframe thead th {\n",
       "        text-align: right;\n",
       "    }\n",
       "</style>\n",
       "<table border=\"1\" class=\"dataframe\">\n",
       "  <thead>\n",
       "    <tr style=\"text-align: right;\">\n",
       "      <th></th>\n",
       "      <th>Id</th>\n",
       "      <th>Nombre</th>\n",
       "    </tr>\n",
       "  </thead>\n",
       "  <tbody>\n",
       "    <tr>\n",
       "      <th>0</th>\n",
       "      <td>1</td>\n",
       "      <td>Juan</td>\n",
       "    </tr>\n",
       "    <tr>\n",
       "      <th>1</th>\n",
       "      <td>2</td>\n",
       "      <td>Pedro</td>\n",
       "    </tr>\n",
       "    <tr>\n",
       "      <th>2</th>\n",
       "      <td>3</td>\n",
       "      <td>Estefania</td>\n",
       "    </tr>\n",
       "    <tr>\n",
       "      <th>3</th>\n",
       "      <td>4</td>\n",
       "      <td>Ana</td>\n",
       "    </tr>\n",
       "    <tr>\n",
       "      <th>4</th>\n",
       "      <td>5</td>\n",
       "      <td>Esteban</td>\n",
       "    </tr>\n",
       "  </tbody>\n",
       "</table>\n",
       "</div>"
      ],
      "text/plain": [
       "   Id     Nombre\n",
       "0   1       Juan\n",
       "1   2      Pedro\n",
       "2   3  Estefania\n",
       "3   4        Ana\n",
       "4   5    Esteban"
      ]
     },
     "execution_count": 238,
     "metadata": {},
     "output_type": "execute_result"
    }
   ],
   "source": [
    "matriz_4.iloc[:,:2] # Mostrar todas las filas, pero solo mostrando las 2 primeras columnas"
   ]
  },
  {
   "cell_type": "code",
   "execution_count": 239,
   "id": "b3457608-b32a-4bca-99d2-ef1bfec290f0",
   "metadata": {},
   "outputs": [
    {
     "data": {
      "text/html": [
       "<div>\n",
       "<style scoped>\n",
       "    .dataframe tbody tr th:only-of-type {\n",
       "        vertical-align: middle;\n",
       "    }\n",
       "\n",
       "    .dataframe tbody tr th {\n",
       "        vertical-align: top;\n",
       "    }\n",
       "\n",
       "    .dataframe thead th {\n",
       "        text-align: right;\n",
       "    }\n",
       "</style>\n",
       "<table border=\"1\" class=\"dataframe\">\n",
       "  <thead>\n",
       "    <tr style=\"text-align: right;\">\n",
       "      <th></th>\n",
       "      <th>Id</th>\n",
       "      <th>Nombre</th>\n",
       "    </tr>\n",
       "  </thead>\n",
       "  <tbody>\n",
       "    <tr>\n",
       "      <th>0</th>\n",
       "      <td>1</td>\n",
       "      <td>Juan</td>\n",
       "    </tr>\n",
       "    <tr>\n",
       "      <th>1</th>\n",
       "      <td>2</td>\n",
       "      <td>Pedro</td>\n",
       "    </tr>\n",
       "    <tr>\n",
       "      <th>2</th>\n",
       "      <td>3</td>\n",
       "      <td>Estefania</td>\n",
       "    </tr>\n",
       "    <tr>\n",
       "      <th>3</th>\n",
       "      <td>4</td>\n",
       "      <td>Ana</td>\n",
       "    </tr>\n",
       "    <tr>\n",
       "      <th>4</th>\n",
       "      <td>5</td>\n",
       "      <td>Esteban</td>\n",
       "    </tr>\n",
       "  </tbody>\n",
       "</table>\n",
       "</div>"
      ],
      "text/plain": [
       "   Id     Nombre\n",
       "0   1       Juan\n",
       "1   2      Pedro\n",
       "2   3  Estefania\n",
       "3   4        Ana\n",
       "4   5    Esteban"
      ]
     },
     "execution_count": 239,
     "metadata": {},
     "output_type": "execute_result"
    }
   ],
   "source": [
    "matriz_4.iloc[:,0:2] # Mostrar todas las filas, pero solo mostrando las 2 primeras columnas"
   ]
  },
  {
   "cell_type": "code",
   "execution_count": 240,
   "id": "fba941a0-46cd-4472-beba-5d4b988a0023",
   "metadata": {},
   "outputs": [
    {
     "data": {
      "text/html": [
       "<div>\n",
       "<style scoped>\n",
       "    .dataframe tbody tr th:only-of-type {\n",
       "        vertical-align: middle;\n",
       "    }\n",
       "\n",
       "    .dataframe tbody tr th {\n",
       "        vertical-align: top;\n",
       "    }\n",
       "\n",
       "    .dataframe thead th {\n",
       "        text-align: right;\n",
       "    }\n",
       "</style>\n",
       "<table border=\"1\" class=\"dataframe\">\n",
       "  <thead>\n",
       "    <tr style=\"text-align: right;\">\n",
       "      <th></th>\n",
       "      <th>Nombre</th>\n",
       "      <th>Nota</th>\n",
       "    </tr>\n",
       "  </thead>\n",
       "  <tbody>\n",
       "    <tr>\n",
       "      <th>1</th>\n",
       "      <td>Pedro</td>\n",
       "      <td>8.9</td>\n",
       "    </tr>\n",
       "    <tr>\n",
       "      <th>2</th>\n",
       "      <td>Estefania</td>\n",
       "      <td>1.4</td>\n",
       "    </tr>\n",
       "    <tr>\n",
       "      <th>3</th>\n",
       "      <td>Ana</td>\n",
       "      <td>5.6</td>\n",
       "    </tr>\n",
       "  </tbody>\n",
       "</table>\n",
       "</div>"
      ],
      "text/plain": [
       "      Nombre  Nota\n",
       "1      Pedro   8.9\n",
       "2  Estefania   1.4\n",
       "3        Ana   5.6"
      ]
     },
     "execution_count": 240,
     "metadata": {},
     "output_type": "execute_result"
    }
   ],
   "source": [
    "# También funciona para seleccionar diferentes columnas y/o filas:\n",
    "matriz_4.iloc[1:4,[1,3]] # mostrar ciertas columnas: nombre y nota"
   ]
  },
  {
   "cell_type": "code",
   "execution_count": 241,
   "id": "b90e0cb2-6e0f-4de9-bc47-aac60cae676c",
   "metadata": {},
   "outputs": [
    {
     "data": {
      "text/html": [
       "<div>\n",
       "<style scoped>\n",
       "    .dataframe tbody tr th:only-of-type {\n",
       "        vertical-align: middle;\n",
       "    }\n",
       "\n",
       "    .dataframe tbody tr th {\n",
       "        vertical-align: top;\n",
       "    }\n",
       "\n",
       "    .dataframe thead th {\n",
       "        text-align: right;\n",
       "    }\n",
       "</style>\n",
       "<table border=\"1\" class=\"dataframe\">\n",
       "  <thead>\n",
       "    <tr style=\"text-align: right;\">\n",
       "      <th></th>\n",
       "      <th>Nombre</th>\n",
       "      <th>Nota</th>\n",
       "    </tr>\n",
       "  </thead>\n",
       "  <tbody>\n",
       "    <tr>\n",
       "      <th>1</th>\n",
       "      <td>Pedro</td>\n",
       "      <td>8.9</td>\n",
       "    </tr>\n",
       "    <tr>\n",
       "      <th>4</th>\n",
       "      <td>Esteban</td>\n",
       "      <td>7.8</td>\n",
       "    </tr>\n",
       "  </tbody>\n",
       "</table>\n",
       "</div>"
      ],
      "text/plain": [
       "    Nombre  Nota\n",
       "1    Pedro   8.9\n",
       "4  Esteban   7.8"
      ]
     },
     "execution_count": 241,
     "metadata": {},
     "output_type": "execute_result"
    }
   ],
   "source": [
    "matriz_4.iloc[[1,4],[1,3]] # mostrar ciertas filas y ciertas columnas"
   ]
  },
  {
   "cell_type": "code",
   "execution_count": 242,
   "id": "e1ac1852-b34c-48ba-acdf-0db23b4a929e",
   "metadata": {},
   "outputs": [
    {
     "data": {
      "text/html": [
       "<div>\n",
       "<style scoped>\n",
       "    .dataframe tbody tr th:only-of-type {\n",
       "        vertical-align: middle;\n",
       "    }\n",
       "\n",
       "    .dataframe tbody tr th {\n",
       "        vertical-align: top;\n",
       "    }\n",
       "\n",
       "    .dataframe thead th {\n",
       "        text-align: right;\n",
       "    }\n",
       "</style>\n",
       "<table border=\"1\" class=\"dataframe\">\n",
       "  <thead>\n",
       "    <tr style=\"text-align: right;\">\n",
       "      <th></th>\n",
       "      <th>Id</th>\n",
       "      <th>Nombre</th>\n",
       "      <th>Apellido</th>\n",
       "      <th>Nota</th>\n",
       "    </tr>\n",
       "  </thead>\n",
       "  <tbody>\n",
       "    <tr>\n",
       "      <th>2</th>\n",
       "      <td>3</td>\n",
       "      <td>Estefania</td>\n",
       "      <td>Lopez</td>\n",
       "      <td>1.4</td>\n",
       "    </tr>\n",
       "    <tr>\n",
       "      <th>4</th>\n",
       "      <td>5</td>\n",
       "      <td>Esteban</td>\n",
       "      <td>Gonzalez</td>\n",
       "      <td>7.8</td>\n",
       "    </tr>\n",
       "  </tbody>\n",
       "</table>\n",
       "</div>"
      ],
      "text/plain": [
       "   Id     Nombre  Apellido  Nota\n",
       "2   3  Estefania     Lopez   1.4\n",
       "4   5    Esteban  Gonzalez   7.8"
      ]
     },
     "execution_count": 242,
     "metadata": {},
     "output_type": "execute_result"
    }
   ],
   "source": [
    "matriz_4.iloc[[2,4]] # Mostrar la tercera y la quinta fila"
   ]
  },
  {
   "cell_type": "code",
   "execution_count": 243,
   "id": "da77876b-3b69-404d-862d-4ad58ecb1842",
   "metadata": {},
   "outputs": [
    {
     "data": {
      "text/plain": [
       "Id                2\n",
       "Nombre        Pedro\n",
       "Apellido    Sanchez\n",
       "Nota            8.9\n",
       "Name: 1, dtype: object"
      ]
     },
     "execution_count": 243,
     "metadata": {},
     "output_type": "execute_result"
    }
   ],
   "source": [
    "matriz_4.iloc[1,:] # 1 representa la segunda fila"
   ]
  },
  {
   "cell_type": "code",
   "execution_count": 244,
   "id": "df3e34a6-a06a-441e-9457-e8471dd1e728",
   "metadata": {},
   "outputs": [
    {
     "data": {
      "text/plain": [
       "Id                2\n",
       "Nombre        Pedro\n",
       "Apellido    Sanchez\n",
       "Nota            8.9\n",
       "Name: 1, dtype: object"
      ]
     },
     "execution_count": 244,
     "metadata": {},
     "output_type": "execute_result"
    }
   ],
   "source": [
    "matriz_4.iloc[1]"
   ]
  },
  {
   "cell_type": "code",
   "execution_count": 245,
   "id": "40d2890c-acd1-4e04-9f91-caf65f175bc9",
   "metadata": {},
   "outputs": [
    {
     "data": {
      "text/html": [
       "<div>\n",
       "<style scoped>\n",
       "    .dataframe tbody tr th:only-of-type {\n",
       "        vertical-align: middle;\n",
       "    }\n",
       "\n",
       "    .dataframe tbody tr th {\n",
       "        vertical-align: top;\n",
       "    }\n",
       "\n",
       "    .dataframe thead th {\n",
       "        text-align: right;\n",
       "    }\n",
       "</style>\n",
       "<table border=\"1\" class=\"dataframe\">\n",
       "  <thead>\n",
       "    <tr style=\"text-align: right;\">\n",
       "      <th></th>\n",
       "      <th>Nombre</th>\n",
       "      <th>Nota</th>\n",
       "    </tr>\n",
       "  </thead>\n",
       "  <tbody>\n",
       "    <tr>\n",
       "      <th>10</th>\n",
       "      <td>Juan</td>\n",
       "      <td>4.50</td>\n",
       "    </tr>\n",
       "    <tr>\n",
       "      <th>11</th>\n",
       "      <td>Pedro</td>\n",
       "      <td>8.91</td>\n",
       "    </tr>\n",
       "    <tr>\n",
       "      <th>12</th>\n",
       "      <td>Estefania</td>\n",
       "      <td>1.40</td>\n",
       "    </tr>\n",
       "    <tr>\n",
       "      <th>13</th>\n",
       "      <td>Ana</td>\n",
       "      <td>5.60</td>\n",
       "    </tr>\n",
       "    <tr>\n",
       "      <th>14</th>\n",
       "      <td>Esteban</td>\n",
       "      <td>7.80</td>\n",
       "    </tr>\n",
       "  </tbody>\n",
       "</table>\n",
       "</div>"
      ],
      "text/plain": [
       "       Nombre  Nota\n",
       "10       Juan  4.50\n",
       "11      Pedro  8.91\n",
       "12  Estefania  1.40\n",
       "13        Ana  5.60\n",
       "14    Esteban  7.80"
      ]
     },
     "execution_count": 245,
     "metadata": {},
     "output_type": "execute_result"
    }
   ],
   "source": [
    "data2 = [['Juan', 4.5], ['Pedro', 8.91], ['Estefania', 1.4], ['Ana', 5.6], ['Esteban', 7.8]]\n",
    "columnas = ['Nombre', 'Nota']\n",
    "filas = list(range(10, len(data2) + 10)) # [0,1,2,3,4]\n",
    "matriz_5 = pd.DataFrame(data=data2, columns=columnas, index=filas)\n",
    "matriz_5"
   ]
  },
  {
   "cell_type": "code",
   "execution_count": 246,
   "id": "fdf52dd4-12e9-4f0b-8397-83d3fa904860",
   "metadata": {},
   "outputs": [
    {
     "data": {
      "text/plain": [
       "Nombre    Pedro\n",
       "Nota       8.91\n",
       "Name: 11, dtype: object"
      ]
     },
     "execution_count": 246,
     "metadata": {},
     "output_type": "execute_result"
    }
   ],
   "source": [
    "matriz_5.loc[11] \n",
    "# matriz.loc[1] # KeyError"
   ]
  },
  {
   "cell_type": "code",
   "execution_count": 247,
   "id": "b02ca433-86d6-4dce-a1ea-c2da17404fd2",
   "metadata": {},
   "outputs": [
    {
     "data": {
      "text/plain": [
       "Nombre    Pedro\n",
       "Nota       8.91\n",
       "Name: 11, dtype: object"
      ]
     },
     "execution_count": 247,
     "metadata": {},
     "output_type": "execute_result"
    }
   ],
   "source": [
    "matriz_5.iloc[1,:] # 1 representa la segunda fila, por accedemos por la posicion del indice, no por la columna id"
   ]
  },
  {
   "cell_type": "code",
   "execution_count": 248,
   "id": "949f449e-8125-4471-b734-a519afa5209b",
   "metadata": {},
   "outputs": [
    {
     "data": {
      "text/plain": [
       "Nota    8.91\n",
       "Name: 11, dtype: object"
      ]
     },
     "execution_count": 248,
     "metadata": {},
     "output_type": "execute_result"
    }
   ],
   "source": [
    "matriz_5.loc[11, ['Nota']] # mostrar la nota de Pedro [indice, ['columna']]"
   ]
  },
  {
   "cell_type": "code",
   "execution_count": 249,
   "id": "bd5a7783-b2a2-44e7-818d-e5ba4fd24d71",
   "metadata": {},
   "outputs": [
    {
     "data": {
      "text/plain": [
       "8.91"
      ]
     },
     "execution_count": 249,
     "metadata": {},
     "output_type": "execute_result"
    }
   ],
   "source": [
    "matriz_5.loc[11]['Nota']"
   ]
  },
  {
   "cell_type": "code",
   "execution_count": 250,
   "id": "c3851573-9b44-4c9b-bdee-c4dac4d44633",
   "metadata": {},
   "outputs": [
    {
     "data": {
      "text/plain": [
       "11    8.91\n",
       "12    1.40\n",
       "13    5.60\n",
       "Name: Nota, dtype: float64"
      ]
     },
     "execution_count": 250,
     "metadata": {},
     "output_type": "execute_result"
    }
   ],
   "source": [
    "matriz_5.loc[11:13]['Nota'] # Muestra los datos de la columna nota desde la segunda hasta la cuarta fila"
   ]
  },
  {
   "cell_type": "code",
   "execution_count": 251,
   "id": "96bb349a-71cf-4429-9034-a846d6aa4017",
   "metadata": {},
   "outputs": [
    {
     "data": {
      "text/html": [
       "<div>\n",
       "<style scoped>\n",
       "    .dataframe tbody tr th:only-of-type {\n",
       "        vertical-align: middle;\n",
       "    }\n",
       "\n",
       "    .dataframe tbody tr th {\n",
       "        vertical-align: top;\n",
       "    }\n",
       "\n",
       "    .dataframe thead th {\n",
       "        text-align: right;\n",
       "    }\n",
       "</style>\n",
       "<table border=\"1\" class=\"dataframe\">\n",
       "  <thead>\n",
       "    <tr style=\"text-align: right;\">\n",
       "      <th></th>\n",
       "      <th>Nota</th>\n",
       "    </tr>\n",
       "  </thead>\n",
       "  <tbody>\n",
       "    <tr>\n",
       "      <th>11</th>\n",
       "      <td>8.91</td>\n",
       "    </tr>\n",
       "    <tr>\n",
       "      <th>13</th>\n",
       "      <td>5.60</td>\n",
       "    </tr>\n",
       "  </tbody>\n",
       "</table>\n",
       "</div>"
      ],
      "text/plain": [
       "    Nota\n",
       "11  8.91\n",
       "13  5.60"
      ]
     },
     "execution_count": 251,
     "metadata": {},
     "output_type": "execute_result"
    }
   ],
   "source": [
    "matriz_5.loc[[11,13], ['Nota']] # Muestra los datos de la columna nota desde la segunda hasta la cuarta fila"
   ]
  },
  {
   "cell_type": "code",
   "execution_count": 252,
   "id": "53a4c35f-c8ff-4024-b7ed-be545bc2226e",
   "metadata": {},
   "outputs": [
    {
     "data": {
      "text/plain": [
       "8.91"
      ]
     },
     "execution_count": 252,
     "metadata": {},
     "output_type": "execute_result"
    }
   ],
   "source": [
    "matriz_5['Nota'].loc[11]"
   ]
  },
  {
   "cell_type": "code",
   "execution_count": 253,
   "id": "a798f674-39c7-4c4f-9cea-4165643917d3",
   "metadata": {},
   "outputs": [
    {
     "data": {
      "text/plain": [
       "8.91"
      ]
     },
     "execution_count": 253,
     "metadata": {},
     "output_type": "execute_result"
    }
   ],
   "source": [
    "matriz_5.loc[11]['Nota']"
   ]
  },
  {
   "cell_type": "code",
   "execution_count": 254,
   "id": "cf5260fe-f724-4df8-a478-0d0e00aaba77",
   "metadata": {},
   "outputs": [
    {
     "data": {
      "text/html": [
       "<div>\n",
       "<style scoped>\n",
       "    .dataframe tbody tr th:only-of-type {\n",
       "        vertical-align: middle;\n",
       "    }\n",
       "\n",
       "    .dataframe tbody tr th {\n",
       "        vertical-align: top;\n",
       "    }\n",
       "\n",
       "    .dataframe thead th {\n",
       "        text-align: right;\n",
       "    }\n",
       "</style>\n",
       "<table border=\"1\" class=\"dataframe\">\n",
       "  <thead>\n",
       "    <tr style=\"text-align: right;\">\n",
       "      <th></th>\n",
       "      <th>Nombre</th>\n",
       "      <th>Apellido</th>\n",
       "    </tr>\n",
       "  </thead>\n",
       "  <tbody>\n",
       "    <tr>\n",
       "      <th>0</th>\n",
       "      <td>Juan</td>\n",
       "      <td>Garcia</td>\n",
       "    </tr>\n",
       "    <tr>\n",
       "      <th>1</th>\n",
       "      <td>Pedro</td>\n",
       "      <td>Sanchez</td>\n",
       "    </tr>\n",
       "    <tr>\n",
       "      <th>2</th>\n",
       "      <td>Estefania</td>\n",
       "      <td>Lopez</td>\n",
       "    </tr>\n",
       "    <tr>\n",
       "      <th>3</th>\n",
       "      <td>Ana</td>\n",
       "      <td>Garcia</td>\n",
       "    </tr>\n",
       "    <tr>\n",
       "      <th>4</th>\n",
       "      <td>Esteban</td>\n",
       "      <td>Gonzalez</td>\n",
       "    </tr>\n",
       "  </tbody>\n",
       "</table>\n",
       "</div>"
      ],
      "text/plain": [
       "      Nombre  Apellido\n",
       "0       Juan    Garcia\n",
       "1      Pedro   Sanchez\n",
       "2  Estefania     Lopez\n",
       "3        Ana    Garcia\n",
       "4    Esteban  Gonzalez"
      ]
     },
     "execution_count": 254,
     "metadata": {},
     "output_type": "execute_result"
    }
   ],
   "source": [
    "matriz_4[['Nombre', 'Apellido']]"
   ]
  },
  {
   "cell_type": "code",
   "execution_count": 255,
   "id": "10b59dbb-8856-43a6-b0fa-bfbfe80a8a6f",
   "metadata": {},
   "outputs": [
    {
     "data": {
      "text/plain": [
       "Nombre         Ana\n",
       "Apellido    Garcia\n",
       "Name: 3, dtype: object"
      ]
     },
     "execution_count": 255,
     "metadata": {},
     "output_type": "execute_result"
    }
   ],
   "source": [
    "matriz_4[['Nombre', 'Apellido']].loc[3]"
   ]
  },
  {
   "cell_type": "code",
   "execution_count": 256,
   "id": "074b2932-1863-4bfc-bd1f-5ddc91cd51dd",
   "metadata": {},
   "outputs": [
    {
     "data": {
      "text/plain": [
       "Nombre         Ana\n",
       "Apellido    Garcia\n",
       "Name: 3, dtype: object"
      ]
     },
     "execution_count": 256,
     "metadata": {},
     "output_type": "execute_result"
    }
   ],
   "source": [
    "matriz_4.loc[3][['Nombre', 'Apellido']]"
   ]
  },
  {
   "cell_type": "code",
   "execution_count": 257,
   "id": "37b09772-513e-4dc1-90dd-2791ddfcfaa5",
   "metadata": {},
   "outputs": [
    {
     "data": {
      "text/plain": [
       "Nombre       Esteban\n",
       "Apellido    Gonzalez\n",
       "Name: 4, dtype: object"
      ]
     },
     "execution_count": 257,
     "metadata": {},
     "output_type": "execute_result"
    }
   ],
   "source": [
    "matriz_4[['Nombre', 'Apellido']].loc[4]"
   ]
  },
  {
   "cell_type": "code",
   "execution_count": 258,
   "id": "6e29565c-aef3-4f47-afe2-f4ef519f08af",
   "metadata": {},
   "outputs": [
    {
     "data": {
      "text/html": [
       "<div>\n",
       "<style scoped>\n",
       "    .dataframe tbody tr th:only-of-type {\n",
       "        vertical-align: middle;\n",
       "    }\n",
       "\n",
       "    .dataframe tbody tr th {\n",
       "        vertical-align: top;\n",
       "    }\n",
       "\n",
       "    .dataframe thead th {\n",
       "        text-align: right;\n",
       "    }\n",
       "</style>\n",
       "<table border=\"1\" class=\"dataframe\">\n",
       "  <thead>\n",
       "    <tr style=\"text-align: right;\">\n",
       "      <th></th>\n",
       "      <th>Id</th>\n",
       "      <th>Nombre</th>\n",
       "      <th>Apellido</th>\n",
       "      <th>Resultado</th>\n",
       "      <th>Nota</th>\n",
       "    </tr>\n",
       "  </thead>\n",
       "  <tbody>\n",
       "    <tr>\n",
       "      <th>0</th>\n",
       "      <td>1</td>\n",
       "      <td>Juan</td>\n",
       "      <td>Garcia</td>\n",
       "      <td>Suspenso</td>\n",
       "      <td>4.5</td>\n",
       "    </tr>\n",
       "    <tr>\n",
       "      <th>1</th>\n",
       "      <td>2</td>\n",
       "      <td>Pedro</td>\n",
       "      <td>Sanchez</td>\n",
       "      <td>Aprobado</td>\n",
       "      <td>8.9</td>\n",
       "    </tr>\n",
       "    <tr>\n",
       "      <th>2</th>\n",
       "      <td>3</td>\n",
       "      <td>Estefania</td>\n",
       "      <td>Lopez</td>\n",
       "      <td>Suspenso</td>\n",
       "      <td>1.4</td>\n",
       "    </tr>\n",
       "    <tr>\n",
       "      <th>3</th>\n",
       "      <td>4</td>\n",
       "      <td>Ana</td>\n",
       "      <td>Garcia</td>\n",
       "      <td>Aprobado</td>\n",
       "      <td>5.6</td>\n",
       "    </tr>\n",
       "    <tr>\n",
       "      <th>4</th>\n",
       "      <td>5</td>\n",
       "      <td>Esteban</td>\n",
       "      <td>Gonzalez</td>\n",
       "      <td>Aprobado</td>\n",
       "      <td>7.8</td>\n",
       "    </tr>\n",
       "  </tbody>\n",
       "</table>\n",
       "</div>"
      ],
      "text/plain": [
       "   Id     Nombre  Apellido Resultado  Nota\n",
       "0   1       Juan    Garcia  Suspenso   4.5\n",
       "1   2      Pedro   Sanchez  Aprobado   8.9\n",
       "2   3  Estefania     Lopez  Suspenso   1.4\n",
       "3   4        Ana    Garcia  Aprobado   5.6\n",
       "4   5    Esteban  Gonzalez  Aprobado   7.8"
      ]
     },
     "execution_count": 258,
     "metadata": {},
     "output_type": "execute_result"
    }
   ],
   "source": [
    "resultado = ['Suspenso', 'Aprobado', 'Suspenso', 'Aprobado', 'Aprobado']\n",
    "matriz_4.insert(loc=3, column=\"Resultado\", value=resultado)\n",
    "matriz_4"
   ]
  },
  {
   "cell_type": "code",
   "execution_count": 259,
   "id": "4e70736a-bc7d-4a0f-b24a-d30f5e9a547b",
   "metadata": {},
   "outputs": [
    {
     "data": {
      "text/html": [
       "<div>\n",
       "<style scoped>\n",
       "    .dataframe tbody tr th:only-of-type {\n",
       "        vertical-align: middle;\n",
       "    }\n",
       "\n",
       "    .dataframe tbody tr th {\n",
       "        vertical-align: top;\n",
       "    }\n",
       "\n",
       "    .dataframe thead th {\n",
       "        text-align: right;\n",
       "    }\n",
       "</style>\n",
       "<table border=\"1\" class=\"dataframe\">\n",
       "  <thead>\n",
       "    <tr style=\"text-align: right;\">\n",
       "      <th></th>\n",
       "      <th>Id</th>\n",
       "      <th>Nombre</th>\n",
       "      <th>Apellido</th>\n",
       "      <th>Notas</th>\n",
       "      <th>Nota</th>\n",
       "    </tr>\n",
       "  </thead>\n",
       "  <tbody>\n",
       "    <tr>\n",
       "      <th>0</th>\n",
       "      <td>1</td>\n",
       "      <td>Juan</td>\n",
       "      <td>Garcia</td>\n",
       "      <td>4.5</td>\n",
       "      <td>NaN</td>\n",
       "    </tr>\n",
       "    <tr>\n",
       "      <th>1</th>\n",
       "      <td>2</td>\n",
       "      <td>Pedro</td>\n",
       "      <td>Sanchez</td>\n",
       "      <td>8.9</td>\n",
       "      <td>NaN</td>\n",
       "    </tr>\n",
       "    <tr>\n",
       "      <th>2</th>\n",
       "      <td>3</td>\n",
       "      <td>Estefania</td>\n",
       "      <td>Lopez</td>\n",
       "      <td>1.4</td>\n",
       "      <td>NaN</td>\n",
       "    </tr>\n",
       "    <tr>\n",
       "      <th>3</th>\n",
       "      <td>4</td>\n",
       "      <td>Ana</td>\n",
       "      <td>Garcia</td>\n",
       "      <td>5.6</td>\n",
       "      <td>NaN</td>\n",
       "    </tr>\n",
       "    <tr>\n",
       "      <th>4</th>\n",
       "      <td>5</td>\n",
       "      <td>Esteban</td>\n",
       "      <td>Gonzalez</td>\n",
       "      <td>7.8</td>\n",
       "      <td>NaN</td>\n",
       "    </tr>\n",
       "    <tr>\n",
       "      <th>5</th>\n",
       "      <td>6</td>\n",
       "      <td>Silvia</td>\n",
       "      <td>Gonzalez</td>\n",
       "      <td>NaN</td>\n",
       "      <td>5.5</td>\n",
       "    </tr>\n",
       "    <tr>\n",
       "      <th>6</th>\n",
       "      <td>7</td>\n",
       "      <td>Pedro</td>\n",
       "      <td>Perez</td>\n",
       "      <td>NaN</td>\n",
       "      <td>8.9</td>\n",
       "    </tr>\n",
       "  </tbody>\n",
       "</table>\n",
       "</div>"
      ],
      "text/plain": [
       "   Id     Nombre  Apellido  Notas  Nota\n",
       "0   1       Juan    Garcia    4.5   NaN\n",
       "1   2      Pedro   Sanchez    8.9   NaN\n",
       "2   3  Estefania     Lopez    1.4   NaN\n",
       "3   4        Ana    Garcia    5.6   NaN\n",
       "4   5    Esteban  Gonzalez    7.8   NaN\n",
       "5   6     Silvia  Gonzalez    NaN   5.5\n",
       "6   7      Pedro     Perez    NaN   8.9"
      ]
     },
     "execution_count": 259,
     "metadata": {},
     "output_type": "execute_result"
    }
   ],
   "source": [
    "matriz_2._append(matriz_3, ignore_index=True) # Las versiones de pandas a partir de la version 1.4.0 tienen el metodo append() protegido (protected)"
   ]
  },
  {
   "cell_type": "code",
   "execution_count": 260,
   "id": "686ac25f-0c49-494c-ba49-6d1f11468562",
   "metadata": {},
   "outputs": [
    {
     "data": {
      "text/html": [
       "<div>\n",
       "<style scoped>\n",
       "    .dataframe tbody tr th:only-of-type {\n",
       "        vertical-align: middle;\n",
       "    }\n",
       "\n",
       "    .dataframe tbody tr th {\n",
       "        vertical-align: top;\n",
       "    }\n",
       "\n",
       "    .dataframe thead th {\n",
       "        text-align: right;\n",
       "    }\n",
       "</style>\n",
       "<table border=\"1\" class=\"dataframe\">\n",
       "  <thead>\n",
       "    <tr style=\"text-align: right;\">\n",
       "      <th></th>\n",
       "      <th>Id</th>\n",
       "      <th>Nombre</th>\n",
       "      <th>Apellido</th>\n",
       "      <th>Notas</th>\n",
       "      <th>Nota</th>\n",
       "    </tr>\n",
       "  </thead>\n",
       "  <tbody>\n",
       "    <tr>\n",
       "      <th>0</th>\n",
       "      <td>1</td>\n",
       "      <td>Juan</td>\n",
       "      <td>Garcia</td>\n",
       "      <td>4.5</td>\n",
       "      <td>NaN</td>\n",
       "    </tr>\n",
       "    <tr>\n",
       "      <th>1</th>\n",
       "      <td>2</td>\n",
       "      <td>Pedro</td>\n",
       "      <td>Sanchez</td>\n",
       "      <td>8.9</td>\n",
       "      <td>NaN</td>\n",
       "    </tr>\n",
       "    <tr>\n",
       "      <th>2</th>\n",
       "      <td>3</td>\n",
       "      <td>Estefania</td>\n",
       "      <td>Lopez</td>\n",
       "      <td>1.4</td>\n",
       "      <td>NaN</td>\n",
       "    </tr>\n",
       "    <tr>\n",
       "      <th>3</th>\n",
       "      <td>4</td>\n",
       "      <td>Ana</td>\n",
       "      <td>Garcia</td>\n",
       "      <td>5.6</td>\n",
       "      <td>NaN</td>\n",
       "    </tr>\n",
       "    <tr>\n",
       "      <th>4</th>\n",
       "      <td>5</td>\n",
       "      <td>Esteban</td>\n",
       "      <td>Gonzalez</td>\n",
       "      <td>7.8</td>\n",
       "      <td>NaN</td>\n",
       "    </tr>\n",
       "    <tr>\n",
       "      <th>5</th>\n",
       "      <td>6</td>\n",
       "      <td>Silvia</td>\n",
       "      <td>Gonzalez</td>\n",
       "      <td>NaN</td>\n",
       "      <td>5.5</td>\n",
       "    </tr>\n",
       "    <tr>\n",
       "      <th>6</th>\n",
       "      <td>7</td>\n",
       "      <td>Pedro</td>\n",
       "      <td>Perez</td>\n",
       "      <td>NaN</td>\n",
       "      <td>8.9</td>\n",
       "    </tr>\n",
       "  </tbody>\n",
       "</table>\n",
       "</div>"
      ],
      "text/plain": [
       "   Id     Nombre  Apellido  Notas  Nota\n",
       "0   1       Juan    Garcia    4.5   NaN\n",
       "1   2      Pedro   Sanchez    8.9   NaN\n",
       "2   3  Estefania     Lopez    1.4   NaN\n",
       "3   4        Ana    Garcia    5.6   NaN\n",
       "4   5    Esteban  Gonzalez    7.8   NaN\n",
       "5   6     Silvia  Gonzalez    NaN   5.5\n",
       "6   7      Pedro     Perez    NaN   8.9"
      ]
     },
     "execution_count": 260,
     "metadata": {},
     "output_type": "execute_result"
    }
   ],
   "source": [
    "matriz_6 = pd.concat([matriz_2, matriz_3], ignore_index=True)\n",
    "matriz_6"
   ]
  },
  {
   "cell_type": "code",
   "execution_count": 261,
   "id": "a3d89fdc-c727-4dac-a6ec-1c8a67dd09ea",
   "metadata": {},
   "outputs": [
    {
     "data": {
      "text/html": [
       "<div>\n",
       "<style scoped>\n",
       "    .dataframe tbody tr th:only-of-type {\n",
       "        vertical-align: middle;\n",
       "    }\n",
       "\n",
       "    .dataframe tbody tr th {\n",
       "        vertical-align: top;\n",
       "    }\n",
       "\n",
       "    .dataframe thead th {\n",
       "        text-align: right;\n",
       "    }\n",
       "</style>\n",
       "<table border=\"1\" class=\"dataframe\">\n",
       "  <thead>\n",
       "    <tr style=\"text-align: right;\">\n",
       "      <th></th>\n",
       "      <th>Id</th>\n",
       "      <th>Nombre</th>\n",
       "      <th>Apellido</th>\n",
       "      <th>Nota</th>\n",
       "    </tr>\n",
       "    <tr>\n",
       "      <th>Resultado</th>\n",
       "      <th></th>\n",
       "      <th></th>\n",
       "      <th></th>\n",
       "      <th></th>\n",
       "    </tr>\n",
       "  </thead>\n",
       "  <tbody>\n",
       "    <tr>\n",
       "      <th>Aprobado</th>\n",
       "      <td>3</td>\n",
       "      <td>3</td>\n",
       "      <td>3</td>\n",
       "      <td>3</td>\n",
       "    </tr>\n",
       "    <tr>\n",
       "      <th>Suspenso</th>\n",
       "      <td>2</td>\n",
       "      <td>2</td>\n",
       "      <td>2</td>\n",
       "      <td>2</td>\n",
       "    </tr>\n",
       "  </tbody>\n",
       "</table>\n",
       "</div>"
      ],
      "text/plain": [
       "           Id  Nombre  Apellido  Nota\n",
       "Resultado                            \n",
       "Aprobado    3       3         3     3\n",
       "Suspenso    2       2         2     2"
      ]
     },
     "execution_count": 261,
     "metadata": {},
     "output_type": "execute_result"
    }
   ],
   "source": [
    "matriz_4.groupby('Resultado').count()"
   ]
  },
  {
   "cell_type": "code",
   "execution_count": 262,
   "id": "f3def0a9-d2e3-450f-a12e-2e880b03b038",
   "metadata": {},
   "outputs": [
    {
     "data": {
      "text/plain": [
       "Apellido  Resultado\n",
       "Garcia    Aprobado     1\n",
       "          Suspenso     1\n",
       "Gonzalez  Aprobado     1\n",
       "Lopez     Suspenso     1\n",
       "Sanchez   Aprobado     1\n",
       "Name: Id, dtype: int64"
      ]
     },
     "execution_count": 262,
     "metadata": {},
     "output_type": "execute_result"
    }
   ],
   "source": [
    "matriz_4.groupby(['Apellido', 'Resultado'])['Id'].count()"
   ]
  },
  {
   "cell_type": "code",
   "execution_count": 267,
   "id": "65b56cb7-9e7c-4444-bd75-d7c16f3b9b0c",
   "metadata": {},
   "outputs": [
    {
     "data": {
      "text/html": [
       "<div>\n",
       "<style scoped>\n",
       "    .dataframe tbody tr th:only-of-type {\n",
       "        vertical-align: middle;\n",
       "    }\n",
       "\n",
       "    .dataframe tbody tr th {\n",
       "        vertical-align: top;\n",
       "    }\n",
       "\n",
       "    .dataframe thead th {\n",
       "        text-align: right;\n",
       "    }\n",
       "</style>\n",
       "<table border=\"1\" class=\"dataframe\">\n",
       "  <thead>\n",
       "    <tr style=\"text-align: right;\">\n",
       "      <th></th>\n",
       "      <th>Id</th>\n",
       "      <th>Nombre</th>\n",
       "      <th>Apellido</th>\n",
       "      <th>Notas</th>\n",
       "      <th>Resultado</th>\n",
       "    </tr>\n",
       "  </thead>\n",
       "  <tbody>\n",
       "    <tr>\n",
       "      <th>0</th>\n",
       "      <td>1</td>\n",
       "      <td>Juan</td>\n",
       "      <td>Garcia</td>\n",
       "      <td>4.5</td>\n",
       "      <td>NaN</td>\n",
       "    </tr>\n",
       "    <tr>\n",
       "      <th>1</th>\n",
       "      <td>2</td>\n",
       "      <td>Pedro</td>\n",
       "      <td>Sanchez</td>\n",
       "      <td>8.9</td>\n",
       "      <td>NaN</td>\n",
       "    </tr>\n",
       "    <tr>\n",
       "      <th>2</th>\n",
       "      <td>3</td>\n",
       "      <td>Estefania</td>\n",
       "      <td>Lopez</td>\n",
       "      <td>1.4</td>\n",
       "      <td>NaN</td>\n",
       "    </tr>\n",
       "    <tr>\n",
       "      <th>3</th>\n",
       "      <td>4</td>\n",
       "      <td>Ana</td>\n",
       "      <td>Garcia</td>\n",
       "      <td>5.6</td>\n",
       "      <td>NaN</td>\n",
       "    </tr>\n",
       "    <tr>\n",
       "      <th>4</th>\n",
       "      <td>5</td>\n",
       "      <td>Esteban</td>\n",
       "      <td>Gonzalez</td>\n",
       "      <td>7.8</td>\n",
       "      <td>NaN</td>\n",
       "    </tr>\n",
       "    <tr>\n",
       "      <th>5</th>\n",
       "      <td>8</td>\n",
       "      <td>Jorge</td>\n",
       "      <td>Garcia</td>\n",
       "      <td>4.5</td>\n",
       "      <td>Suspenso</td>\n",
       "    </tr>\n",
       "    <tr>\n",
       "      <th>6</th>\n",
       "      <td>9</td>\n",
       "      <td>Maria</td>\n",
       "      <td>Gonzalez</td>\n",
       "      <td>8.9</td>\n",
       "      <td>Aprobado</td>\n",
       "    </tr>\n",
       "  </tbody>\n",
       "</table>\n",
       "</div>"
      ],
      "text/plain": [
       "   Id     Nombre  Apellido  Notas Resultado\n",
       "0   1       Juan    Garcia    4.5       NaN\n",
       "1   2      Pedro   Sanchez    8.9       NaN\n",
       "2   3  Estefania     Lopez    1.4       NaN\n",
       "3   4        Ana    Garcia    5.6       NaN\n",
       "4   5    Esteban  Gonzalez    7.8       NaN\n",
       "5   8      Jorge    Garcia    4.5  Suspenso\n",
       "6   9      Maria  Gonzalez    8.9  Aprobado"
      ]
     },
     "execution_count": 267,
     "metadata": {},
     "output_type": "execute_result"
    }
   ],
   "source": [
    "data_3 = [[8, 'Jorge', 'Garcia', 'Suspenso', 4.5], [9, 'Maria', 'Gonzalez', 'Aprobado', 8.9]]\n",
    "matriz_tmp = pd.DataFrame(data_3, columns=['Id', 'Nombre', 'Apellido', 'Resultado', 'Notas'])\n",
    "matriz_7 = pd.concat([matriz_2, matriz_tmp], ignore_index=True)\n",
    "matriz_7"
   ]
  },
  {
   "cell_type": "code",
   "execution_count": 216,
   "id": "5d7e85b4-d248-4a9b-93fc-e085bf966e26",
   "metadata": {},
   "outputs": [
    {
     "data": {
      "text/plain": [
       "Resultado\n",
       "Aprobado    1\n",
       "Suspenso    1\n",
       "dtype: int64"
      ]
     },
     "execution_count": 216,
     "metadata": {},
     "output_type": "execute_result"
    }
   ],
   "source": [
    "resultado = matriz_7.groupby('Resultado').size()\n",
    "resultado"
   ]
  },
  {
   "cell_type": "code",
   "execution_count": 225,
   "id": "a5a5d4c2-314d-48d7-a9e7-7509664af156",
   "metadata": {},
   "outputs": [
    {
     "data": {
      "text/html": [
       "<div>\n",
       "<style scoped>\n",
       "    .dataframe tbody tr th:only-of-type {\n",
       "        vertical-align: middle;\n",
       "    }\n",
       "\n",
       "    .dataframe tbody tr th {\n",
       "        vertical-align: top;\n",
       "    }\n",
       "\n",
       "    .dataframe thead th {\n",
       "        text-align: right;\n",
       "    }\n",
       "</style>\n",
       "<table border=\"1\" class=\"dataframe\">\n",
       "  <thead>\n",
       "    <tr style=\"text-align: right;\">\n",
       "      <th></th>\n",
       "      <th>Id</th>\n",
       "      <th>Nombre</th>\n",
       "      <th>Apellido</th>\n",
       "      <th>Notas</th>\n",
       "      <th>Nota</th>\n",
       "    </tr>\n",
       "    <tr>\n",
       "      <th>Resultado</th>\n",
       "      <th></th>\n",
       "      <th></th>\n",
       "      <th></th>\n",
       "      <th></th>\n",
       "      <th></th>\n",
       "    </tr>\n",
       "  </thead>\n",
       "  <tbody>\n",
       "    <tr>\n",
       "      <th>Aprobado</th>\n",
       "      <td>1</td>\n",
       "      <td>1</td>\n",
       "      <td>1</td>\n",
       "      <td>0</td>\n",
       "      <td>1</td>\n",
       "    </tr>\n",
       "    <tr>\n",
       "      <th>Suspenso</th>\n",
       "      <td>1</td>\n",
       "      <td>1</td>\n",
       "      <td>1</td>\n",
       "      <td>0</td>\n",
       "      <td>1</td>\n",
       "    </tr>\n",
       "  </tbody>\n",
       "</table>\n",
       "</div>"
      ],
      "text/plain": [
       "           Id  Nombre  Apellido  Notas  Nota\n",
       "Resultado                                   \n",
       "Aprobado    1       1         1      0     1\n",
       "Suspenso    1       1         1      0     1"
      ]
     },
     "execution_count": 225,
     "metadata": {},
     "output_type": "execute_result"
    }
   ],
   "source": [
    "resultado = matriz_7.groupby('Resultado').count()\n",
    "resultado"
   ]
  },
  {
   "cell_type": "code",
   "execution_count": 230,
   "id": "604a7042-bb4d-46d1-947c-f38f7ddd9ae4",
   "metadata": {},
   "outputs": [
    {
     "data": {
      "text/plain": [
       "225.42857142857142"
      ]
     },
     "execution_count": 230,
     "metadata": {},
     "output_type": "execute_result"
    }
   ],
   "source": [
    "matriz_9 = pd.DataFrame([('Bike', 'Kawasaki', 186), \n",
    "                   ('Bike', 'Ducati Panigale', 202), \n",
    "                   ('Car', 'Bugatti Chiron', 304),  \n",
    "                   ('Car', 'Jaguar XJ220', 210), \n",
    "                   ('Bike', 'Lightning LS-218', 218),  \n",
    "                   ('Car', 'Hennessey Venom GT', 270), \n",
    "                   ('Bike', 'BMW S1000RR', 188)], \n",
    "                  columns =('Type', 'Name', 'top_speed(mph)'))\n",
    "\n",
    "resultado = matriz_9[\"top_speed(mph)\"].mean()\n",
    "resultado"
   ]
  },
  {
   "cell_type": "code",
   "execution_count": 269,
   "id": "e7f423c5-bd44-4e61-9eb0-880f4e785074",
   "metadata": {},
   "outputs": [
    {
     "data": {
      "text/plain": [
       "5.942857142857143"
      ]
     },
     "execution_count": 269,
     "metadata": {},
     "output_type": "execute_result"
    }
   ],
   "source": [
    "resultado = matriz_7[\"Notas\"].mean()\n",
    "resultado"
   ]
  },
  {
   "cell_type": "markdown",
   "id": "100a9845-2443-4a53-83c5-ded66a000741",
   "metadata": {},
   "source": [
    "### Tipos de merge\n",
    "<ul>\n",
    "    <li>inner: solo en comun</li>\n",
    "    <li>left: todos los de la izquierda + en comun</li>\n",
    "    <li>right: todos los de la derecha + en comun</li>\n",
    "    <li>outer: todos</li>\n",
    "</ul>"
   ]
  },
  {
   "cell_type": "code",
   "execution_count": 303,
   "id": "ba04ba93-9bce-4f24-a333-c1ca1e07f5a6",
   "metadata": {},
   "outputs": [
    {
     "name": "stdout",
     "output_type": "stream",
     "text": [
      "   Id    Nombre  Precio\n",
      "0   1  Pantalla  129.50\n",
      "1   2   Teclado   49.95\n",
      "2   3     Raton   19.75\n",
      "3   4   Scanner  157.90\n",
      "      Nombre  Proveedor\n",
      "0   Pantalla     Lenovo\n",
      "1    Teclado   Logitech\n",
      "2      Raton  Microsoft\n",
      "3  Impresora         HP\n"
     ]
    }
   ],
   "source": [
    "productos = [{'Id': 1, 'Nombre': 'Pantalla', 'Precio': 129.50},\n",
    "             {'Id': 2, 'Nombre': 'Teclado', 'Precio': 49.95},\n",
    "            {'Id': 3, 'Nombre': 'Raton', 'Precio': 19.75},\n",
    "            {'Id': 4, 'Nombre': 'Scanner', 'Precio': 157.90}]\n",
    "matriz_10 = pd.DataFrame(productos)\n",
    "\n",
    "productos_2 = [{'Nombre': 'Pantalla', 'Proveedor': 'Lenovo'},\n",
    "             {'Nombre': 'Teclado', 'Proveedor': 'Logitech'},\n",
    "            {'Nombre': 'Raton', 'Proveedor': 'Microsoft'},\n",
    "            {'Nombre': 'Impresora', 'Proveedor': 'HP'}]\n",
    "matriz_11 = pd.DataFrame(productos_2)\n",
    "\n",
    "print(matriz_10)\n",
    "print(matriz_11)"
   ]
  },
  {
   "cell_type": "code",
   "execution_count": 304,
   "id": "cf9bb350-507e-43cd-8a27-6913ff519b56",
   "metadata": {},
   "outputs": [
    {
     "data": {
      "text/html": [
       "<div>\n",
       "<style scoped>\n",
       "    .dataframe tbody tr th:only-of-type {\n",
       "        vertical-align: middle;\n",
       "    }\n",
       "\n",
       "    .dataframe tbody tr th {\n",
       "        vertical-align: top;\n",
       "    }\n",
       "\n",
       "    .dataframe thead th {\n",
       "        text-align: right;\n",
       "    }\n",
       "</style>\n",
       "<table border=\"1\" class=\"dataframe\">\n",
       "  <thead>\n",
       "    <tr style=\"text-align: right;\">\n",
       "      <th></th>\n",
       "      <th>Id</th>\n",
       "      <th>Nombre</th>\n",
       "      <th>Precio</th>\n",
       "      <th>Proveedor</th>\n",
       "    </tr>\n",
       "  </thead>\n",
       "  <tbody>\n",
       "    <tr>\n",
       "      <th>0</th>\n",
       "      <td>1</td>\n",
       "      <td>Pantalla</td>\n",
       "      <td>129.50</td>\n",
       "      <td>Lenovo</td>\n",
       "    </tr>\n",
       "    <tr>\n",
       "      <th>1</th>\n",
       "      <td>2</td>\n",
       "      <td>Teclado</td>\n",
       "      <td>49.95</td>\n",
       "      <td>Logitech</td>\n",
       "    </tr>\n",
       "    <tr>\n",
       "      <th>2</th>\n",
       "      <td>3</td>\n",
       "      <td>Raton</td>\n",
       "      <td>19.75</td>\n",
       "      <td>Microsoft</td>\n",
       "    </tr>\n",
       "  </tbody>\n",
       "</table>\n",
       "</div>"
      ],
      "text/plain": [
       "   Id    Nombre  Precio  Proveedor\n",
       "0   1  Pantalla  129.50     Lenovo\n",
       "1   2   Teclado   49.95   Logitech\n",
       "2   3     Raton   19.75  Microsoft"
      ]
     },
     "execution_count": 304,
     "metadata": {},
     "output_type": "execute_result"
    }
   ],
   "source": [
    "union = pd.merge(matriz_10, matriz_11, how='inner', on=['Nombre'])\n",
    "union"
   ]
  },
  {
   "cell_type": "code",
   "execution_count": 305,
   "id": "9dcf95b3-dac5-40a8-913b-dc1d662c86e9",
   "metadata": {},
   "outputs": [
    {
     "data": {
      "text/html": [
       "<div>\n",
       "<style scoped>\n",
       "    .dataframe tbody tr th:only-of-type {\n",
       "        vertical-align: middle;\n",
       "    }\n",
       "\n",
       "    .dataframe tbody tr th {\n",
       "        vertical-align: top;\n",
       "    }\n",
       "\n",
       "    .dataframe thead th {\n",
       "        text-align: right;\n",
       "    }\n",
       "</style>\n",
       "<table border=\"1\" class=\"dataframe\">\n",
       "  <thead>\n",
       "    <tr style=\"text-align: right;\">\n",
       "      <th></th>\n",
       "      <th>Id</th>\n",
       "      <th>Nombre</th>\n",
       "      <th>Precio</th>\n",
       "      <th>Proveedor</th>\n",
       "    </tr>\n",
       "  </thead>\n",
       "  <tbody>\n",
       "    <tr>\n",
       "      <th>0</th>\n",
       "      <td>1</td>\n",
       "      <td>Pantalla</td>\n",
       "      <td>129.50</td>\n",
       "      <td>Lenovo</td>\n",
       "    </tr>\n",
       "    <tr>\n",
       "      <th>1</th>\n",
       "      <td>2</td>\n",
       "      <td>Teclado</td>\n",
       "      <td>49.95</td>\n",
       "      <td>Logitech</td>\n",
       "    </tr>\n",
       "    <tr>\n",
       "      <th>2</th>\n",
       "      <td>3</td>\n",
       "      <td>Raton</td>\n",
       "      <td>19.75</td>\n",
       "      <td>Microsoft</td>\n",
       "    </tr>\n",
       "    <tr>\n",
       "      <th>3</th>\n",
       "      <td>4</td>\n",
       "      <td>Scanner</td>\n",
       "      <td>157.90</td>\n",
       "      <td>NaN</td>\n",
       "    </tr>\n",
       "  </tbody>\n",
       "</table>\n",
       "</div>"
      ],
      "text/plain": [
       "   Id    Nombre  Precio  Proveedor\n",
       "0   1  Pantalla  129.50     Lenovo\n",
       "1   2   Teclado   49.95   Logitech\n",
       "2   3     Raton   19.75  Microsoft\n",
       "3   4   Scanner  157.90        NaN"
      ]
     },
     "execution_count": 305,
     "metadata": {},
     "output_type": "execute_result"
    }
   ],
   "source": [
    "union = pd.merge(matriz_10, matriz_11, how='left', on=['Nombre']) # Une los datos comunes, mas los datos del primer dataframe\n",
    "union"
   ]
  },
  {
   "cell_type": "code",
   "execution_count": 306,
   "id": "b3eb5c87-20d6-41aa-a7d4-7e6b834fc953",
   "metadata": {},
   "outputs": [
    {
     "data": {
      "text/html": [
       "<div>\n",
       "<style scoped>\n",
       "    .dataframe tbody tr th:only-of-type {\n",
       "        vertical-align: middle;\n",
       "    }\n",
       "\n",
       "    .dataframe tbody tr th {\n",
       "        vertical-align: top;\n",
       "    }\n",
       "\n",
       "    .dataframe thead th {\n",
       "        text-align: right;\n",
       "    }\n",
       "</style>\n",
       "<table border=\"1\" class=\"dataframe\">\n",
       "  <thead>\n",
       "    <tr style=\"text-align: right;\">\n",
       "      <th></th>\n",
       "      <th>Id</th>\n",
       "      <th>Nombre</th>\n",
       "      <th>Precio</th>\n",
       "      <th>Proveedor</th>\n",
       "    </tr>\n",
       "  </thead>\n",
       "  <tbody>\n",
       "    <tr>\n",
       "      <th>0</th>\n",
       "      <td>1.0</td>\n",
       "      <td>Pantalla</td>\n",
       "      <td>129.50</td>\n",
       "      <td>Lenovo</td>\n",
       "    </tr>\n",
       "    <tr>\n",
       "      <th>1</th>\n",
       "      <td>2.0</td>\n",
       "      <td>Teclado</td>\n",
       "      <td>49.95</td>\n",
       "      <td>Logitech</td>\n",
       "    </tr>\n",
       "    <tr>\n",
       "      <th>2</th>\n",
       "      <td>3.0</td>\n",
       "      <td>Raton</td>\n",
       "      <td>19.75</td>\n",
       "      <td>Microsoft</td>\n",
       "    </tr>\n",
       "    <tr>\n",
       "      <th>3</th>\n",
       "      <td>NaN</td>\n",
       "      <td>Impresora</td>\n",
       "      <td>NaN</td>\n",
       "      <td>HP</td>\n",
       "    </tr>\n",
       "  </tbody>\n",
       "</table>\n",
       "</div>"
      ],
      "text/plain": [
       "    Id     Nombre  Precio  Proveedor\n",
       "0  1.0   Pantalla  129.50     Lenovo\n",
       "1  2.0    Teclado   49.95   Logitech\n",
       "2  3.0      Raton   19.75  Microsoft\n",
       "3  NaN  Impresora     NaN         HP"
      ]
     },
     "execution_count": 306,
     "metadata": {},
     "output_type": "execute_result"
    }
   ],
   "source": [
    "union = pd.merge(matriz_10, matriz_11, how='right', on=['Nombre']) # Une los datos comunes, mas los datos del primer dataframe\n",
    "union"
   ]
  },
  {
   "cell_type": "code",
   "execution_count": 307,
   "id": "2857fe16-32cc-4f08-ac1a-142f0fe2fc19",
   "metadata": {},
   "outputs": [
    {
     "data": {
      "text/html": [
       "<div>\n",
       "<style scoped>\n",
       "    .dataframe tbody tr th:only-of-type {\n",
       "        vertical-align: middle;\n",
       "    }\n",
       "\n",
       "    .dataframe tbody tr th {\n",
       "        vertical-align: top;\n",
       "    }\n",
       "\n",
       "    .dataframe thead th {\n",
       "        text-align: right;\n",
       "    }\n",
       "</style>\n",
       "<table border=\"1\" class=\"dataframe\">\n",
       "  <thead>\n",
       "    <tr style=\"text-align: right;\">\n",
       "      <th></th>\n",
       "      <th>Id</th>\n",
       "      <th>Nombre</th>\n",
       "      <th>Precio</th>\n",
       "      <th>Proveedor</th>\n",
       "    </tr>\n",
       "  </thead>\n",
       "  <tbody>\n",
       "    <tr>\n",
       "      <th>0</th>\n",
       "      <td>NaN</td>\n",
       "      <td>Impresora</td>\n",
       "      <td>NaN</td>\n",
       "      <td>HP</td>\n",
       "    </tr>\n",
       "    <tr>\n",
       "      <th>1</th>\n",
       "      <td>1.0</td>\n",
       "      <td>Pantalla</td>\n",
       "      <td>129.50</td>\n",
       "      <td>Lenovo</td>\n",
       "    </tr>\n",
       "    <tr>\n",
       "      <th>2</th>\n",
       "      <td>3.0</td>\n",
       "      <td>Raton</td>\n",
       "      <td>19.75</td>\n",
       "      <td>Microsoft</td>\n",
       "    </tr>\n",
       "    <tr>\n",
       "      <th>3</th>\n",
       "      <td>4.0</td>\n",
       "      <td>Scanner</td>\n",
       "      <td>157.90</td>\n",
       "      <td>NaN</td>\n",
       "    </tr>\n",
       "    <tr>\n",
       "      <th>4</th>\n",
       "      <td>2.0</td>\n",
       "      <td>Teclado</td>\n",
       "      <td>49.95</td>\n",
       "      <td>Logitech</td>\n",
       "    </tr>\n",
       "  </tbody>\n",
       "</table>\n",
       "</div>"
      ],
      "text/plain": [
       "    Id     Nombre  Precio  Proveedor\n",
       "0  NaN  Impresora     NaN         HP\n",
       "1  1.0   Pantalla  129.50     Lenovo\n",
       "2  3.0      Raton   19.75  Microsoft\n",
       "3  4.0    Scanner  157.90        NaN\n",
       "4  2.0    Teclado   49.95   Logitech"
      ]
     },
     "execution_count": 307,
     "metadata": {},
     "output_type": "execute_result"
    }
   ],
   "source": [
    "union = pd.merge(matriz_10, matriz_11, how='outer', on=['Nombre']) # Une todos los datos\n",
    "union"
   ]
  },
  {
   "cell_type": "markdown",
   "id": "0f3286b4-6b76-4252-a2db-6900ef0f08c6",
   "metadata": {},
   "source": [
    "### Ordenar"
   ]
  },
  {
   "cell_type": "code",
   "execution_count": 308,
   "id": "555f50c3-866d-409a-b797-306561561ca4",
   "metadata": {},
   "outputs": [
    {
     "data": {
      "text/html": [
       "<div>\n",
       "<style scoped>\n",
       "    .dataframe tbody tr th:only-of-type {\n",
       "        vertical-align: middle;\n",
       "    }\n",
       "\n",
       "    .dataframe tbody tr th {\n",
       "        vertical-align: top;\n",
       "    }\n",
       "\n",
       "    .dataframe thead th {\n",
       "        text-align: right;\n",
       "    }\n",
       "</style>\n",
       "<table border=\"1\" class=\"dataframe\">\n",
       "  <thead>\n",
       "    <tr style=\"text-align: right;\">\n",
       "      <th></th>\n",
       "      <th>Id</th>\n",
       "      <th>Nombre</th>\n",
       "      <th>Precio</th>\n",
       "      <th>Proveedor</th>\n",
       "    </tr>\n",
       "  </thead>\n",
       "  <tbody>\n",
       "    <tr>\n",
       "      <th>4</th>\n",
       "      <td>2.0</td>\n",
       "      <td>Teclado</td>\n",
       "      <td>49.95</td>\n",
       "      <td>Logitech</td>\n",
       "    </tr>\n",
       "    <tr>\n",
       "      <th>3</th>\n",
       "      <td>4.0</td>\n",
       "      <td>Scanner</td>\n",
       "      <td>157.90</td>\n",
       "      <td>NaN</td>\n",
       "    </tr>\n",
       "    <tr>\n",
       "      <th>2</th>\n",
       "      <td>3.0</td>\n",
       "      <td>Raton</td>\n",
       "      <td>19.75</td>\n",
       "      <td>Microsoft</td>\n",
       "    </tr>\n",
       "    <tr>\n",
       "      <th>1</th>\n",
       "      <td>1.0</td>\n",
       "      <td>Pantalla</td>\n",
       "      <td>129.50</td>\n",
       "      <td>Lenovo</td>\n",
       "    </tr>\n",
       "    <tr>\n",
       "      <th>0</th>\n",
       "      <td>NaN</td>\n",
       "      <td>Impresora</td>\n",
       "      <td>NaN</td>\n",
       "      <td>HP</td>\n",
       "    </tr>\n",
       "  </tbody>\n",
       "</table>\n",
       "</div>"
      ],
      "text/plain": [
       "    Id     Nombre  Precio  Proveedor\n",
       "4  2.0    Teclado   49.95   Logitech\n",
       "3  4.0    Scanner  157.90        NaN\n",
       "2  3.0      Raton   19.75  Microsoft\n",
       "1  1.0   Pantalla  129.50     Lenovo\n",
       "0  NaN  Impresora     NaN         HP"
      ]
     },
     "execution_count": 308,
     "metadata": {},
     "output_type": "execute_result"
    }
   ],
   "source": [
    "union.sort_values('Nombre', ascending=False)"
   ]
  },
  {
   "cell_type": "code",
   "execution_count": 309,
   "id": "892036d0-b634-480f-a4b4-b3d5bfbe2cd0",
   "metadata": {},
   "outputs": [
    {
     "data": {
      "text/html": [
       "<div>\n",
       "<style scoped>\n",
       "    .dataframe tbody tr th:only-of-type {\n",
       "        vertical-align: middle;\n",
       "    }\n",
       "\n",
       "    .dataframe tbody tr th {\n",
       "        vertical-align: top;\n",
       "    }\n",
       "\n",
       "    .dataframe thead th {\n",
       "        text-align: right;\n",
       "    }\n",
       "</style>\n",
       "<table border=\"1\" class=\"dataframe\">\n",
       "  <thead>\n",
       "    <tr style=\"text-align: right;\">\n",
       "      <th></th>\n",
       "      <th>Id</th>\n",
       "      <th>Nombre</th>\n",
       "      <th>Precio</th>\n",
       "      <th>Proveedor</th>\n",
       "    </tr>\n",
       "  </thead>\n",
       "  <tbody>\n",
       "    <tr>\n",
       "      <th>0</th>\n",
       "      <td>NaN</td>\n",
       "      <td>Impresora</td>\n",
       "      <td>NaN</td>\n",
       "      <td>HP</td>\n",
       "    </tr>\n",
       "    <tr>\n",
       "      <th>1</th>\n",
       "      <td>1.0</td>\n",
       "      <td>Pantalla</td>\n",
       "      <td>129.50</td>\n",
       "      <td>Lenovo</td>\n",
       "    </tr>\n",
       "    <tr>\n",
       "      <th>2</th>\n",
       "      <td>3.0</td>\n",
       "      <td>Raton</td>\n",
       "      <td>19.75</td>\n",
       "      <td>Microsoft</td>\n",
       "    </tr>\n",
       "    <tr>\n",
       "      <th>3</th>\n",
       "      <td>4.0</td>\n",
       "      <td>Scanner</td>\n",
       "      <td>157.90</td>\n",
       "      <td>NaN</td>\n",
       "    </tr>\n",
       "    <tr>\n",
       "      <th>4</th>\n",
       "      <td>2.0</td>\n",
       "      <td>Teclado</td>\n",
       "      <td>49.95</td>\n",
       "      <td>Logitech</td>\n",
       "    </tr>\n",
       "  </tbody>\n",
       "</table>\n",
       "</div>"
      ],
      "text/plain": [
       "    Id     Nombre  Precio  Proveedor\n",
       "0  NaN  Impresora     NaN         HP\n",
       "1  1.0   Pantalla  129.50     Lenovo\n",
       "2  3.0      Raton   19.75  Microsoft\n",
       "3  4.0    Scanner  157.90        NaN\n",
       "4  2.0    Teclado   49.95   Logitech"
      ]
     },
     "execution_count": 309,
     "metadata": {},
     "output_type": "execute_result"
    }
   ],
   "source": [
    "union.sort_values('Nombre')"
   ]
  },
  {
   "cell_type": "markdown",
   "id": "efb51344-9c0f-4e41-981d-bef009ea90fe",
   "metadata": {},
   "source": [
    "### Filtrar"
   ]
  },
  {
   "cell_type": "code",
   "execution_count": 310,
   "id": "71860be4-41e0-47ee-99b4-5a2bcb62244f",
   "metadata": {},
   "outputs": [
    {
     "data": {
      "text/html": [
       "<div>\n",
       "<style scoped>\n",
       "    .dataframe tbody tr th:only-of-type {\n",
       "        vertical-align: middle;\n",
       "    }\n",
       "\n",
       "    .dataframe tbody tr th {\n",
       "        vertical-align: top;\n",
       "    }\n",
       "\n",
       "    .dataframe thead th {\n",
       "        text-align: right;\n",
       "    }\n",
       "</style>\n",
       "<table border=\"1\" class=\"dataframe\">\n",
       "  <thead>\n",
       "    <tr style=\"text-align: right;\">\n",
       "      <th></th>\n",
       "      <th>Id</th>\n",
       "      <th>Nombre</th>\n",
       "      <th>Precio</th>\n",
       "      <th>Proveedor</th>\n",
       "    </tr>\n",
       "  </thead>\n",
       "  <tbody>\n",
       "    <tr>\n",
       "      <th>0</th>\n",
       "      <td>NaN</td>\n",
       "      <td>Impresora</td>\n",
       "      <td>NaN</td>\n",
       "      <td>HP</td>\n",
       "    </tr>\n",
       "  </tbody>\n",
       "</table>\n",
       "</div>"
      ],
      "text/plain": [
       "   Id     Nombre  Precio Proveedor\n",
       "0 NaN  Impresora     NaN        HP"
      ]
     },
     "execution_count": 310,
     "metadata": {},
     "output_type": "execute_result"
    }
   ],
   "source": [
    "union[union['Proveedor'] == 'HP']"
   ]
  },
  {
   "cell_type": "code",
   "execution_count": 311,
   "id": "57cdcc50-fe46-424f-b872-f95c2666b5da",
   "metadata": {},
   "outputs": [
    {
     "data": {
      "text/html": [
       "<div>\n",
       "<style scoped>\n",
       "    .dataframe tbody tr th:only-of-type {\n",
       "        vertical-align: middle;\n",
       "    }\n",
       "\n",
       "    .dataframe tbody tr th {\n",
       "        vertical-align: top;\n",
       "    }\n",
       "\n",
       "    .dataframe thead th {\n",
       "        text-align: right;\n",
       "    }\n",
       "</style>\n",
       "<table border=\"1\" class=\"dataframe\">\n",
       "  <thead>\n",
       "    <tr style=\"text-align: right;\">\n",
       "      <th></th>\n",
       "      <th>Id</th>\n",
       "      <th>Nombre</th>\n",
       "      <th>Precio</th>\n",
       "      <th>Proveedor</th>\n",
       "    </tr>\n",
       "  </thead>\n",
       "  <tbody>\n",
       "    <tr>\n",
       "      <th>2</th>\n",
       "      <td>3.0</td>\n",
       "      <td>Raton</td>\n",
       "      <td>19.75</td>\n",
       "      <td>Microsoft</td>\n",
       "    </tr>\n",
       "    <tr>\n",
       "      <th>4</th>\n",
       "      <td>2.0</td>\n",
       "      <td>Teclado</td>\n",
       "      <td>49.95</td>\n",
       "      <td>Logitech</td>\n",
       "    </tr>\n",
       "  </tbody>\n",
       "</table>\n",
       "</div>"
      ],
      "text/plain": [
       "    Id   Nombre  Precio  Proveedor\n",
       "2  3.0    Raton   19.75  Microsoft\n",
       "4  2.0  Teclado   49.95   Logitech"
      ]
     },
     "execution_count": 311,
     "metadata": {},
     "output_type": "execute_result"
    }
   ],
   "source": [
    "union[union['Precio'] < 100]"
   ]
  },
  {
   "cell_type": "code",
   "execution_count": 312,
   "id": "4bc901da-fea8-4b89-9026-7501809f1f00",
   "metadata": {},
   "outputs": [
    {
     "data": {
      "text/html": [
       "<div>\n",
       "<style scoped>\n",
       "    .dataframe tbody tr th:only-of-type {\n",
       "        vertical-align: middle;\n",
       "    }\n",
       "\n",
       "    .dataframe tbody tr th {\n",
       "        vertical-align: top;\n",
       "    }\n",
       "\n",
       "    .dataframe thead th {\n",
       "        text-align: right;\n",
       "    }\n",
       "</style>\n",
       "<table border=\"1\" class=\"dataframe\">\n",
       "  <thead>\n",
       "    <tr style=\"text-align: right;\">\n",
       "      <th></th>\n",
       "      <th>Id</th>\n",
       "      <th>Nombre</th>\n",
       "      <th>Precio</th>\n",
       "      <th>Proveedor</th>\n",
       "    </tr>\n",
       "  </thead>\n",
       "  <tbody>\n",
       "    <tr>\n",
       "      <th>4</th>\n",
       "      <td>2.0</td>\n",
       "      <td>Teclado</td>\n",
       "      <td>49.95</td>\n",
       "      <td>Logitech</td>\n",
       "    </tr>\n",
       "  </tbody>\n",
       "</table>\n",
       "</div>"
      ],
      "text/plain": [
       "    Id   Nombre  Precio Proveedor\n",
       "4  2.0  Teclado   49.95  Logitech"
      ]
     },
     "execution_count": 312,
     "metadata": {},
     "output_type": "execute_result"
    }
   ],
   "source": [
    "'''filtro = (union['Nombre'].str.len() > 5) & (union['Precio'] < 100)\n",
    "union[filtro]'''\n",
    "\n",
    "union[(union['Nombre'].str.len() > 5) & (union['Precio'] < 100)]"
   ]
  },
  {
   "cell_type": "markdown",
   "id": "88be92e3-ce8d-4926-909c-726108952854",
   "metadata": {},
   "source": [
    "### Borrar\n",
    "\n",
    "<ul>\n",
    "    <li>axis 1 : eliminar columnas</li>\n",
    "    <li>axis 0 : eliminar filas</li>\n",
    "</ul>"
   ]
  },
  {
   "cell_type": "code",
   "execution_count": 314,
   "id": "f03056be-5227-45d6-be88-81c5c85a49d0",
   "metadata": {},
   "outputs": [
    {
     "data": {
      "text/html": [
       "<div>\n",
       "<style scoped>\n",
       "    .dataframe tbody tr th:only-of-type {\n",
       "        vertical-align: middle;\n",
       "    }\n",
       "\n",
       "    .dataframe tbody tr th {\n",
       "        vertical-align: top;\n",
       "    }\n",
       "\n",
       "    .dataframe thead th {\n",
       "        text-align: right;\n",
       "    }\n",
       "</style>\n",
       "<table border=\"1\" class=\"dataframe\">\n",
       "  <thead>\n",
       "    <tr style=\"text-align: right;\">\n",
       "      <th></th>\n",
       "      <th>Nombre</th>\n",
       "      <th>Apellido</th>\n",
       "      <th>Notas</th>\n",
       "      <th>Resultado</th>\n",
       "    </tr>\n",
       "  </thead>\n",
       "  <tbody>\n",
       "    <tr>\n",
       "      <th>0</th>\n",
       "      <td>Juan</td>\n",
       "      <td>Garcia</td>\n",
       "      <td>4.5</td>\n",
       "      <td>NaN</td>\n",
       "    </tr>\n",
       "    <tr>\n",
       "      <th>1</th>\n",
       "      <td>Pedro</td>\n",
       "      <td>Sanchez</td>\n",
       "      <td>8.9</td>\n",
       "      <td>NaN</td>\n",
       "    </tr>\n",
       "    <tr>\n",
       "      <th>2</th>\n",
       "      <td>Estefania</td>\n",
       "      <td>Lopez</td>\n",
       "      <td>1.4</td>\n",
       "      <td>NaN</td>\n",
       "    </tr>\n",
       "    <tr>\n",
       "      <th>3</th>\n",
       "      <td>Ana</td>\n",
       "      <td>Garcia</td>\n",
       "      <td>5.6</td>\n",
       "      <td>NaN</td>\n",
       "    </tr>\n",
       "    <tr>\n",
       "      <th>4</th>\n",
       "      <td>Esteban</td>\n",
       "      <td>Gonzalez</td>\n",
       "      <td>7.8</td>\n",
       "      <td>NaN</td>\n",
       "    </tr>\n",
       "    <tr>\n",
       "      <th>5</th>\n",
       "      <td>Jorge</td>\n",
       "      <td>Garcia</td>\n",
       "      <td>4.5</td>\n",
       "      <td>Suspenso</td>\n",
       "    </tr>\n",
       "    <tr>\n",
       "      <th>6</th>\n",
       "      <td>Maria</td>\n",
       "      <td>Gonzalez</td>\n",
       "      <td>8.9</td>\n",
       "      <td>Aprobado</td>\n",
       "    </tr>\n",
       "  </tbody>\n",
       "</table>\n",
       "</div>"
      ],
      "text/plain": [
       "      Nombre  Apellido  Notas Resultado\n",
       "0       Juan    Garcia    4.5       NaN\n",
       "1      Pedro   Sanchez    8.9       NaN\n",
       "2  Estefania     Lopez    1.4       NaN\n",
       "3        Ana    Garcia    5.6       NaN\n",
       "4    Esteban  Gonzalez    7.8       NaN\n",
       "5      Jorge    Garcia    4.5  Suspenso\n",
       "6      Maria  Gonzalez    8.9  Aprobado"
      ]
     },
     "execution_count": 314,
     "metadata": {},
     "output_type": "execute_result"
    }
   ],
   "source": [
    "# Si borro una columna, para que el dataframe se actualize hay que hacer una asignacion\n",
    "matriz_12 = matriz_7.drop('Id', axis=1)\n",
    "matriz_12"
   ]
  },
  {
   "cell_type": "code",
   "execution_count": 318,
   "id": "ee60e4ad-c0d8-456e-b15a-c90a08307577",
   "metadata": {},
   "outputs": [
    {
     "data": {
      "text/html": [
       "<div>\n",
       "<style scoped>\n",
       "    .dataframe tbody tr th:only-of-type {\n",
       "        vertical-align: middle;\n",
       "    }\n",
       "\n",
       "    .dataframe tbody tr th {\n",
       "        vertical-align: top;\n",
       "    }\n",
       "\n",
       "    .dataframe thead th {\n",
       "        text-align: right;\n",
       "    }\n",
       "</style>\n",
       "<table border=\"1\" class=\"dataframe\">\n",
       "  <thead>\n",
       "    <tr style=\"text-align: right;\">\n",
       "      <th></th>\n",
       "      <th>Nombre</th>\n",
       "      <th>Apellido</th>\n",
       "      <th>Notas</th>\n",
       "    </tr>\n",
       "  </thead>\n",
       "  <tbody>\n",
       "    <tr>\n",
       "      <th>0</th>\n",
       "      <td>Juan</td>\n",
       "      <td>Garcia</td>\n",
       "      <td>4.5</td>\n",
       "    </tr>\n",
       "    <tr>\n",
       "      <th>1</th>\n",
       "      <td>Pedro</td>\n",
       "      <td>Sanchez</td>\n",
       "      <td>8.9</td>\n",
       "    </tr>\n",
       "    <tr>\n",
       "      <th>2</th>\n",
       "      <td>Estefania</td>\n",
       "      <td>Lopez</td>\n",
       "      <td>1.4</td>\n",
       "    </tr>\n",
       "    <tr>\n",
       "      <th>3</th>\n",
       "      <td>Ana</td>\n",
       "      <td>Garcia</td>\n",
       "      <td>5.6</td>\n",
       "    </tr>\n",
       "    <tr>\n",
       "      <th>4</th>\n",
       "      <td>Esteban</td>\n",
       "      <td>Gonzalez</td>\n",
       "      <td>7.8</td>\n",
       "    </tr>\n",
       "    <tr>\n",
       "      <th>5</th>\n",
       "      <td>Jorge</td>\n",
       "      <td>Garcia</td>\n",
       "      <td>4.5</td>\n",
       "    </tr>\n",
       "    <tr>\n",
       "      <th>6</th>\n",
       "      <td>Maria</td>\n",
       "      <td>Gonzalez</td>\n",
       "      <td>8.9</td>\n",
       "    </tr>\n",
       "  </tbody>\n",
       "</table>\n",
       "</div>"
      ],
      "text/plain": [
       "      Nombre  Apellido  Notas\n",
       "0       Juan    Garcia    4.5\n",
       "1      Pedro   Sanchez    8.9\n",
       "2  Estefania     Lopez    1.4\n",
       "3        Ana    Garcia    5.6\n",
       "4    Esteban  Gonzalez    7.8\n",
       "5      Jorge    Garcia    4.5\n",
       "6      Maria  Gonzalez    8.9"
      ]
     },
     "execution_count": 318,
     "metadata": {},
     "output_type": "execute_result"
    }
   ],
   "source": [
    "matriz_12 = matriz_7.drop(['Id', 'Resultado'], axis=1) # Eliminar dos columnas\n",
    "matriz_12"
   ]
  },
  {
   "cell_type": "code",
   "execution_count": 319,
   "id": "998f093c-251b-4434-b1a9-126cdede7de6",
   "metadata": {},
   "outputs": [
    {
     "data": {
      "text/html": [
       "<div>\n",
       "<style scoped>\n",
       "    .dataframe tbody tr th:only-of-type {\n",
       "        vertical-align: middle;\n",
       "    }\n",
       "\n",
       "    .dataframe tbody tr th {\n",
       "        vertical-align: top;\n",
       "    }\n",
       "\n",
       "    .dataframe thead th {\n",
       "        text-align: right;\n",
       "    }\n",
       "</style>\n",
       "<table border=\"1\" class=\"dataframe\">\n",
       "  <thead>\n",
       "    <tr style=\"text-align: right;\">\n",
       "      <th></th>\n",
       "      <th>Id</th>\n",
       "      <th>Nombre</th>\n",
       "      <th>Apellido</th>\n",
       "      <th>Notas</th>\n",
       "      <th>Resultado</th>\n",
       "    </tr>\n",
       "  </thead>\n",
       "  <tbody>\n",
       "    <tr>\n",
       "      <th>0</th>\n",
       "      <td>1</td>\n",
       "      <td>Juan</td>\n",
       "      <td>Garcia</td>\n",
       "      <td>4.5</td>\n",
       "      <td>NaN</td>\n",
       "    </tr>\n",
       "    <tr>\n",
       "      <th>1</th>\n",
       "      <td>2</td>\n",
       "      <td>Pedro</td>\n",
       "      <td>Sanchez</td>\n",
       "      <td>8.9</td>\n",
       "      <td>NaN</td>\n",
       "    </tr>\n",
       "    <tr>\n",
       "      <th>2</th>\n",
       "      <td>3</td>\n",
       "      <td>Estefania</td>\n",
       "      <td>Lopez</td>\n",
       "      <td>1.4</td>\n",
       "      <td>NaN</td>\n",
       "    </tr>\n",
       "    <tr>\n",
       "      <th>3</th>\n",
       "      <td>4</td>\n",
       "      <td>Ana</td>\n",
       "      <td>Garcia</td>\n",
       "      <td>5.6</td>\n",
       "      <td>NaN</td>\n",
       "    </tr>\n",
       "    <tr>\n",
       "      <th>4</th>\n",
       "      <td>5</td>\n",
       "      <td>Esteban</td>\n",
       "      <td>Gonzalez</td>\n",
       "      <td>7.8</td>\n",
       "      <td>NaN</td>\n",
       "    </tr>\n",
       "    <tr>\n",
       "      <th>6</th>\n",
       "      <td>9</td>\n",
       "      <td>Maria</td>\n",
       "      <td>Gonzalez</td>\n",
       "      <td>8.9</td>\n",
       "      <td>Aprobado</td>\n",
       "    </tr>\n",
       "  </tbody>\n",
       "</table>\n",
       "</div>"
      ],
      "text/plain": [
       "   Id     Nombre  Apellido  Notas Resultado\n",
       "0   1       Juan    Garcia    4.5       NaN\n",
       "1   2      Pedro   Sanchez    8.9       NaN\n",
       "2   3  Estefania     Lopez    1.4       NaN\n",
       "3   4        Ana    Garcia    5.6       NaN\n",
       "4   5    Esteban  Gonzalez    7.8       NaN\n",
       "6   9      Maria  Gonzalez    8.9  Aprobado"
      ]
     },
     "execution_count": 319,
     "metadata": {},
     "output_type": "execute_result"
    }
   ],
   "source": [
    "matriz_13 = matriz_7.drop(5, axis=0) # Borrar la fila de 5 que es la de Jorge\n",
    "matriz_13"
   ]
  },
  {
   "cell_type": "code",
   "execution_count": 320,
   "id": "9c491a33-eac6-4bea-88ca-77c6e26f1c8d",
   "metadata": {},
   "outputs": [
    {
     "data": {
      "text/html": [
       "<div>\n",
       "<style scoped>\n",
       "    .dataframe tbody tr th:only-of-type {\n",
       "        vertical-align: middle;\n",
       "    }\n",
       "\n",
       "    .dataframe tbody tr th {\n",
       "        vertical-align: top;\n",
       "    }\n",
       "\n",
       "    .dataframe thead th {\n",
       "        text-align: right;\n",
       "    }\n",
       "</style>\n",
       "<table border=\"1\" class=\"dataframe\">\n",
       "  <thead>\n",
       "    <tr style=\"text-align: right;\">\n",
       "      <th></th>\n",
       "      <th>Id</th>\n",
       "      <th>Nombre</th>\n",
       "      <th>Apellido</th>\n",
       "      <th>Notas</th>\n",
       "      <th>Resultado</th>\n",
       "    </tr>\n",
       "  </thead>\n",
       "  <tbody>\n",
       "    <tr>\n",
       "      <th>1</th>\n",
       "      <td>2</td>\n",
       "      <td>Pedro</td>\n",
       "      <td>Sanchez</td>\n",
       "      <td>8.9</td>\n",
       "      <td>NaN</td>\n",
       "    </tr>\n",
       "    <tr>\n",
       "      <th>3</th>\n",
       "      <td>4</td>\n",
       "      <td>Ana</td>\n",
       "      <td>Garcia</td>\n",
       "      <td>5.6</td>\n",
       "      <td>NaN</td>\n",
       "    </tr>\n",
       "    <tr>\n",
       "      <th>4</th>\n",
       "      <td>5</td>\n",
       "      <td>Esteban</td>\n",
       "      <td>Gonzalez</td>\n",
       "      <td>7.8</td>\n",
       "      <td>NaN</td>\n",
       "    </tr>\n",
       "    <tr>\n",
       "      <th>5</th>\n",
       "      <td>8</td>\n",
       "      <td>Jorge</td>\n",
       "      <td>Garcia</td>\n",
       "      <td>4.5</td>\n",
       "      <td>Suspenso</td>\n",
       "    </tr>\n",
       "    <tr>\n",
       "      <th>6</th>\n",
       "      <td>9</td>\n",
       "      <td>Maria</td>\n",
       "      <td>Gonzalez</td>\n",
       "      <td>8.9</td>\n",
       "      <td>Aprobado</td>\n",
       "    </tr>\n",
       "  </tbody>\n",
       "</table>\n",
       "</div>"
      ],
      "text/plain": [
       "   Id   Nombre  Apellido  Notas Resultado\n",
       "1   2    Pedro   Sanchez    8.9       NaN\n",
       "3   4      Ana    Garcia    5.6       NaN\n",
       "4   5  Esteban  Gonzalez    7.8       NaN\n",
       "5   8    Jorge    Garcia    4.5  Suspenso\n",
       "6   9    Maria  Gonzalez    8.9  Aprobado"
      ]
     },
     "execution_count": 320,
     "metadata": {},
     "output_type": "execute_result"
    }
   ],
   "source": [
    "matriz_14 = matriz_7.drop([0,2], axis=0)\n",
    "matriz_14"
   ]
  },
  {
   "cell_type": "code",
   "execution_count": 321,
   "id": "125b8712-6a69-4850-a10b-40e6c77c30ce",
   "metadata": {},
   "outputs": [
    {
     "data": {
      "text/html": [
       "<div>\n",
       "<style scoped>\n",
       "    .dataframe tbody tr th:only-of-type {\n",
       "        vertical-align: middle;\n",
       "    }\n",
       "\n",
       "    .dataframe tbody tr th {\n",
       "        vertical-align: top;\n",
       "    }\n",
       "\n",
       "    .dataframe thead th {\n",
       "        text-align: right;\n",
       "    }\n",
       "</style>\n",
       "<table border=\"1\" class=\"dataframe\">\n",
       "  <thead>\n",
       "    <tr style=\"text-align: right;\">\n",
       "      <th></th>\n",
       "      <th>Id</th>\n",
       "      <th>Nombre</th>\n",
       "      <th>Apellido</th>\n",
       "      <th>Notas</th>\n",
       "      <th>Resultado</th>\n",
       "    </tr>\n",
       "  </thead>\n",
       "  <tbody>\n",
       "    <tr>\n",
       "      <th>2</th>\n",
       "      <td>3</td>\n",
       "      <td>Estefania</td>\n",
       "      <td>Lopez</td>\n",
       "      <td>1.4</td>\n",
       "      <td>NaN</td>\n",
       "    </tr>\n",
       "    <tr>\n",
       "      <th>3</th>\n",
       "      <td>4</td>\n",
       "      <td>Ana</td>\n",
       "      <td>Garcia</td>\n",
       "      <td>5.6</td>\n",
       "      <td>NaN</td>\n",
       "    </tr>\n",
       "    <tr>\n",
       "      <th>4</th>\n",
       "      <td>5</td>\n",
       "      <td>Esteban</td>\n",
       "      <td>Gonzalez</td>\n",
       "      <td>7.8</td>\n",
       "      <td>NaN</td>\n",
       "    </tr>\n",
       "    <tr>\n",
       "      <th>5</th>\n",
       "      <td>8</td>\n",
       "      <td>Jorge</td>\n",
       "      <td>Garcia</td>\n",
       "      <td>4.5</td>\n",
       "      <td>Suspenso</td>\n",
       "    </tr>\n",
       "    <tr>\n",
       "      <th>6</th>\n",
       "      <td>9</td>\n",
       "      <td>Maria</td>\n",
       "      <td>Gonzalez</td>\n",
       "      <td>8.9</td>\n",
       "      <td>Aprobado</td>\n",
       "    </tr>\n",
       "  </tbody>\n",
       "</table>\n",
       "</div>"
      ],
      "text/plain": [
       "   Id     Nombre  Apellido  Notas Resultado\n",
       "2   3  Estefania     Lopez    1.4       NaN\n",
       "3   4        Ana    Garcia    5.6       NaN\n",
       "4   5    Esteban  Gonzalez    7.8       NaN\n",
       "5   8      Jorge    Garcia    4.5  Suspenso\n",
       "6   9      Maria  Gonzalez    8.9  Aprobado"
      ]
     },
     "execution_count": 321,
     "metadata": {},
     "output_type": "execute_result"
    }
   ],
   "source": [
    "matriz_15 = matriz_7.drop(range(0,2), axis=0)\n",
    "matriz_15"
   ]
  },
  {
   "cell_type": "markdown",
   "id": "a3bac2a6-a862-40e9-a598-8f78d0466e2b",
   "metadata": {},
   "source": [
    "### Valores unicos"
   ]
  },
  {
   "cell_type": "code",
   "execution_count": 322,
   "id": "d64810dd-ca2d-4998-be9b-f524383622d0",
   "metadata": {},
   "outputs": [
    {
     "data": {
      "text/plain": [
       "array(['Lopez', 'Garcia', 'Gonzalez'], dtype=object)"
      ]
     },
     "execution_count": 322,
     "metadata": {},
     "output_type": "execute_result"
    }
   ],
   "source": [
    "matriz_15['Apellido'].unique()"
   ]
  },
  {
   "cell_type": "code",
   "execution_count": 323,
   "id": "cd1a6c03-b716-46a4-8a00-8fd2ae95cb06",
   "metadata": {},
   "outputs": [
    {
     "data": {
      "text/plain": [
       "['Lopez', 'Garcia', 'Gonzalez']"
      ]
     },
     "execution_count": 323,
     "metadata": {},
     "output_type": "execute_result"
    }
   ],
   "source": [
    "matriz_15['Apellido'].unique().tolist()"
   ]
  }
 ],
 "metadata": {
  "kernelspec": {
   "display_name": "Python 3 (ipykernel)",
   "language": "python",
   "name": "python3"
  },
  "language_info": {
   "codemirror_mode": {
    "name": "ipython",
    "version": 3
   },
   "file_extension": ".py",
   "mimetype": "text/x-python",
   "name": "python",
   "nbconvert_exporter": "python",
   "pygments_lexer": "ipython3",
   "version": "3.11.5"
  }
 },
 "nbformat": 4,
 "nbformat_minor": 5
}
