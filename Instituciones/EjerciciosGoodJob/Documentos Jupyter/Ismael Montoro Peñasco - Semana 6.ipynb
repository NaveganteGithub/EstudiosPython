{
  "metadata": {
    "kernelspec": {
      "name": "python",
      "display_name": "Python (Pyodide)",
      "language": "python"
    },
    "language_info": {
      "codemirror_mode": {
        "name": "python",
        "version": 3
      },
      "file_extension": ".py",
      "mimetype": "text/x-python",
      "name": "python",
      "nbconvert_exporter": "python",
      "pygments_lexer": "ipython3",
      "version": "3.8"
    }
  },
  "nbformat_minor": 4,
  "nbformat": 4,
  "cells": [
    {
      "cell_type": "markdown",
      "source": "# Importaciones iniciales",
      "metadata": {}
    },
    {
      "cell_type": "code",
      "source": "%pip install -q pillow",
      "metadata": {
        "trusted": true
      },
      "outputs": [],
      "execution_count": 12
    },
    {
      "cell_type": "code",
      "source": "import base64\nfrom PIL import Image\nimport io\nimport pickle\nimport random",
      "metadata": {
        "trusted": true
      },
      "outputs": [],
      "execution_count": 1
    },
    {
      "cell_type": "markdown",
      "source": "# Codificaciones y Decodificaciones",
      "metadata": {}
    },
    {
      "cell_type": "raw",
      "source": "1º Decodifica un texto en Base64 con Python.",
      "metadata": {}
    },
    {
      "cell_type": "code",
      "source": "texto_codificado = \"SG9sYQ==\"\n\ndef decodificar_base64(codificacion: str) -> str:\n    codificacion = codificacion.encode()\n    paso_bytes = bytes(codificacion)\n    return base64.b64decode(paso_bytes).decode(\"UTF-8\")\n\ndecodificar_base64(texto_codificado)",
      "metadata": {
        "trusted": true
      },
      "outputs": [
        {
          "execution_count": 11,
          "output_type": "execute_result",
          "data": {
            "text/plain": "'Hola'"
          },
          "metadata": {}
        }
      ],
      "execution_count": 11
    },
    {
      "cell_type": "raw",
      "source": "2º Decodifica un texto en Base32 con Python.",
      "metadata": {}
    },
    {
      "cell_type": "code",
      "source": "texto_codificado = \"JBXWYYI=\"\n\ndef decodificar_base32(codificacion: str) -> str:\n    codificacion = codificacion.encode()\n    paso_bytes = bytes(codificacion)\n    return base64.b32decode(paso_bytes).decode(\"UTF-8\")\n\ndecodificar_base32(texto_codificado)",
      "metadata": {
        "trusted": true
      },
      "outputs": [
        {
          "execution_count": 13,
          "output_type": "execute_result",
          "data": {
            "text/plain": "'Hola'"
          },
          "metadata": {}
        }
      ],
      "execution_count": 13
    },
    {
      "cell_type": "raw",
      "source": "3º Decodifica un texto en hexadecimal con Python.",
      "metadata": {}
    },
    {
      "cell_type": "code",
      "source": "texto_codificado = \"486F6C61\"\n\ndef decodificar_base16(hexadecimal: str) -> str:\n    codificacion = hexadecimal.encode()\n    paso_bytes = bytes(codificacion)\n    return base64.b16decode(paso_bytes).decode(\"UTF-8\")\n\ndecodificar_base16(texto_codificado)",
      "metadata": {
        "trusted": true
      },
      "outputs": [
        {
          "execution_count": 17,
          "output_type": "execute_result",
          "data": {
            "text/plain": "'Hola'"
          },
          "metadata": {}
        }
      ],
      "execution_count": 17
    },
    {
      "cell_type": "raw",
      "source": "4º Codifica y decodifica una imagen con Python.",
      "metadata": {}
    },
    {
      "cell_type": "code",
      "source": "def codificar_imagenes(ruta: str) -> str:\n    # Abre la imagen con PIL\n    image_pil = Image.open(ruta)\n\n    # Guarda la imagen en un objeto BytesIO\n    buffer = io.BytesIO()\n    image_pil.save(buffer, format=\"JPEG\")\n\n    # Codifica los bytes en base64\n    image_base64 = base64.b64encode(buffer.getvalue()).decode(\"utf-8\")\n    return image_base64\n\ndef decodificar_imagenes(codificacion: str, ruta_nueva_guardar_imagen: str):\n    # Decodifica el base64\n    decoded_bytes = base64.b64decode(codificacion)\n\n    # Crea una nueva imagen desde los bytes decodificados\n    restored_image = Image.open(io.BytesIO(decoded_bytes))\n\n    # Guarda la imagen restaurada\n    restored_image.save(ruta_nueva_guardar_imagen)\n\nprint(\"Imagen Codificada\")\nimagen_codificada = codificar_imagenes(\"luna.jpg\")\nprint(imagen_codificada)\nprint(\"Decodificando imagen\")\ndecodificar_imagenes(imagen_codificada, \"luna2.jpg\")\nprint(\"Imagen codificada\")",
      "metadata": {
        "trusted": true
      },
      "outputs": [
        {
          "name": "stdout",
          "text": "Imagen Codificada\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\nDecodificando imagen\nImagen codificada\n",
          "output_type": "stream"
        }
      ],
      "execution_count": 4
    },
    {
      "cell_type": "raw",
      "source": "5º Codifica y decodifica una clase con Python.",
      "metadata": {}
    },
    {
      "cell_type": "code",
      "source": "class Identificar():\n\n    def __init__(self) -> None:\n        self.identificado = True\n        self.hora = \"05/03/2024 13:46:00\"\n\n    def get_identificado(self):\n        return self.identificado\n        \n    def get_hora(self):\n        return self.hora\n\n\ndef codificar_clases(clase: object):\n    # Serializar la instancia en bytes\n    objeto_bytes = pickle.dumps(clase)\n    return base64.b64encode(objeto_bytes).decode(\"utf-8\")\n    \ndef decodificar_clases(codificacion: str) -> object:\n    # Decodificar el base64\n    decoded_bytes = base64.b64decode(codificacion)\n    # Restaurar la instancia desde los bytes decodificados\n    objeto_restaurado = pickle.loads(decoded_bytes)\n    return objeto_restaurado\n\nmi_clase = Identificar()\nclase_codificada = codificar_clases(mi_clase)\nprint(\"Clase codificada:\", clase_codificada)\nclase_decodificada = decodificar_clases(clase_codificada)\nprint(\"Clase decodificada:\", clase_decodificada)\nprint(\"Pedir si se ha identificado:\", clase_decodificada.get_identificado())\nprint(\"Pedir si se ha identificado:\", clase_decodificada.get_hora())",
      "metadata": {
        "trusted": true
      },
      "outputs": [
        {
          "name": "stdout",
          "text": "Clase codificada: gASVUQAAAAAAAACMCF9fbWFpbl9flIwLSWRlbnRpZmljYXKUk5QpgZR9lCiMDGlkZW50aWZpY2Fkb5SIjARob3JhlIwTMDUvMDMvMjAyNCAxMzo0NjowMJR1Yi4=\nClase decodificada: <__main__.Identificar object at 0x176dab8>\nPedir si se ha identificado: True\nPedir si se ha identificado: 05/03/2024 13:46:00\n",
          "output_type": "stream"
        }
      ],
      "execution_count": 11
    },
    {
      "cell_type": "markdown",
      "source": "# Encriptaciones",
      "metadata": {}
    },
    {
      "cell_type": "raw",
      "source": "6º Cifra y descifra un texto con el algoritmo RC4, con el uso de una libreria o un codigo externo.",
      "metadata": {}
    },
    {
      "cell_type": "code",
      "source": "def ksa(key):\n    \"\"\"\n    Key Scheduling Algorithm (KSA)\n    A partir de una clave escrita por nosotros, \n    generamos una coleccion que hara de clave\n    \"\"\"\n    S = list(range(256))\n    j = 0\n    for i in range(256):\n        j = (j + S[i] + key[i % len(key)]) % 256\n        S[i], S[j] = S[j], S[i]\n    return S\n\ndef prga(S, plaintext):\n    \"\"\"\n    Pseudo-Random Generation Algorithm (PRGA)\n    Este metodo genera los calculos necesarios \n    para \"digerir\" a partir de lo que pasen por \n    parametro\n    \"\"\"\n    i = j = 0\n    ciphertext = []\n    for char in plaintext:\n        i = (i + 1) % 256\n        j = (j + S[i]) % 256\n        S[i], S[j] = S[j], S[i]\n        ciphertext.append(char ^ S[(S[i] + S[j]) % 256])\n    return bytes(ciphertext)\n\ndef encrypt_rc4(plaintext: str, key: str):\n    # Introduces la clave y generas una lista a como de clave\n    S = ksa(key.encode())\n    # Retorna el texto cifrado a partir del texto cifrado\n    return prga(S, plaintext.encode())\n\ndef decrypt_rc4(ciphertext, key: str):\n    # Introduces la clave y generas una lista a como de clave\n    S = ksa(key.encode())\n    # Utilizando la clave generada, y le texto encriptado realizamos la desencriptacion \n    return prga(S, ciphertext)\n\nsecret_key = \"CalculoMatematico123\"\nmessage = \"Esto es un cifrado antiguo!\"\n\nencrypted_message = encrypt_rc4(message, secret_key)\ndecrypted_message = decrypt_rc4(encrypted_message, secret_key)\n\nprint(\"Texto cifrado -\", encrypted_message.hex())\nprint(\"Texto descifrado -\", decrypted_message.decode())",
      "metadata": {
        "trusted": true
      },
      "outputs": [
        {
          "name": "stdout",
          "text": "Texto cifrado - 5db38117098543f965f7a6df15a55dbcd531223f21799592584f61\nTexto descifrado - Esto es un cifrado antiguo!\n",
          "output_type": "stream"
        }
      ],
      "execution_count": 6
    },
    {
      "cell_type": "raw",
      "source": "7º Crea por tu propia cuenta un codigo Python para aplicar el cifrado alberti a un texto.",
      "metadata": {}
    },
    {
      "cell_type": "code",
      "source": "def cifrado_alberti(texto: str, clave: int, rotacion: str = \"derecha\"):\n        \"\"\"\n        Este cifrado fue creado por Leon Battista Alberti creador del criptoanalisis\n        sustitucion poli alfabetica. Tradicionalmente este cifrado se hace con un\n        mecanismo de dos discos un disco fijo y otro movil, se ajusta el movil para\n        que coincida sus caracteres con los caracteres del disco fijo, \n        posicionando el disco movil como queramos.\n\n            https://www.youtube.com/watch?v=k1Dq0c1CzQw\n            https://www.youtube.com/watch?app=desktop&v=JTm-bTK5TiE\n        \"\"\"\n        rueda_fija = \"DX1CGKB8M4RFUIY2L6ÑSHQ5W7EV9NJPZT3AO\"\n        rueda_movil = \"yqva!x0jt@$gzw&eoph%ñdr=cs?m#nfkulib\"\n        numero_letras = len(rueda_movil)\n        resultado = \"\"\n\n        comparacion = rotacion.lower()\n        if comparacion == \"derecha\":\n            for _ in range(clave):\n                ultima_letra = rueda_movil[numero_letras - 1]\n                sub_cadena = rueda_movil[:numero_letras - 1]\n                rueda_movil = ultima_letra + sub_cadena\n        elif comparacion == \"izquierda\":\n            for _ in range(clave):\n                primera_letra = rueda_movil[0]\n                sub_cadena = rueda_movil[1:]\n                rueda_movil = sub_cadena + primera_letra\n\n        for caracter in texto.upper():\n            posicion = rueda_fija.index(caracter)\n            resultado += rueda_movil[posicion]\n\n        return resultado\n\ncadena = \"Hola\"\ntexto_cifrado = cifrado_alberti(cadena, 12, \"derecha\")\nprint(cadena + \":derecha -\", texto_cifrado)\ntexto_cifrado = cifrado_alberti(cadena, 12, \"izquierda\")\nprint(cadena + \":izquierda -\", texto_cifrado)",
      "metadata": {
        "trusted": true
      },
      "outputs": [
        {
          "name": "stdout",
          "text": "Hola:derecha - t=!r\nHola:izquierda - ug#$\n",
          "output_type": "stream"
        }
      ],
      "execution_count": 7
    },
    {
      "cell_type": "raw",
      "source": "8º Aplica el cifrado vigenere para cifrar un texto.",
      "metadata": {}
    },
    {
      "cell_type": "code",
      "source": "abecedario = {'A': 0, 'B': 1, 'C': 2, 'D': 3, 'E': 4, \n                'F': 5, 'G': 6, 'H': 7, 'I': 8, 'J': 9, \n                'K': 10, 'L': 11, 'M': 12, 'N': 13, 'Ñ': 14,\n                'O': 15, 'P': 16, 'Q': 17, 'R': 18, 'S': 19, \n                'T': 20, 'U': 21, 'V': 22, 'W': 23, 'X': 24, \n                'Y': 25, 'Z': 26}\nabecedario_valores = list(abecedario.keys())\n\ndef generar_clave(texto: str):\n    # Nos aseguramos de que la clave tenga la misma longitud que el texto\n    longitud_texto = len(texto)\n    clave = \"\"\n    for _ in range(longitud_texto):\n        clave += str(random.choice(list(abecedario.keys())))\n    \n    return clave\n\ndef cifrado(texto: str):    \n    clave = generar_clave(texto)\n    texto_plano = texto.upper()\n    texto_cifrado = \"\"\n    for caracter_texto_plano, caracter_clave in zip(texto_plano, clave):\n        posicion_caracter_texto = abecedario[caracter_texto_plano]\n        posicion_caracter_clave = abecedario[caracter_clave]\n        resultado = (posicion_caracter_texto + posicion_caracter_clave) % len(abecedario)\n        texto_cifrado += abecedario_valores[resultado]\n    \n    return {\"texto_cifrado\": texto_cifrado, \"clave\": clave}\n\ndef descifrado(texto_cifrado: str, clave: str):\n    \n    longitud_abecedario = len(abecedario)\n    resultado = None\n    texto_descifrado = \"\"\n\n    for caracter_texto_cifrado, caracter_clave in zip(texto_cifrado, clave):\n        \n        posicion_texto_cifrado = abecedario[caracter_texto_cifrado]\n        posicion_clave = abecedario[caracter_clave]\n        \n        resultado_medida = posicion_texto_cifrado - posicion_clave\n        if resultado_medida >= 0:\n            resultado = resultado_medida % longitud_abecedario\n        elif resultado_medida < 0:\n            resultado = (resultado_medida + longitud_abecedario) % longitud_abecedario\n\n        texto_descifrado += abecedario_valores[resultado]\n\n    return texto_descifrado\n\ntexto_cifrado = cifrado(\"Hola\")\nprint(\"Texto cifrado -\", texto_cifrado['texto_cifrado'])\ntexto_descifrado = descifrado(texto_cifrado['texto_cifrado'], texto_cifrado['clave'])\nprint(\"Texto descifrado -\", texto_descifrado.title())",
      "metadata": {
        "trusted": true
      },
      "outputs": [
        {
          "name": "stdout",
          "text": "Texto cifrado - CFII\nTexto descifrado - Hola\n",
          "output_type": "stream"
        }
      ],
      "execution_count": 8
    },
    {
      "cell_type": "raw",
      "source": "9º Aplica el cifrado Cesar en un texto.",
      "metadata": {}
    },
    {
      "cell_type": "code",
      "source": "def cifrar(texto: str):\n    abecedario = \"ABCDEFGHIJKLMNÑOPQRSTUVWXYZ\" + \"ABCDE\"\n    texto_plano = texto.upper()\n    texto_cifrado = \"\"\n    for caracter in texto_plano:\n        posicion = abecedario.index(caracter)\n        resultado = posicion + 3\n        texto_cifrado += abecedario[resultado]\n        \n    return texto_cifrado\n\ndef descifrar(texto_cifrado: str):\n    texto_descifrado = \"\"\n    abecedario = \"VWXYZ\" + \"ABCDEFGHIJKLMNÑOPQRSTUVWXYZ\"\n    \n    for caracter in texto_cifrado:\n        posicion = abecedario.index(caracter)\n        resultado = posicion - 3\n        texto_descifrado += abecedario[resultado]\n    \n    return texto_descifrado\n\ntexto_cifrado = cifrar(\"Hola\")\nprint(\"Texto cifrado -\", texto_cifrado)\ntexto_descifrado = descifrar(texto_cifrado)\nprint(\"Texto descifrado -\", texto_descifrado)",
      "metadata": {
        "trusted": true
      },
      "outputs": [
        {
          "name": "stdout",
          "text": "Texto cifrado - KRÑD\nTexto descifrado - HOLA\n",
          "output_type": "stream"
        }
      ],
      "execution_count": 9
    },
    {
      "cell_type": "raw",
      "source": "10º Aplica el cifrado Polibio en un texto.",
      "metadata": {}
    },
    {
      "cell_type": "code",
      "source": "# https://es.wikipedia.org/wiki/Cuadrado_de_Polibio\nabecedario = {'A': 11, 'B': 12, 'C': 13, 'D': 14, 'E': 15, \n              'F': 21, 'G': 22, 'H': 23, 'I': 24, 'J': 24, \n              'K': 25, 'L': 31, 'M': 32, 'N': 33, 'O': 34, \n              'P': 35, 'Q': 41, 'R': 42, 'S': 43, 'T': 44, \n              'U': 45, 'V': 51, 'W': 52, 'X': 53, 'Y': 54, \n              'Z': 55}\nabecedario_clave  = list(abecedario.keys())\nabecedario_valores = list(abecedario.values())\n\ndef cifrar(texto: str):\n    texto_cifrado = \"\"\n    texto_plano = texto.upper()\n    for caracter in texto_plano:\n        texto_cifrado += str(abecedario[caracter])\n    return texto_cifrado\n\ndef descifrar(texto_cifrado: str):\n    texto_descifrado = \"\"\n    \n    for i in range(0, len(texto_cifrado), 2):\n        posicion = texto_cifrado[i] + texto_cifrado[i+1]\n        posicion = int(posicion)\n        posicion_letra = abecedario_valores.index(posicion)\n        texto_descifrado += abecedario_clave[posicion_letra]\n        \n    return texto_descifrado\n\ntexto_cifrado = cifrar(\"Hola\")\nprint(\"Texto cifrado -\", texto_cifrado)\ntexto_descifrado = descifrar(texto_cifrado)\nprint(\"Texto descifrado -\", texto_descifrado)",
      "metadata": {
        "trusted": true
      },
      "outputs": [],
      "execution_count": null
    }
  ]
}