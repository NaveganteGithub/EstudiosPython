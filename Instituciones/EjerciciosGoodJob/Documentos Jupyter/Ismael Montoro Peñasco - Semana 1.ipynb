{
  "metadata": {
    "kernelspec": {
      "name": "python",
      "display_name": "Python (Pyodide)",
      "language": "python"
    },
    "language_info": {
      "codemirror_mode": {
        "name": "python",
        "version": 3
      },
      "file_extension": ".py",
      "mimetype": "text/x-python",
      "name": "python",
      "nbconvert_exporter": "python",
      "pygments_lexer": "ipython3",
      "version": "3.8"
    }
  },
  "nbformat_minor": 4,
  "nbformat": 4,
  "cells": [
    {
      "cell_type": "raw",
      "source": "1º Crea una función que tome una lista y devuelva una nueva lista con los elementos únicos de la lista original.",
      "metadata": {}
    },
    {
      "cell_type": "code",
      "source": "lista = [5,8,9,2,6,4,10,5,9,2,1,5,9,10,9,6,1,10]\n\n# Creamos una funcion que utilice un set para eliminar la redundancias\ndef eliminar_redundancias(lista: list):\n    return list(set(lista))\n\nprint(\"La lista\", lista, \"ha sido resumida a\", eliminar_redundancias(lista))",
      "metadata": {
        "trusted": true
      },
      "outputs": [
        {
          "name": "stdout",
          "text": "La lista [5, 8, 9, 2, 6, 4, 10, 5, 9, 2, 1, 5, 9, 10, 9, 6, 1, 10] ha sido resumida a [1, 2, 4, 5, 6, 8, 9, 10]\n",
          "output_type": "stream"
        }
      ],
      "execution_count": 30
    },
    {
      "cell_type": "raw",
      "source": "2º Escribe un programa que imprima los primeros 10 números de la serie de Fibonacci.",
      "metadata": {}
    },
    {
      "cell_type": "code",
      "source": "fibonacci = [0,1] # Creamos una lista inicial con los primeros valores de la secuencia de Fibonacci.\n\nfor _ in range(8): # Elegimos cuantas veces vamos a realizar la operacion de Fibonacci con un for y un range\n    fibonacci.append(fibonacci[-1] + fibonacci[-2]) # Sumamos el penultimo y el ultimo valor de la lista\n\nprint(fibonacci)",
      "metadata": {
        "trusted": true
      },
      "outputs": [
        {
          "name": "stdout",
          "text": "[0, 1, 1, 2, 3, 5, 8, 13, 21, 34]\n",
          "output_type": "stream"
        }
      ],
      "execution_count": 29
    },
    {
      "cell_type": "raw",
      "source": "3º Crea una función que implemente el algoritmo de ordenación por mezcla (merge sort)",
      "metadata": {}
    },
    {
      "cell_type": "code",
      "source": "lista = [5,8,9,2,6,4,10]\n\n# Creamos la funcion que dividira la lista a varias partes\ndef merge_sort(lista_des: list):\n    # Creamos dos listas\n    left = list() \n    right = list()\n\n    # Comprobamos que la lista tenga más de un valor\n    if len(lista_des) <= 1:\n        return lista_des\n    \n    # Crearemos un for con un Enumerate nos dara un objeto, \n    # con todos los elementos de la lista en una celda y \n    # cada elemento tendra un index, haciendo asi una \n    # enumeracion de todos los elementos, por lo que habra\n    # que desempaquetar\n    for i, x in enumerate(lista_des):\n        if i < len(lista_des) / 2: # Si el valor de la division es menor que el indice actual\n            left.append(x) # se guardara el valor de la lista en la lista left\n        else:\n            right.append(x) # sino se guardara en la lista right\n    \n    # Realimos recursividad en ambas lista y guardaremos las listas devueltas\n    left = merge_sort(left) \n    right = merge_sort(right)\n\n    # Pasamos la listas a la funcion merge y retornamos la lista ordenada que nos devuelva\n    return merge(left, right)\n\n# Creamos la lista que ordenara todos los valores de la lista dividida\ndef merge(left: list, right: list):\n    result = list() # Creamos una lista\n\n    \"\"\"\n    Creamos un bucle para ordenar ambas listas si alguna de estas dos no estan vacias \n    mientras la lista left y right no sean None puede continuar el while\n    \"\"\"\n    while left and right: \n        # Si el primer valor de left es menor o igual a right, lo guardaremos en la lista result\n        if left[0] <= right[0]: \n            result.append(left[0])\n            left = left[1:] \n        else: # Si el primer valor de right es menor o igual a left, lo guardaremos en la lista result\n            result.append(right[0])\n            right = right[1:] \n\n    # Creamos dos bucles while para ordenar las dos listas, indiferentemente de si estan vacias\n    while left:\n        result.append(left[0])\n        left = left[1:]\n\n    while right:\n        result.append(right[0])\n        right = right[1:]\n\n    # Una vez ordenada la lista la devolveremos \n    return result\n        \nprint(merge_sort(lista))",
      "metadata": {
        "trusted": true
      },
      "outputs": [
        {
          "name": "stdout",
          "text": "[2, 4, 5, 6, 8, 9, 10]\n",
          "output_type": "stream"
        }
      ],
      "execution_count": 31
    },
    {
      "cell_type": "raw",
      "source": "4º Escribe un programa que implemente una cola (queue) utilizando listas en Python",
      "metadata": {}
    },
    {
      "cell_type": "code",
      "source": "class cola: # Creamos una clase\n\n    def crear(self): # Creamos la funcion para Crear la Cola\n        self.tail = list()\n    \n    def encolar(self, dato: object): # Creamos la funcion para Encolar la Cola o insertar valores al principio de la lista\n        self.tail.insert(0, dato)\n    \n    def desencolar(self): # Creamos la funcion para Desencolar la Cola o eliminar el ultimo valor de la lista\n        self.tail.pop()\n    \n    def frente(self): # Creamos la funcion Frente para mostrar el ultimo valor de la Cola\n        return self.tail[len(self.tail) - 1]\n    \nmi_cola_procesos = cola()\n\nmi_cola_procesos.crear() # Creamos la cola\n# Insertamos varios valores\nmi_cola_procesos.encolar(2)\nmi_cola_procesos.encolar(3)\nmi_cola_procesos.encolar(4)\nmi_cola_procesos.encolar(5)\n\n# Imprimimos\nprint(\"El frontal actual es\", mi_cola_procesos.frente())\n\nmi_cola_procesos.desencolar() # Borramos el ultimo valore de la Cola\nprint(\"El frontal actual es\", mi_cola_procesos.frente()) # Imprimimos\n\nmi_cola_procesos.desencolar() # Borramos el ultimo valore de la Cola\nprint(\"El frontal actual es\", mi_cola_procesos.frente()) # Imprimimos",
      "metadata": {
        "trusted": true
      },
      "outputs": [
        {
          "name": "stdout",
          "text": "El frontal actual es 2\nEl frontal actual es 3\nEl frontal actual es 4\n",
          "output_type": "stream"
        }
      ],
      "execution_count": 33
    },
    {
      "cell_type": "raw",
      "source": "5º Crea una función que tome una lista de números y devuelva una nueva lista con los números primos de la lista original.",
      "metadata": {}
    },
    {
      "cell_type": "code",
      "source": "lista = [i for i in range(2, 257 + 1)] # Creamos una lista con valores desde 2 hasta el valor X\n\n# Creamos una funcion que pase una lista\ndef primos(numeros: list) -> list:\n    cont_positivos = 0 # Creamos un contador para contabilizar que numeros tienen mas de dos multiplos\n    num = 0 # Haremos un contador para recorrer la lista\n    longitud_lista = len(numeros) # Guardaremos la longitud de la lista\n    last_num = numeros[len(numeros) - 1] # Guardaremos el ultimo valor de la lista\n    # print(last_num)\n\n    # Controlaremos las Excepciones de IndexError\n    try:\n        while num < longitud_lista: # Creamos un bucle while para recorrer la lista con la variable num\n            num_actual = numeros[num] # Creamos una variable para guardar el numero actual de la lista\n            # print(numeros, num)\n\n            \"\"\" Haremos un bucle for para que aplique la Criba de Eratóstenes, \n            debemos utilizar el ultimo valor de la lista para indicar hasta \n            cuanto tiene que dividir \"\"\"\n            for criba in range(1, last_num + 1):\n                # print(num_actual, criba, str((num_actual // criba)), str((num_actual % criba)))\n\n                # Buscaremos todos los multiplos del numero actual (num_actual) y los contaremos\n                if num_actual % criba == 0:\n                    cont_positivos = cont_positivos + 1\n\n                # En caso de que el numero que se esta examinando, tenga más de dos multiplos se eliminara\n                if cont_positivos > 2:\n                    numeros.remove(num_actual)\n                    num = num - 1\n                    cont_positivos = 0\n                    break\n\n                # Reiniciamos el contador de multiplos cuando lleguemos al ultimo numero del for\n                if criba == last_num:\n                    cont_positivos = 0\n        \n            num = num + 1 # Avanzamos al siguiente valor de la lista\n\n    except IndexError as i:\n        pass\n    finally:\n        return numeros # Retornamos la lista\n    \nprint(primos(lista))",
      "metadata": {
        "trusted": true
      },
      "outputs": [
        {
          "name": "stdout",
          "text": "[2, 3, 5, 7, 11, 13, 17, 19, 23, 29, 31, 37, 41, 43, 47, 53, 59, 61, 67, 71, 73, 79, 83, 89, 97, 101, 103, 107, 109, 113, 127, 131, 137, 139, 149, 151, 157, 163, 167, 173, 179, 181, 191, 193, 197, 199, 211, 223, 227, 229, 233, 239, 241, 251, 257]\n",
          "output_type": "stream"
        }
      ],
      "execution_count": 28
    },
    {
      "cell_type": "raw",
      "source": "6º Crea una función que tome una lista de números y devuelva una nueva lista con los números ordenados de menor a mayor.",
      "metadata": {}
    },
    {
      "cell_type": "code",
      "source": "lista = [5,1,2,4,3,9,8,7,6]\n\n# Realizamos una funcion que devuelve la lista ordenada\ndef ordenar(lista_num: list[int]) -> list[int]:\n    return sorted(lista_num)\n\nprint(lista)\nprint(ordenar(lista)) # La usamos",
      "metadata": {
        "trusted": true
      },
      "outputs": [
        {
          "name": "stdout",
          "text": "[5, 1, 2, 4, 3, 9, 8, 7, 6]\n[1, 2, 3, 4, 5, 6, 7, 8, 9]\n",
          "output_type": "stream"
        }
      ],
      "execution_count": 25
    },
    {
      "cell_type": "code",
      "source": "7º Crea una función que tome una cadena y devuelva `True` si la cadena es un palíndromo y `False` en caso contrario.",
      "metadata": {
        "trusted": true
      },
      "outputs": [],
      "execution_count": null
    },
    {
      "cell_type": "code",
      "source": "# Creamos una funcion cadena que reciba una cadena\ndef palindromo(cadena: str) -> bool:\n    matriz = list(cadena) # Convertimos la cadena en una lista y la guardamos\n    revertida = list(reversed(matriz)) # Copiamos la lista, revertimos sus valores y la guardamos\n    for cad in range(0, len(matriz)): # Crearemos un bucle para recorrer la lista con un range\n        if matriz[cad] != revertida[cad]: # Comparamos las dos listas para ver si la cadena tiene alguna diferencia\n            return False # Devuelve False si no es palindromo\n    \n    return True # Devuelve False si es palindromo\n\nprint(palindromo(\"ana\"))\nprint(palindromo(\"Miguel\"))\nprint(palindromo(\"121\"))\nprint(palindromo(\"1212\"))",
      "metadata": {
        "trusted": true
      },
      "outputs": [
        {
          "name": "stdout",
          "text": "True\nFalse\nTrue\nFalse\n",
          "output_type": "stream"
        }
      ],
      "execution_count": 36
    },
    {
      "cell_type": "raw",
      "source": "8º Crea una función que tome una cadena y devuelva un diccionario con la frecuencia de cada carácter en la cadena.",
      "metadata": {}
    },
    {
      "cell_type": "code",
      "source": "# Creamos una funcion cadena que reciba una cadena\ndef contador_frecuencia(cadena: str):\n    resultado = dict() # Crearemos un diccionario\n\n    # Pasamos el String a una lista, y esa lista le quitamos las redundacias convirtiendola en set (conjunto)\n    muestra = set(list(cadena))\n\n    # Realizamos un bucle for al set para comprobar los caracteres existentes en la cadena y contar sus repeticiones\n    for letter in muestra:\n        # Guardaremos las letras como clave y su numero de repeticiones como valor\n        resultado[letter] = str(cadena.count(letter))\n\n    # Devolvemos el diccionario\n    return resultado\n\n# Usamos la funcion\nprint(contador_frecuencia(\"Bienvenido\"))",
      "metadata": {
        "trusted": true
      },
      "outputs": [
        {
          "name": "stdout",
          "text": "{'v': '1', 'd': '1', 'e': '2', 'B': '1', 'n': '2', 'o': '1', 'i': '2'}\n",
          "output_type": "stream"
        }
      ],
      "execution_count": 35
    },
    {
      "cell_type": "raw",
      "source": "9º Escribe un programa que implemente una pila (stack) utilizando listas en Python.",
      "metadata": {}
    },
    {
      "cell_type": "code",
      "source": "class pila: # Creamos la clase de Pila\n\n    # Iniciamos la clase con el limite de valores que puede tener dicha pila y la lista que hara de pila \n    def __init__(self, limite: int) -> None:\n        self.__limite = int(limite)\n        self.__pila = list()\n\n    # Creamos una funcion que inserte o Apile valores en la Pila si no se alcanza el limite establecido\n    def apilar(self, dato: object = None):\n\n        if len(self.__pila) >= self.__limite:\n            raise Exception(\"Exception StackOverflow\")\n        \n        self.__pila.append(dato)\n\n    # Creamos una funcion que elimine o Retire valores en la Pila si la lista que hace de Pila no esta vacia\n    def retirar(self):\n        if len(self.__pila) <= 0:\n            raise IndexError(\"The list is empty\")\n        \n        self.__pila.pop()\n\n    # Creamos la funcion que pedira la Pila\n    def get_pila(self):\n        return self.__pila\n    \nmi_pila = pila(3) # Creamos la pila\n\nmi_pila.apilar(\"a\") # Apilamos valor en la pila\nprint(mi_pila.get_pila()) # Imprimimos la pila\nmi_pila.apilar(\"b\") # Apilamos valor en la pila\nprint(mi_pila.get_pila()) # Imprimimos la pila\nmi_pila.apilar(\"c\") # Apilamos valor en la pila\nprint(mi_pila.get_pila()) # Imprimimos la pila\n\nmi_pila.retirar() # Retiramos valor de la pila\n\nmi_pila.apilar(\"d\") # Apilamos valor\nprint(mi_pila.get_pila()) # Imprimimos la pila\n\nmi_pila.retirar() # Retiramos valor de la pila\nmi_pila.retirar()# Retiramos valor de la pila\nmi_pila.apilar(2)  # Apilamos valor en la pila\nprint(mi_pila.get_pila()) # Imprimimos la pila",
      "metadata": {
        "trusted": true
      },
      "outputs": [
        {
          "name": "stdout",
          "text": "['a']\n['a', 'b']\n['a', 'b', 'c']\n['a', 'b', 'd']\n['a', 2]\n",
          "output_type": "stream"
        }
      ],
      "execution_count": 37
    },
    {
      "cell_type": "raw",
      "source": "10º Escribe un programa que implemente el algoritmo de búsqueda binaria.",
      "metadata": {}
    },
    {
      "cell_type": "code",
      "source": "lista = [5,2,1,9,8,7,6] # Creamos la lista\nlista = sorted(lista) # Para que funciones un algoritmo de busqueda binaria se necesita ordenar la lista primero\n\n# Creamos una funcion que reciba la lista, el tamaño de la lista, y el dato a buscar\ndef busqueda_binaria(vector: list[int], size_vector: int, data_search: int):\n    # Creamos las variables\n    centro: int\n    inf: int = 0\n    sup: int = size_vector - 1\n\n    # Creamos un while para buscar el valor, mediante sublistas\n    while inf <= sup:\n        # Buscaremos el indice del valor central de la sublista\n        centro = ((sup - inf) // 2) + inf\n        \n        if vector[centro] == data_search: # Si encuentra el valor lo devulve\n            return centro\n        elif data_search < vector[centro]:\n            \"\"\"\n            Si el valor a buscar es menor que el valor actual \n            se creara una sublista indicando con el calculo\n            que ahora el limite de la lista sera menor\n            \"\"\"\n            sup = centro - 1\n        else:\n            \"\"\"\n            Si el valor a buscar es mayor que el valor actual \n            se creara una sublista con este calculo\n            \"\"\"\n            inf = centro + 1\n\n    return -1\n\nprint(busqueda_binaria(lista, len(lista), 1))\nprint(busqueda_binaria(lista, len(lista), 2))\nprint(busqueda_binaria(lista, len(lista), 9))",
      "metadata": {
        "trusted": true
      },
      "outputs": [
        {
          "name": "stdout",
          "text": "0\n1\n6\n",
          "output_type": "stream"
        }
      ],
      "execution_count": 21
    },
    {
      "cell_type": "code",
      "source": "",
      "metadata": {
        "trusted": true
      },
      "outputs": [],
      "execution_count": null
    }
  ]
}