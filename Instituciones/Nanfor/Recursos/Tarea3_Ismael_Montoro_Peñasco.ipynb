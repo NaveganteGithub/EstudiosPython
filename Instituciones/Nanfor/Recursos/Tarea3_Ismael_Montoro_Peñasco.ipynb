{
 "cells": [
  {
   "cell_type": "markdown",
   "metadata": {},
   "source": [
    "# Tarea 3\n",
    "En esta última tarea se resolverán ejercicios básicos de la teoría vista en los temas 6 y 8. Es recomendable utilizar el entorno web de JupyterLab aunque es posible también abrir el archivo en Visual Studio Code si se han instalado las extensiones de Python y Jupyter. En las celdas vacías se ha de escribir el código en Python correspondiente al enunciado con un breve comentario que explique lo que realiza cada línea de código (en las celdas de código es con un símbolo # al inicio de la línea). \n",
    "\n",
    "\r\n",
    "La dificultad de los ejercicios está acorde con el alcance del curso, se pueden encontrar ejercicios más avanzados con solución si se quiere profundizar en alguno de los temas en https://w3resource.com/python-exercises/"
   ]
  },
  {
   "attachments": {},
   "cell_type": "markdown",
   "metadata": {},
   "source": [
    "### Tema 6. Programación orientada a objetos\n",
    "Es recomendable repasar la teoría y el vídeo de ejercicios resueltos del tema "
   ]
  },
  {
   "attachments": {},
   "cell_type": "markdown",
   "metadata": {},
   "source": [
    "#### Ejercicio 1\n",
    "Escribir el códido Python para la creación de una clase Persona con atributos *nombre*, *edad* y *ciudad* y un método descripción que imprima los atributos "
   ]
  },
  {
   "cell_type": "code",
   "execution_count": 30,
   "metadata": {},
   "outputs": [
    {
     "name": "stdout",
     "output_type": "stream",
     "text": [
      "Mi nombre es Alfredo tengo 25 años y vivo en Mallorca\n",
      "Mi nombre es Daniel tengo 23 años y vivo en Madrid\n"
     ]
    }
   ],
   "source": [
    "class Persona:\n",
    "    nombre = ''\n",
    "    edad = ''\n",
    "    ciudad = ''\n",
    "    def descripcion(self):\n",
    "        print(f\"Mi nombre es {self.nombre} tengo {self.edad} años y vivo en {self.ciudad}\")\n",
    "        return\n",
    "        \n",
    "person = Persona()\n",
    "person.nombre = \"Alfredo\"\n",
    "person.edad = \"25\"\n",
    "person.ciudad = \"Mallorca\"\n",
    "person.descripcion()\n",
    "person.nombre = \"Daniel\"\n",
    "person.edad = \"23\"\n",
    "person.ciudad = \"Madrid\"\n",
    "person.descripcion()"
   ]
  },
  {
   "attachments": {},
   "cell_type": "markdown",
   "metadata": {},
   "source": [
    "#### Ejercicio 2\n",
    "Reescribir el código de forma que al crear una instancia de Persona, nombre, edad y ciudad, éstos sean parámetros. Añadir además un método *trasladar* que modifique la ciudad"
   ]
  },
  {
   "cell_type": "code",
   "execution_count": 2,
   "metadata": {},
   "outputs": [
    {
     "name": "stdout",
     "output_type": "stream",
     "text": [
      "Mi nombre es Alfredo tengo 25 años y vivo en Mallorca\n",
      "Mi nombre es Alfredo tengo 25 años y vivo en Madrid\n",
      "Mi nombre es Daniel tengo 23 años y vivo en Madrid\n",
      "Mi nombre es Daniel tengo 23 años y vivo en Mallorca\n"
     ]
    }
   ],
   "source": [
    "class Persona:\n",
    "    def __init__(self, nombre, edad, ciudad):\n",
    "        self.nombre = nombre\n",
    "        self.edad = edad\n",
    "        self.ciudad = ciudad \n",
    "        return\n",
    "    def descripcion(self):\n",
    "        print(f\"Mi nombre es {self.nombre} tengo {self.edad} años y vivo en {self.ciudad}\")\n",
    "        return\n",
    "    def trasladar(self, ciudad):\n",
    "        self.ciudad = ciudad\n",
    "        \n",
    "person = Persona(\"Alfredo\", \"25\", \"Mallorca\")\n",
    "person.descripcion()\n",
    "person.trasladar(\"Madrid\")\n",
    "person.descripcion()\n",
    "\n",
    "person = Persona(\"Daniel\", \"23\", \"Madrid\")\n",
    "person.descripcion()\n",
    "person.trasladar(\"Mallorca\")\n",
    "person.descripcion()"
   ]
  },
  {
   "attachments": {},
   "cell_type": "markdown",
   "metadata": {},
   "source": [
    "#### Ejercicio 3\n",
    "Escribir el código Python que cree una clase Empleado con un constructor con parametros *nombre* y *apellido*, un atributo encapsulado *extension de correo* de valor @miempresa.com y un método *mostrarDatos* que imprima la direccion de correo completa: nombreapellido@miempresa.com"
   ]
  },
  {
   "cell_type": "code",
   "execution_count": 37,
   "metadata": {},
   "outputs": [
    {
     "name": "stdout",
     "output_type": "stream",
     "text": [
      "Mi nombre es Lorenzo Castilla y mi correo electronico de empresa es lorenzocastilla@miempresa.com\n",
      "Mi nombre es Alberto Leon y mi correo electronico de empresa es albertoleon@miempresa.com\n"
     ]
    }
   ],
   "source": [
    "class Empleado:\n",
    "    def __init__(self, nombre, apellido):\n",
    "        self.nombre = nombre\n",
    "        self.apellido = apellido\n",
    "        self.extension_de_correo = \"@miempresa.com\"\n",
    "    def mostrarDatos(self):\n",
    "        print(f\"Mi nombre es {self.nombre} {self.apellido} y mi correo electronico de empresa es {self.nombre.lower() + self.apellido.lower() + self.extension_de_correo}\")\n",
    "\n",
    "empleado = Empleado(\"Lorenzo\", \"Castilla\")\n",
    "empleado.mostrarDatos()\n",
    "empleado = Empleado(\"Alberto\", \"Leon\")\n",
    "empleado.mostrarDatos()"
   ]
  },
  {
   "attachments": {},
   "cell_type": "markdown",
   "metadata": {},
   "source": [
    "#### Ejercicio 4\n",
    "Crear una clase Programador que herede de la clase Empleado, añada el atributo *Departamento* y sobrecargue el método *mostrarDatos* para añadir el nuevo atributo"
   ]
  },
  {
   "cell_type": "code",
   "execution_count": 52,
   "metadata": {},
   "outputs": [
    {
     "name": "stdout",
     "output_type": "stream",
     "text": [
      "Mi nombre es Daniel Maroto y mi correo electronico de empresa es danielmaroto@miempresa.com y yo trabajo en el departamento de Programacion\n",
      "Mi nombre es Lucia Avila y mi correo electronico de empresa es luciaavila@miempresa.com y yo trabajo en el departamento de Desarrollo\n",
      "Mi nombre es Emilia Peña y mi correo electronico de empresa es emiliapeña@miempresa.com y yo trabajo en el departamento de Mantenimiento\n"
     ]
    }
   ],
   "source": [
    "class Programador(Empleado):\n",
    "    def __init__(self, nombre, apellido, departamento):\n",
    "        self.nombre = nombre\n",
    "        self.apellido = apellido\n",
    "        self.extension_de_correo = \"@miempresa.com\"\n",
    "        self.Departamento = departamento\n",
    "    def mostrarDatos(self):\n",
    "        print(f\"Mi nombre es {self.nombre} {self.apellido} y mi correo electronico de empresa es {self.nombre.lower() + self.apellido.lower() + self.extension_de_correo} y yo trabajo en el departamento de {self.Departamento}\")\n",
    "\n",
    "programador = Programador(\"Daniel\", \"Maroto\", \"Programacion\")\n",
    "programador.mostrarDatos()\n",
    "programador = Programador(\"Lucia\", \"Avila\", \"Desarrollo\")\n",
    "programador.mostrarDatos()\n",
    "programador = Programador(\"Emilia\", \"Peña\", \"Mantenimiento\")\n",
    "programador.mostrarDatos()"
   ]
  },
  {
   "attachments": {},
   "cell_type": "markdown",
   "metadata": {},
   "source": [
    "#### Ejercicio 5\n",
    "Crear una clase adicional Directivo que también herede de Empleado, con un atributo *supervisaDpto*, un método interno *informeTrimestral* que devuelva True o False si está elaborado y un método sobrecargado *mostrarDatos*. Crear una instancia del tipo directivo y comprobar la pertenencia a las tres clases"
   ]
  },
  {
   "cell_type": "code",
   "execution_count": 55,
   "metadata": {},
   "outputs": [
    {
     "name": "stdout",
     "output_type": "stream",
     "text": [
      "Soy el director Andres Gallardo y mi correo electronico coorporativo es andresgallardo@miempresa.com\n",
      "Esta supervisando el departamento Programacion.\n",
      "Mi nombre es Lucia Avila y mi correo electronico de empresa es luciaavila@miempresa.com y yo trabajo en el departamento de Desarrollo\n",
      "Mi nombre es Alberto Leon y mi correo electronico de empresa es albertoleon@miempresa.com\n"
     ]
    }
   ],
   "source": [
    "class Directivo(Empleado):\n",
    "    def __init__(self, nombre, apellido, supervisaDpto=''):\n",
    "        self.nombre = nombre\n",
    "        self.apellido = apellido\n",
    "        self.extension_de_correo = \"@miempresa.com\"\n",
    "        self.supervisaDpto = supervisaDpto\n",
    "        \n",
    "    def mostrarDatos(self):\n",
    "        print(f\"Soy el director {self.nombre} {self.apellido} y mi correo electronico coorporativo es {self.nombre.lower() + self.apellido.lower() + self.extension_de_correo}\")\n",
    "        if self.informeTrimestral():\n",
    "            print(\"Esta supervisando el departamento\", self.supervisaDpto + \".\")\n",
    "        else:\n",
    "            print(\"No esta supervisando ningun departamento.\")\n",
    "            \n",
    "    def informeTrimestral(self):\n",
    "        return len(self.supervisaDpto) > 0\n",
    "\n",
    "\n",
    "directivo = Directivo(\"Andres\", \"Gallardo\", \"Programacion\")\n",
    "directivo.mostrarDatos()\n",
    "programador = Programador(\"Lucia\", \"Avila\", \"Desarrollo\")\n",
    "programador.mostrarDatos()\n",
    "empleado = Empleado(\"Alberto\", \"Leon\")\n",
    "empleado.mostrarDatos()"
   ]
  },
  {
   "cell_type": "markdown",
   "metadata": {},
   "source": [
    "### Tema 8. Otros temas avanzados y Python\n",
    "Es recomendable repasar la teoría y el vídeo de ejercicios resueltos del tema "
   ]
  },
  {
   "cell_type": "markdown",
   "metadata": {},
   "source": [
    "#### Ejercicio 6\n",
    "Escribir un programa que convierta una frase en una lista de palabras y devuelva la longitud de la palabra más larga"
   ]
  },
  {
   "cell_type": "code",
   "execution_count": 61,
   "metadata": {},
   "outputs": [
    {
     "name": "stdin",
     "output_type": "stream",
     "text": [
      "Introduce una frase:  Mi nombre es Alfredo y vivo en Santander\n"
     ]
    },
    {
     "name": "stdout",
     "output_type": "stream",
     "text": [
      "La palabra mas larga es \"Santander\" que tiene una longitud de 9 caracteres.\n"
     ]
    }
   ],
   "source": [
    "frase = input(\"Introduce una frase: \").split()\n",
    "longitud_palabra_maxima = 0\n",
    "longitud_palabra = 0\n",
    "palabra_maxima = ''\n",
    "longitud_lista = len(frase)\n",
    "\n",
    "for posicion_lista in range(0, longitud_lista):\n",
    "    longitud_palabra = len(frase[posicion_lista])\n",
    "    if longitud_palabra > longitud_palabra_maxima:\n",
    "        longitud_palabra_maxima = longitud_palabra\n",
    "        palabra_maxima = frase[posicion_lista]\n",
    "\n",
    "print(f\"La palabra mas larga es \\\"{palabra_maxima}\\\" que tiene una longitud de {longitud_palabra_maxima} caracteres.\")"
   ]
  },
  {
   "cell_type": "markdown",
   "metadata": {},
   "source": [
    "#### Ejercicio 7\n",
    "Escribir una función etiqueta() que pida un tipo de etiqueta HTML (p,b,i,a) y una palabra y devuelva el formato correcto en HTML. Ejemplo etiqueta('b','Palabra') devuelve \"\\<b>Palabra\\<b/>\" "
   ]
  },
  {
   "cell_type": "code",
   "execution_count": 69,
   "metadata": {},
   "outputs": [
    {
     "name": "stdout",
     "output_type": "stream",
     "text": [
      "<p>Patata</p>\n",
      "<b>Necesito albondigas</b>\n",
      "<i>Tambien necesito agua</i>\n",
      "<a>Pagina en construcion</a>\n",
      "<link /> es una etiqueta vacia, no puede tener contenido.\n"
     ]
    }
   ],
   "source": [
    "def etiqueta(tag, word):\n",
    "    listado_de_etiquetas = ('meta', 'link')\n",
    "    if tag.lower() not in listado_de_etiquetas:\n",
    "        return f\"<{tag}>{word}</{tag}>\"\n",
    "    else:\n",
    "        return f\"<{tag} /> es una etiqueta vacia, no puede tener contenido.\"\n",
    "\n",
    "print(etiqueta('p', 'Patata'))\n",
    "print(etiqueta('b', 'Necesito albondigas'))\n",
    "print(etiqueta('i', 'Tambien necesito agua'))\n",
    "print(etiqueta('a', 'Pagina en construcion'))\n",
    "print(etiqueta('link', 'Patata'))"
   ]
  },
  {
   "cell_type": "markdown",
   "metadata": {},
   "source": [
    "#### Ejercicio 8\n",
    "Escribir un programa que convierta de notación numérica inglesa a española y viceversa (intercambie comas y puntos)"
   ]
  },
  {
   "cell_type": "code",
   "execution_count": 122,
   "metadata": {},
   "outputs": [
    {
     "name": "stdout",
     "output_type": "stream",
     "text": [
      "El numero 1.000.000,10 se ha convertido a 1,000,000.10\n",
      "El numero 1,000,000.10 se ha convertido a 1.000.000,10\n",
      "El numero 1.000.000 se ha convertido a 1,000,000\n",
      "El numero 1.000 se ha convertido a 1,000\n",
      "El numero 1,000,000 se ha convertido a 1.000.000\n",
      "El numero 1,000 se ha convertido a 1.000\n"
     ]
    }
   ],
   "source": [
    "def conversion_notacion_numerica(numero):\n",
    "    numero_comas = numero.count(',')\n",
    "    numero_puntos = numero.count('.')\n",
    "    if numero_comas == 1 and numero_puntos > 1:\n",
    "        lista_division = numero.split(',')\n",
    "        lista_division = \",\".join(lista_division[0].split('.')) + '.' + lista_division[1]\n",
    "    elif numero_puntos == 1 and numero_comas > 1:\n",
    "        lista_division = numero.split('.')\n",
    "        lista_division = \".\".join(lista_division[0].split(',')) + ',' + lista_division[1]\n",
    "    elif numero_comas >= 1:\n",
    "        lista_division = '.'.join(numero.split(','))\n",
    "    elif numero_puntos >= 1:\n",
    "        lista_division = ','.join(numero.split('.'))\n",
    "\n",
    "    return lista_division\n",
    "\n",
    "lista_numeros = [\"1.000.000,10\", \"1,000,000.10\", \"1.000.000\", \"1.000\", \"1,000,000\", \"1,000\"]\n",
    "\n",
    "for numero_a_convertir in lista_numeros:\n",
    "    print(\"El numero \" + numero_a_convertir + \" se ha convertido a \" + conversion_notacion_numerica(numero_a_convertir))"
   ]
  },
  {
   "cell_type": "markdown",
   "metadata": {},
   "source": [
    "#### Ejercicio 9\n",
    "Escribir un programa que cuente el número de letras mayúsculas, minúsculas, números y símbolos de una cadena de texto (ver métodos de cadenas)."
   ]
  },
  {
   "cell_type": "code",
   "execution_count": 34,
   "metadata": {},
   "outputs": [
    {
     "name": "stdout",
     "output_type": "stream",
     "text": [
      "En la cadena Hola Amigo hay 2 mayusculas, 7 minusculas, 0 digitos numericos, 1 simbolos\n",
      "En la cadena abcdefghijklmnopqrstuvwxyzABCDEFGHIJKLMNOPQRSTUVWXYZ0123456789 hay 26 mayusculas, 26 minusculas, 10 digitos numericos, 0 simbolos\n",
      "En la cadena d8asd8yas8%$#% hay 0 mayusculas, 7 minusculas, 3 digitos numericos, 4 simbolos\n"
     ]
    }
   ],
   "source": [
    "def analisis_cadena(cadena):\n",
    "    num_minusculas = 0\n",
    "    num_mayusculas = 0\n",
    "    num_digitos = 0\n",
    "    num_simbolos = 0\n",
    "    for caracter in cadena:\n",
    "        if caracter.isupper(): # Mayusculas\n",
    "            num_mayusculas += 1\n",
    "        elif caracter.islower(): # Minusculas\n",
    "            num_minusculas += 1\n",
    "        elif caracter.isdigit(): # Numeros\n",
    "            num_digitos += 1\n",
    "        else: # Simbolos\n",
    "            num_simbolos += 1\n",
    "\n",
    "    return [num_mayusculas, num_minusculas, num_digitos, num_simbolos]\n",
    "\n",
    "lista_cadenas = [\"Hola Amigo\", \n",
    "                 \"abcdefghijklmnopqrstuvwxyzABCDEFGHIJKLMNOPQRSTUVWXYZ0123456789\",\n",
    "                 \"d8asd8yas8%$#%\"\n",
    "                ]\n",
    "\n",
    "for cadena in lista_cadenas:\n",
    "    resultado = analisis_cadena(cadena)\n",
    "    print(\"En la cadena\", cadena, \"hay\", \n",
    "      resultado[0], \"mayusculas,\",\n",
    "      resultado[1], \"minusculas,\",\n",
    "      resultado[2], \"digitos numericos,\",\n",
    "      resultado[3], \"simbolos\"\n",
    "    )"
   ]
  },
  {
   "cell_type": "markdown",
   "metadata": {},
   "source": [
    "#### Ejercicio 10\n",
    "Escribir un programa que pida un número al usuario y mediante un bucle elabore un diccionario cuyas claves sean los números hasta ese número y los valores el cuadrado de esos números. Ejemplo: 3, dic={1:1, 2:4, 3:9}"
   ]
  },
  {
   "cell_type": "code",
   "execution_count": 37,
   "metadata": {},
   "outputs": [
    {
     "name": "stdin",
     "output_type": "stream",
     "text": [
      "Introduce un numero:  5\n"
     ]
    },
    {
     "name": "stdout",
     "output_type": "stream",
     "text": [
      "{1: 1, 2: 4, 3: 9, 4: 16, 5: 25}\n"
     ]
    }
   ],
   "source": [
    "numero = int(input(\"Introduce un numero: \"))\n",
    "diccionario = dict()\n",
    "\n",
    "for numero in range(1, numero + 1):\n",
    "    diccionario[numero] = numero ** 2\n",
    "\n",
    "print(diccionario)"
   ]
  },
  {
   "cell_type": "markdown",
   "metadata": {},
   "source": [
    "#### Ejercicio 11\n",
    "Escribir un programa que genere un diccionario a partir de dos listas "
   ]
  },
  {
   "cell_type": "code",
   "execution_count": 44,
   "metadata": {},
   "outputs": [
    {
     "name": "stdout",
     "output_type": "stream",
     "text": [
      "{12: 45, 11: 15}\n"
     ]
    }
   ],
   "source": [
    "lista1 = [12, 45]\n",
    "lista2 = [11, 15]\n",
    "diccionario = dict()\n",
    "\n",
    "for lista in lista1, lista2:\n",
    "    diccionario[lista[0]] = lista[1]    \n",
    "\n",
    "print(diccionario)"
   ]
  },
  {
   "cell_type": "markdown",
   "metadata": {},
   "source": [
    "#### Ejercicio 12\n",
    "Escribir un programa que pida una cadena de texto y cree un diccionario cuyas claves sean las letras distintas de la cadena y los valores sean el número de veces que aparece cada letra"
   ]
  },
  {
   "cell_type": "code",
   "execution_count": 52,
   "metadata": {},
   "outputs": [
    {
     "name": "stdin",
     "output_type": "stream",
     "text": [
      "Introduce un texto:  Hola buenas\n"
     ]
    },
    {
     "name": "stdout",
     "output_type": "stream",
     "text": [
      "{'h': 1, 'a': 2, 'u': 1, 'b': 1, 's': 1, 'e': 1, 'n': 1, 'o': 1, 'l': 1}\n"
     ]
    }
   ],
   "source": [
    "cadena = input(\"Introduce un texto: \").lower()\n",
    "conjunto = set(cadena)\n",
    "diccionario = dict()\n",
    "\n",
    "for letra in conjunto:\n",
    "    if letra.isalnum():\n",
    "        diccionario[letra] = cadena.count(letra)\n",
    "\n",
    "print(diccionario)"
   ]
  },
  {
   "cell_type": "markdown",
   "metadata": {},
   "source": [
    "#### Ejercicio 13\n",
    "Escribir un programa que pida un número *n* por pantalla e imprima las primeras *n* líneas de un archivo de texto "
   ]
  },
  {
   "cell_type": "code",
   "execution_count": 23,
   "metadata": {},
   "outputs": [
    {
     "name": "stdin",
     "output_type": "stream",
     "text": [
      "Escribe un numero de lineas a imprimir:  4\n"
     ]
    },
    {
     "name": "stdout",
     "output_type": "stream",
     "text": [
      "Linea 1 : Lorem Ipsum\n",
      "\n",
      "Linea 2 : \"Neque quisquam est qui dolorem ipsum quia dolor sit amet, consectetur, adipisci velit...\"\n",
      "\n",
      "Linea 3 : \"No hay nadie que ame el dolor mismo, que lo busque, lo encuentre y lo quiera, simplemente porque es el dolor.\"\n",
      "\n",
      "Linea 4 : Lorem ipsum dolor sit amet, consectetur adipiscing elit. Vivamus eget ex ut nunc posuere lobortis. Phasellus tempus augue vel dui accumsan ultrices. Phasellus feugiat convallis facilisis. Nam tincidunt enim lorem, in auctor augue gravida vitae. Curabitur pulvinar lorem eget massa pellentesque, at fringilla libero hendrerit. Nullam a sapien sit amet mauris luctus pharetra eget tempor odio. Nullam at arcu eros. Donec id leo sed mauris sodales pretium. Donec lorem metus, scelerisque ut lacus vitae, pulvinar scelerisque metus. Nunc eu lorem vitae ligula tempor mattis non sed diam. Fusce eu laoreet tellus, eu auctor ex. Praesent aliquet nisi eu augue rutrum porta. Sed vulputate justo vel nibh sodales semper. Cras ultrices laoreet neque eu posuere.\n",
      "\n"
     ]
    }
   ],
   "source": [
    "numero_lineas = int(input(\"Escribe un numero de lineas a imprimir: \"))\n",
    "\n",
    "with open(\"pruebas.txt\", \"r\") as archivo:\n",
    "    leido = archivo.readlines()\n",
    "    for num in range(0, numero_lineas):\n",
    "        print(\"Linea\", num + 1, \":\", leido[num])"
   ]
  },
  {
   "cell_type": "markdown",
   "metadata": {},
   "source": [
    "#### Ejercicio 14\n",
    "Ampliar el ejercicio 10 para que el diccionario se guarde en un archivo"
   ]
  },
  {
   "cell_type": "code",
   "execution_count": 24,
   "metadata": {},
   "outputs": [
    {
     "name": "stdout",
     "output_type": "stream",
     "text": [
      "{12: 45, 11: 15}\n"
     ]
    }
   ],
   "source": [
    "lista1 = [12, 45]\n",
    "lista2 = [11, 15]\n",
    "diccionario = dict()\n",
    "\n",
    "for lista in lista1, lista2:\n",
    "    diccionario[lista[0]] = lista[1]    \n",
    "\n",
    "with open(\"diccionario_1.txt\", \"w\") as archivo:\n",
    "    archivo.write(str(diccionario))\n",
    "\n",
    "with open(\"diccionario_1.txt\", \"r\") as archivo:\n",
    "    leido = archivo.read()\n",
    "    print(leido)"
   ]
  },
  {
   "cell_type": "markdown",
   "metadata": {},
   "source": [
    "#### Ejercicio 15\n",
    "Escribir un programa que lea las líneas de un archivo txt y que guarde las impares en un archivo impares.txt y las pares en otro pares.txt"
   ]
  },
  {
   "cell_type": "code",
   "execution_count": 25,
   "metadata": {},
   "outputs": [],
   "source": [
    "lineas_pares = list()\n",
    "lineas_impares = list()\n",
    "\n",
    "with open(\"pruebas.txt\", \"r\") as archivo:\n",
    "    leido = archivo.readlines()\n",
    "    for num in range(0, len(leido)):\n",
    "        if (num + 1) % 2 == 0:\n",
    "            lineas_pares.append(leido[num])\n",
    "        else:\n",
    "            lineas_impares.append(leido[num])\n",
    "\n",
    "with open(\"impares.txt\", \"w\") as archivo:\n",
    "    for linea in lineas_impares:\n",
    "        archivo.write(linea)\n",
    "        \n",
    "with open(\"pares.txt\", \"w\") as archivo:\n",
    "    for linea in lineas_pares:\n",
    "        archivo.write(linea)"
   ]
  },
  {
   "cell_type": "markdown",
   "metadata": {},
   "source": [
    "#### Ejercicio 16\n",
    "Escribir un programa que intente abrir un archivo inexistente capturando el error y devolviendo un aviso de que no existe el archivo"
   ]
  },
  {
   "cell_type": "code",
   "execution_count": 26,
   "metadata": {},
   "outputs": [
    {
     "name": "stdout",
     "output_type": "stream",
     "text": [
      "No existe el archivo.\n"
     ]
    }
   ],
   "source": [
    "try:\n",
    "    file = open(\"diccionario_2.txt\", \"r\")\n",
    "    file.read()\n",
    "    file.close()\n",
    "except FileNotFoundError:\n",
    "    print(\"No existe el archivo.\")"
   ]
  },
  {
   "cell_type": "markdown",
   "metadata": {},
   "source": [
    "#### Ejercicio 17\n",
    "Escribir un programa que lea un archivo de texto e imprima por pantalla las 20 primeras líneas. Si el archivo no tiene 20 líneas debe capturar el tipo de error correcto y mostrar un aviso de \"Se ha llegado al final del archivo\""
   ]
  },
  {
   "cell_type": "code",
   "execution_count": 34,
   "metadata": {},
   "outputs": [
    {
     "name": "stdout",
     "output_type": "stream",
     "text": [
      "Lorem Ipsum\n",
      "\n",
      "\"Neque quisquam est qui dolorem ipsum quia dolor sit amet, consectetur, adipisci velit...\"\n",
      "\n",
      "\"No hay nadie que ame el dolor mismo, que lo busque, lo encuentre y lo quiera, simplemente porque es el dolor.\"\n",
      "\n",
      "Lorem ipsum dolor sit amet, consectetur adipiscing elit. Vivamus eget ex ut nunc posuere lobortis. Phasellus tempus augue vel dui accumsan ultrices. Phasellus feugiat convallis facilisis. Nam tincidunt enim lorem, in auctor augue gravida vitae. Curabitur pulvinar lorem eget massa pellentesque, at fringilla libero hendrerit. Nullam a sapien sit amet mauris luctus pharetra eget tempor odio. Nullam at arcu eros. Donec id leo sed mauris sodales pretium. Donec lorem metus, scelerisque ut lacus vitae, pulvinar scelerisque metus. Nunc eu lorem vitae ligula tempor mattis non sed diam. Fusce eu laoreet tellus, eu auctor ex. Praesent aliquet nisi eu augue rutrum porta. Sed vulputate justo vel nibh sodales semper. Cras ultrices laoreet neque eu posuere.\n",
      "\n",
      "Se ha llegado al final del archivo.\n"
     ]
    }
   ],
   "source": [
    "with open(\"pruebas_less_20_Lineas.txt\", \"r\") as archivo:\n",
    "    leido = archivo.readlines()\n",
    "    try:\n",
    "        for num in range(0, 20):\n",
    "            print(leido[num])\n",
    "    except IndexError:\n",
    "        print(\"\\nSe ha llegado al final del archivo.\")"
   ]
  },
  {
   "cell_type": "code",
   "execution_count": null,
   "metadata": {},
   "outputs": [],
   "source": []
  }
 ],
 "metadata": {
  "kernelspec": {
   "display_name": "Python 3 (ipykernel)",
   "language": "python",
   "name": "python3"
  },
  "language_info": {
   "codemirror_mode": {
    "name": "ipython",
    "version": 3
   },
   "file_extension": ".py",
   "mimetype": "text/x-python",
   "name": "python",
   "nbconvert_exporter": "python",
   "pygments_lexer": "ipython3",
   "version": "3.11.4"
  }
 },
 "nbformat": 4,
 "nbformat_minor": 4
}
