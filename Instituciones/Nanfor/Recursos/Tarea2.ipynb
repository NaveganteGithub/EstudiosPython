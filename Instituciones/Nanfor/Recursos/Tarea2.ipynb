{
 "cells": [
  {
   "attachments": {},
   "cell_type": "markdown",
   "metadata": {},
   "source": [
    "# Tarea 2\n",
    "\n",
    "En la tarea 2 se resolverán ejercicios básicos de los temas 4 (bases de datos), 5 (representación gráfica) y 6 (programación orientada a objetos. Es recomendable utilizar el entorno web de JupyterLab aunque es posible también abrir el archivo en Visual Studio Code si se han instalado las extensiones de Python y Jupyter. En las celdas vacías se ha de escribir el código SQL o Python correspondiente al enunciado con un breve comentario que explique lo que realiza el código (en las celdas de código es con un símbolo # al inicio de la línea)\n",
    "\n",
    "La dificultad de los ejercicios está acorde con el alcance del curso, se pueden encontrar ejercicios más avanzados con solución si se quiere profundizar en alguno de los temas en https://w3resource.com/python-exercises/"
   ]
  },
  {
   "attachments": {},
   "cell_type": "markdown",
   "metadata": {},
   "source": [
    "### Tema 4. Acceso a bases de datos SQL con Python\n",
    "\n",
    "Es recomendable ver la teoría y el vídeo de ejercicios resueltos del tema 4. Las celdas con las respuestas en lenguaje SQL son celdas de texto, no se pueden ejecutar."
   ]
  },
  {
   "attachments": {},
   "cell_type": "markdown",
   "metadata": {},
   "source": [
    "#### Ejercicio 1\n",
    "Escribir el código SQL para una query de la base de datos Chinook en la que se muestren todos los nombres de tipos de medio posibles (MediaType)"
   ]
  },
  {
   "attachments": {},
   "cell_type": "markdown",
   "metadata": {},
   "source": []
  },
  {
   "attachments": {},
   "cell_type": "markdown",
   "metadata": {},
   "source": [
    "#### Ejercicio 2\n",
    "Escribir el código SQL para un consulta que muestre todas las playlists de música clásica"
   ]
  },
  {
   "attachments": {},
   "cell_type": "markdown",
   "metadata": {},
   "source": []
  },
  {
   "attachments": {},
   "cell_type": "markdown",
   "metadata": {},
   "source": [
    "#### Ejercicio 3\n",
    "Escribir el código SQL para un consulta que muestre nombre, apellidos y fecha de contratación de los empleados cuyo nombre empiece por M y ordenados por fecha de nacimiento"
   ]
  },
  {
   "attachments": {},
   "cell_type": "markdown",
   "metadata": {},
   "source": []
  },
  {
   "attachments": {},
   "cell_type": "markdown",
   "metadata": {},
   "source": [
    "#### Ejercicio 4\n",
    "Escribir el código en Python que solicite el correo de todos los empleados los muestre por pantalla"
   ]
  },
  {
   "cell_type": "code",
   "execution_count": null,
   "metadata": {},
   "outputs": [],
   "source": []
  },
  {
   "attachments": {},
   "cell_type": "markdown",
   "metadata": {},
   "source": [
    "#### Ejercicio 5\n",
    "Escribir el código en Python que conecte con la base de datos Chinook, solicite el título de todos los albumes cuyo nombre contenga la palabra \"of\" y los muestre por pantalla"
   ]
  },
  {
   "cell_type": "code",
   "execution_count": null,
   "metadata": {},
   "outputs": [],
   "source": []
  },
  {
   "attachments": {},
   "cell_type": "markdown",
   "metadata": {},
   "source": [
    "#### Ejercicio 6\n",
    "Escribir el código en Python que conecte con la base de datos Chinook, solicite todas las pistas de David Coverdale (también colaboraciones) y las muestre por pantalla por orden descendente de bytes"
   ]
  },
  {
   "cell_type": "code",
   "execution_count": null,
   "metadata": {},
   "outputs": [],
   "source": []
  },
  {
   "attachments": {},
   "cell_type": "markdown",
   "metadata": {},
   "source": [
    "### Tema 5. Introducción a la representación gráfica con Python\n",
    "Es recomendable repasar la teoría y el vídeo de ejercicios resueltos del tema y tener instaladas todas las librerías de Python necesarias (ipython, numpy, pandas, matplotlib). Es necesario descargar el archivo datasets.zip que contiene los archivos con extensión .csv para realizar los ejerecicios. Descomprimirlos en el mismo directorio donde está el archivo Tarea2.ipynb\n"
   ]
  },
  {
   "attachments": {},
   "cell_type": "markdown",
   "metadata": {},
   "source": [
    "#### Ejercicio 7\n",
    "Escribir una función que reciba un diccionario con las notas de los alumnos de un curso y devuelva una serie (pd.Series) con las notas de los alumnos aprobados ordenadas de mayor a menor."
   ]
  },
  {
   "cell_type": "code",
   "execution_count": null,
   "metadata": {},
   "outputs": [],
   "source": []
  },
  {
   "attachments": {},
   "cell_type": "markdown",
   "metadata": {},
   "source": [
    "#### Ejercicio 8\n",
    "Escribir una función que construya un DataFrame a partir del fichero cotizacion.csv y devuelva otro DataFrame con el mínimo, el máximo y la media de cada columna."
   ]
  },
  {
   "cell_type": "code",
   "execution_count": null,
   "metadata": {},
   "outputs": [],
   "source": []
  },
  {
   "attachments": {},
   "cell_type": "markdown",
   "metadata": {},
   "source": [
    "#### Ejercicio 9\n",
    "Crear un df desde el archivo automobile_data.csv y encontrar la media de precio por fabricante"
   ]
  },
  {
   "cell_type": "code",
   "execution_count": null,
   "metadata": {},
   "outputs": [],
   "source": []
  },
  {
   "attachments": {},
   "cell_type": "markdown",
   "metadata": {},
   "source": [
    "#### Ejercicio 10\n",
    "A partir del archivo annual.csv crear un DataFrame. Representar gráficamente en una figura de líneas los datos del df"
   ]
  },
  {
   "cell_type": "code",
   "execution_count": null,
   "metadata": {},
   "outputs": [],
   "source": []
  },
  {
   "attachments": {},
   "cell_type": "markdown",
   "metadata": {},
   "source": [
    "#### Ejercicio 11\n",
    "Con el df anterior, representar en una figura dos gráficos de líneas dependiendo de la fuente (GCAG o GISTEMP) con colores diferentes, leyenda, títulos individuales y un título global"
   ]
  },
  {
   "cell_type": "code",
   "execution_count": null,
   "metadata": {},
   "outputs": [],
   "source": []
  },
  {
   "attachments": {},
   "cell_type": "markdown",
   "metadata": {},
   "source": [
    "#### Ejercicio 12\n",
    "A partir del archivo company_sales.csv crear un df y representar en un único gráfico multilíneas las ventas de cada producto según el mes. "
   ]
  },
  {
   "cell_type": "code",
   "execution_count": null,
   "metadata": {},
   "outputs": [],
   "source": []
  },
  {
   "attachments": {},
   "cell_type": "markdown",
   "metadata": {},
   "source": [
    "#### Ejercicio 13\n",
    "Utilizando la librería tkinter y etiquetas de texto dibujar el resultado final de una partida de 3 en raya (X y O) en una ventana con un grid de 3x3."
   ]
  },
  {
   "cell_type": "code",
   "execution_count": null,
   "metadata": {},
   "outputs": [],
   "source": []
  },
  {
   "attachments": {},
   "cell_type": "markdown",
   "metadata": {},
   "source": [
    "#### Ejercicio 14\n",
    "Utilizando la librería *random* de python, crear una ventana con un botón que al pulsarlo devuelva un número aleatorio del 1 al 20"
   ]
  },
  {
   "cell_type": "code",
   "execution_count": null,
   "metadata": {},
   "outputs": [],
   "source": []
  },
  {
   "attachments": {},
   "cell_type": "markdown",
   "metadata": {},
   "source": [
    "#### Ejercicio 15\n",
    "Crear una ventana con un aviso de estar de que el pc está infectado por un virus y que debe visitar una web inventada y añadir dos botones Aceptar (no hace nada) y Cancelar (cierra la ventana). La ventana tiene que estar organizada de forma convincente, con dimensiones y márgenes. "
   ]
  },
  {
   "cell_type": "code",
   "execution_count": null,
   "metadata": {},
   "outputs": [],
   "source": []
  }
 ],
 "metadata": {
  "kernelspec": {
   "display_name": "Python 3 (ipykernel)",
   "language": "python",
   "name": "python3"
  },
  "language_info": {
   "codemirror_mode": {
    "name": "ipython",
    "version": 3
   },
   "file_extension": ".py",
   "mimetype": "text/x-python",
   "name": "python",
   "nbconvert_exporter": "python",
   "pygments_lexer": "ipython3",
   "version": "3.11.3"
  }
 },
 "nbformat": 4,
 "nbformat_minor": 4
}
