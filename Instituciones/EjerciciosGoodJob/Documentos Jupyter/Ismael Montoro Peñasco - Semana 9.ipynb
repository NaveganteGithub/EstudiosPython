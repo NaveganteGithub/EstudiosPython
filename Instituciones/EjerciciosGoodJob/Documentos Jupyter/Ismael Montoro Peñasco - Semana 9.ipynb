{
 "cells": [
  {
   "cell_type": "raw",
   "id": "c4a94f48-8c03-42bf-94ae-1bbb0b810f72",
   "metadata": {},
   "source": [
    "1º Crea una clase iterable básica."
   ]
  },
  {
   "cell_type": "code",
   "execution_count": null,
   "id": "02828762-355d-44ad-af7e-e4664cd99bcf",
   "metadata": {},
   "outputs": [],
   "source": [
    "# https://dev.to/geoannycode/conceptos-avanzados-de-python-para-ser-un-profesional-en-el-lenguaje-1l7o\n"
   ]
  },
  {
   "cell_type": "raw",
   "id": "0e8241a0-d44d-40c7-92b7-2dd30bbe301d",
   "metadata": {},
   "source": [
    "2º Crea una clase que tenga la funcion __upper__() para ver en como influye en la funcion upper() de Python."
   ]
  },
  {
   "cell_type": "code",
   "execution_count": null,
   "id": "57ec9bf3-73a6-497e-a071-b5bdd6b4d43f",
   "metadata": {},
   "outputs": [],
   "source": [
    "# https://dev.to/geoannycode/conceptos-avanzados-de-python-para-ser-un-profesional-en-el-lenguaje-1l7o\n"
   ]
  },
  {
   "cell_type": "raw",
   "id": "7df4bc02-c186-4110-bd6f-f1c524e1e681",
   "metadata": {},
   "source": [
    "3º Intenta averguar lo que es un nodo en Python y en un sentido de algoritmos de datos."
   ]
  },
  {
   "cell_type": "code",
   "execution_count": null,
   "id": "566fbbe2-fdf8-4906-a2e9-a23176493762",
   "metadata": {},
   "outputs": [],
   "source": []
  },
  {
   "cell_type": "raw",
   "id": "4439fb16-dee5-4275-9e4b-0e221cb3d74f",
   "metadata": {},
   "source": [
    "4º Divide un archivo de video en varias partes y vuelve a juntar todas las partes en mismo archivo de video. Utiliza el algoritmo SHA-512 para comprobar la integridad del video restaurado."
   ]
  },
  {
   "cell_type": "code",
   "execution_count": null,
   "id": "7ebb03d3-c434-4d88-81a0-4ce486898cdd",
   "metadata": {},
   "outputs": [],
   "source": []
  }
 ],
 "metadata": {
  "kernelspec": {
   "display_name": "Python 3 (ipykernel)",
   "language": "python",
   "name": "python3"
  },
  "language_info": {
   "codemirror_mode": {
    "name": "ipython",
    "version": 3
   },
   "file_extension": ".py",
   "mimetype": "text/x-python",
   "name": "python",
   "nbconvert_exporter": "python",
   "pygments_lexer": "ipython3",
   "version": "3.11.5"
  }
 },
 "nbformat": 4,
 "nbformat_minor": 5
}
